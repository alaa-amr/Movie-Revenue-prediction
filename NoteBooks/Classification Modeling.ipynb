{
  "cells": [
    {
      "cell_type": "code",
      "execution_count": null,
      "metadata": {
        "colab": {
          "base_uri": "https://localhost:8080/"
        },
        "id": "J_D6N2ZNXa_C",
        "outputId": "bf38eb80-635f-461b-dd85-05b29a7e17f5"
      },
      "outputs": [
        {
          "name": "stdout",
          "output_type": "stream",
          "text": [
            "Looking in indexes: https://pypi.org/simple, https://us-python.pkg.dev/colab-wheels/public/simple/\n",
            "Collecting category_encoders\n",
            "  Downloading category_encoders-2.4.1-py2.py3-none-any.whl (80 kB)\n",
            "\u001b[K     |████████████████████████████████| 80 kB 3.9 MB/s \n",
            "\u001b[?25hRequirement already satisfied: numpy>=1.14.0 in /usr/local/lib/python3.7/dist-packages (from category_encoders) (1.21.6)\n",
            "Requirement already satisfied: scipy>=1.0.0 in /usr/local/lib/python3.7/dist-packages (from category_encoders) (1.4.1)\n",
            "Requirement already satisfied: statsmodels>=0.9.0 in /usr/local/lib/python3.7/dist-packages (from category_encoders) (0.10.2)\n",
            "Requirement already satisfied: scikit-learn>=0.20.0 in /usr/local/lib/python3.7/dist-packages (from category_encoders) (1.0.2)\n",
            "Requirement already satisfied: patsy>=0.5.1 in /usr/local/lib/python3.7/dist-packages (from category_encoders) (0.5.2)\n",
            "Requirement already satisfied: pandas>=0.21.1 in /usr/local/lib/python3.7/dist-packages (from category_encoders) (1.3.5)\n",
            "Requirement already satisfied: pytz>=2017.3 in /usr/local/lib/python3.7/dist-packages (from pandas>=0.21.1->category_encoders) (2022.1)\n",
            "Requirement already satisfied: python-dateutil>=2.7.3 in /usr/local/lib/python3.7/dist-packages (from pandas>=0.21.1->category_encoders) (2.8.2)\n",
            "Requirement already satisfied: six in /usr/local/lib/python3.7/dist-packages (from patsy>=0.5.1->category_encoders) (1.15.0)\n",
            "Requirement already satisfied: joblib>=0.11 in /usr/local/lib/python3.7/dist-packages (from scikit-learn>=0.20.0->category_encoders) (1.1.0)\n",
            "Requirement already satisfied: threadpoolctl>=2.0.0 in /usr/local/lib/python3.7/dist-packages (from scikit-learn>=0.20.0->category_encoders) (3.1.0)\n",
            "Installing collected packages: category-encoders\n",
            "Successfully installed category-encoders-2.4.1\n"
          ]
        },
        {
          "name": "stderr",
          "output_type": "stream",
          "text": [
            "/usr/local/lib/python3.7/dist-packages/statsmodels/tools/_testing.py:19: FutureWarning: pandas.util.testing is deprecated. Use the functions in the public API at pandas.testing instead.\n",
            "  import pandas.util.testing as tm\n"
          ]
        }
      ],
      "source": [
        "!pip install category_encoders\n",
        "import numpy as np\n",
        "import pandas as pd\n",
        "import matplotlib.pyplot as plt\n",
        "import sklearn as sk\n",
        "from sklearn.preprocessing import StandardScaler\n",
        "from category_encoders import TargetEncoder\n",
        "from sklearn.preprocessing import OneHotEncoder \n",
        "from datetime import datetime\n",
        "import seaborn as sns\n",
        "from sklearn import linear_model\n",
        "from sklearn.model_selection import train_test_split\n",
        "from sklearn.preprocessing import PolynomialFeatures\n",
        "from sklearn import metrics\n",
        "import time\n",
        "from sklearn.preprocessing import LabelEncoder\n",
        "import pickle"
      ]
    },
    {
      "cell_type": "code",
      "execution_count": null,
      "metadata": {
        "id": "WbbmfzkuY_-q"
      },
      "outputs": [],
      "source": [
        "def dumppers(string1,string2):\n",
        "  file = open(string1, 'wb')\n",
        "\n",
        "  # dump information to that file\n",
        "  pickle.dump(string2, file)\n",
        "\n",
        "  # close the file\n",
        "  file.close()"
      ]
    },
    {
      "cell_type": "code",
      "execution_count": null,
      "metadata": {
        "id": "efRrJsE5XsJs"
      },
      "outputs": [],
      "source": [
        "data3 = pd.read_csv(\"movies-revenue-classification.csv\")\n",
        "data1 = pd.read_csv(\"movie-director.csv\") #name\n",
        "data2 = pd.read_csv(\"movie-voice-actors.csv\") #movie\n"
      ]
    },
    {
      "cell_type": "code",
      "execution_count": null,
      "metadata": {
        "id": "B-8i4ygzYU2r"
      },
      "outputs": [],
      "source": [
        "data1.rename(columns={'name': 'movie_title'}, inplace=True)\n",
        "data2.rename(columns={'movie': 'movie_title'}, inplace=True)"
      ]
    },
    {
      "cell_type": "code",
      "execution_count": null,
      "metadata": {
        "id": "IrN_T9xCZHK0"
      },
      "outputs": [],
      "source": [
        "data = pd.merge(data3,data1[['movie_title','director']],on='movie_title', how='left')"
      ]
    },
    {
      "cell_type": "code",
      "execution_count": null,
      "metadata": {
        "id": "E8E__tlxZlzv"
      },
      "outputs": [],
      "source": [
        "data_actors= data2.groupby('movie_title')['voice-actor'].agg(list)"
      ]
    },
    {
      "cell_type": "code",
      "execution_count": null,
      "metadata": {
        "id": "Si6SiSw6ZL97"
      },
      "outputs": [],
      "source": [
        "my_data = pd.merge(data,data_actors,on='movie_title', how='left')"
      ]
    },
    {
      "cell_type": "code",
      "execution_count": null,
      "metadata": {
        "colab": {
          "base_uri": "https://localhost:8080/"
        },
        "id": "j-BXrouIY3vI",
        "outputId": "ee2f99ea-e3cc-4596-9211-84c47472c6fb"
      },
      "outputs": [
        {
          "data": {
            "text/plain": [
              "movie_title            0\n",
              "release_date           0\n",
              "genre                 14\n",
              "MPAA_rating           47\n",
              "MovieSuccessLevel      0\n",
              "director             428\n",
              "voice-actor          424\n",
              "dtype: int64"
            ]
          },
          "execution_count": 8,
          "metadata": {},
          "output_type": "execute_result"
        }
      ],
      "source": [
        "my_data.isnull().sum()"
      ]
    },
    {
      "cell_type": "code",
      "execution_count": null,
      "metadata": {
        "id": "kFjcFm3MaR7o"
      },
      "outputs": [],
      "source": [
        "my_data['release_date'] = pd.to_datetime(my_data['release_date'])\n",
        "my_data['release_date'] = pd.DatetimeIndex(my_data['release_date']).year"
      ]
    },
    {
      "cell_type": "code",
      "execution_count": null,
      "metadata": {
        "colab": {
          "base_uri": "https://localhost:8080/"
        },
        "id": "D_EjmZukZ21T",
        "outputId": "857356cc-62be-4068-95a3-7e8e79979fff"
      },
      "outputs": [
        {
          "name": "stdout",
          "output_type": "stream",
          "text": [
            "Looking in indexes: https://pypi.org/simple, https://us-python.pkg.dev/colab-wheels/public/simple/\n",
            "Collecting tmdbv3api\n",
            "  Downloading tmdbv3api-1.7.6-py2.py3-none-any.whl (17 kB)\n",
            "Requirement already satisfied: requests in /usr/local/lib/python3.7/dist-packages (from tmdbv3api) (2.23.0)\n",
            "Requirement already satisfied: urllib3!=1.25.0,!=1.25.1,<1.26,>=1.21.1 in /usr/local/lib/python3.7/dist-packages (from requests->tmdbv3api) (1.24.3)\n",
            "Requirement already satisfied: certifi>=2017.4.17 in /usr/local/lib/python3.7/dist-packages (from requests->tmdbv3api) (2022.5.18.1)\n",
            "Requirement already satisfied: chardet<4,>=3.0.2 in /usr/local/lib/python3.7/dist-packages (from requests->tmdbv3api) (3.0.4)\n",
            "Requirement already satisfied: idna<3,>=2.5 in /usr/local/lib/python3.7/dist-packages (from requests->tmdbv3api) (2.10)\n",
            "Installing collected packages: tmdbv3api\n",
            "Successfully installed tmdbv3api-1.7.6\n"
          ]
        }
      ],
      "source": [
        "!pip install tmdbv3api\n",
        "from tmdbv3api import TMDb\n",
        "tmdb = TMDb()\n",
        "tmdb.api_key = 'f28265b95227d640ac243fdb15a509a6'"
      ]
    },
    {
      "cell_type": "code",
      "execution_count": null,
      "metadata": {
        "id": "sGvLeBR_Z-JY"
      },
      "outputs": [],
      "source": [
        "tmdb.language = 'en'\n",
        "tmdb.debug = True"
      ]
    },
    {
      "cell_type": "code",
      "execution_count": null,
      "metadata": {
        "id": "KO3CcnhyaHu_"
      },
      "outputs": [],
      "source": [
        "from tmdbv3api import Movie\n",
        "movie = Movie()"
      ]
    },
    {
      "cell_type": "code",
      "execution_count": null,
      "metadata": {
        "id": "F1GbuycpaKG5"
      },
      "outputs": [],
      "source": [
        "for index, row in my_data.iterrows():\n",
        "  if(row[\"release_date\"] > 2022):\n",
        "    my_data.at[index,\"release_date\"] = row[\"release_date\"] - 100"
      ]
    },
    {
      "cell_type": "code",
      "execution_count": null,
      "metadata": {
        "colab": {
          "background_save": true
        },
        "id": "9KIrJb_LbXEq"
      },
      "outputs": [],
      "source": [
        "cnt = 0\n",
        "for index, row in my_data.iterrows():\n",
        "  if pd.isna(my_data.iloc[index,5]):\n",
        "    search = movie.search(row[\"movie_title\"])\n",
        "    for res in search:\n",
        "      #if res.original_title == row[\"movie_title\"]:\n",
        "      if \"release_date\" in res.keys():\n",
        "        if str(row[\"release_date\"]) in res.release_date:\n",
        "          crew = movie.credits(res.id)[\"crew\"]\n",
        "          for x in crew:\n",
        "            if(x[\"job\"].lower() == \"director\"):\n",
        "              cnt = cnt + 1\n",
        "              my_data.at[index,\"director\"] = x.name\n",
        "              #df.loc[len(df.index)] = [res.original_title, x.name] \n",
        "             # print(res.original_title+ \",  \"+ x.name)\n",
        "              break;\n",
        "          break;\n",
        "      \n",
        "#print(cnt)"
      ]
    },
    {
      "cell_type": "code",
      "execution_count": null,
      "metadata": {
        "colab": {
          "background_save": true,
          "base_uri": "https://localhost:8080/"
        },
        "id": "23nDB2zjbprp",
        "outputId": "9020bb81-0437-49dc-eefc-b60db143a9cc"
      },
      "outputs": [
        {
          "data": {
            "text/plain": [
              "movie_title            0\n",
              "release_date           0\n",
              "genre                 14\n",
              "MPAA_rating           47\n",
              "MovieSuccessLevel      0\n",
              "director              19\n",
              "voice-actor          424\n",
              "dtype: int64"
            ]
          },
          "execution_count": null,
          "metadata": {},
          "output_type": "execute_result"
        }
      ],
      "source": [
        "my_data.isnull().sum()"
      ]
    },
    {
      "cell_type": "code",
      "execution_count": null,
      "metadata": {
        "colab": {
          "background_save": true
        },
        "id": "vRALms_GyiRj"
      },
      "outputs": [],
      "source": [
        "dic = dict()\n",
        "for index, row in my_data.iterrows():      \n",
        "    if row[\"director\"] in dic.keys():\n",
        "      dic[row[\"director\"]]= dic[row[\"director\"]]+1\n",
        "    else:\n",
        "      dic[row[\"director\"]]=1"
      ]
    },
    {
      "cell_type": "code",
      "execution_count": null,
      "metadata": {
        "colab": {
          "background_save": true,
          "base_uri": "https://localhost:8080/"
        },
        "id": "cCI8UhnCKu6L",
        "outputId": "2fdaf50b-1f76-414b-88c7-22ba1e296cfa"
      },
      "outputs": [
        {
          "name": "stdout",
          "output_type": "stream",
          "text": [
            "{'Chuck Sheetz': 1, 'Sam Weisman': 2, 'Will Finn': 1, 'Simon Wincer': 2, 'Brian Gibson': 1, 'Hamilton Luske': 2, 'Rob Pritts': 1, 'Frank Coraci': 2, 'Anthony Russo': 2, 'Gore Verbinski': 3, 'Jay Russell': 2, 'David McNally': 1, 'Randall Miller': 1, 'Warren Beatty': 1, 'Bill Duke': 2, 'Bob Hathcock': 1, 'Mark Herman': 1, 'Gary Trousdale': 3, 'John R. Cherry III': 4, 'Peyton Reed': 1, 'Brian Robbins': 1, 'Wes Anderson': 3, 'Gábor Csupó': 1, 'David Frankel': 1, 'John Lasseter': 5, 'Emile Ardolino': 2, 'Stuart Orme': 1, 'M. Night Shyamalan': 3, 'Albert Hughes': 1, 'Niki Caro': 1, 'Taylor Hackford': 1, 'Joss Whedon': 2, 'Gil Junger': 1, nan: 19, 'Frank Perry': 1, 'Luis Mandoki': 2, 'Leonard Nimoy': 2, 'Steven Lawrence': 1, 'Garry Marshall': 6, 'Steve Trenbirth': 1, 'Patrick Hasburgh': 1, 'Peter Bogdanovich': 1, 'Spike Lee': 3, 'Adam Shankman': 3, 'James Neilson': 1, 'Scott Derrickson': 1, 'Les Mayfield': 2, 'George Butler': 1, 'Thom Eberhardt': 2, 'George P. Cosmatos': 1, 'Barry Levinson': 2, 'Jack Donohue': 1, 'Peter Yates': 2, 'Peter Sohn': 1, 'William Dear': 1, 'Jeff Kanew': 1, 'Jack Clayton': 1, 'Joe Johnston': 1, 'John Badham': 1, 'Jon Turteltaub': 9, 'Deran Sarafian': 1, 'Mel Gibson': 1, 'Ericson Core': 1, 'Ron Underwood': 1, 'Damian Harris': 2, 'Carroll Ballard': 1, 'Oliver Truman': 1, 'Christopher Menaul': 1, 'Scott Frank': 1, 'James Bobin': 3, 'Steven Hilliard Stern': 1, 'Andrew Adamson': 2, 'Michael Mann': 1, 'Jonathan Prince': 1, 'Michael Bay': 3, 'Peter Weir': 2, 'Shawn Levy': 1, 'Michael Gottlieb': 1, 'Charles Jarrott': 2, 'Alastair Fothergill': 4, 'Rob Marshall': 2, 'Andrew Stanton': 3, 'Lasse Hallström': 2, 'Richard Rush': 1, 'David Mirkin': 1, 'Jeff Blyth': 1, 'Francis Ford Coppola': 2, 'Dan Scanlon': 1, 'Bill Condon': 1, 'Barbet Schroeder': 1, 'Brad Silberling': 1, 'Sidney Lumet': 2, 'Jim Fall': 1, 'Todd Holland': 1, 'John Stockwell': 1, 'Chris Columbus': 2, 'Andy Fickman': 3, 'Ron Howard': 2, 'Robert Zemeckis': 2, 'Derek Cianfrance': 1, 'Andrew Davis': 2, 'Wolfgang Reitherman': 5, 'Stephen Herek': 4, 'Mike Gabriel': 1, 'Penny Marshall': 2, 'Darrell James Roodt': 2, 'Michael Tuchner': 1, 'Sara Sugarman': 1, 'Ron Shelton': 2, 'Mike Newell': 1, 'Steve Rash': 2, 'Ken Olin': 1, 'Ridley Scott': 3, 'David S. Goyer': 1, 'James Cameron': 1, 'Paul Mazursky': 2, 'Steven Spielberg': 1, 'Steven Lisberger': 1, 'William Nicholson': 1, 'Ken Scott': 1, 'Jim Kouf': 1, 'Peter Hewitt': 1, 'Edward Norton': 1, 'George Armitage': 1, 'Mike Binder': 1, 'Ron Clements': 6, 'Robert Benton': 1, 'Charles T. Kanganis': 1, 'Bob Balaban': 1, 'Marek Kanievska': 1, 'Barry Sonnenfeld': 1, 'Alex Kurtzman': 1, 'Simon Wells': 1, 'Martha Coolidge': 1, 'Mike Mitchell': 2, 'Joel Schumacher': 2, 'Tim Hill': 1, 'Roland Joffé': 1, 'Rob Lieberman': 1, 'Pete Docter': 2, 'Frank Marshall': 3, 'Huw Bowen': 1, 'full credits': 1, 'Tony Scott': 2, 'David Kellogg': 1, 'Stephen J. Anderson': 2, 'Jun Falkenstein': 1, 'Steven Brill': 1, 'Frank Oz': 1, 'Rob Minkoff': 1, 'Garth Jennings': 1, 'Robert Stevenson': 3, 'Frank Nissen': 1, 'Kevin Costner': 1, 'Annabel Jankel': 2, 'Steve Boyum': 1, 'Toni Myers': 1, 'Gary Rydstrom': 1, 'Robert Redford': 2, 'Anne Fletcher': 2, 'John Landis': 1, 'Nancy Meyers': 1, 'Michael Katleman': 1, 'Rob Bowman': 1, 'Donald Shebib': 1, 'Ralph Zondag': 1, 'John McTiernan': 2, 'Brenda Chapman': 1, 'Mira Nair': 1, 'Barnet Kellman': 1, 'John Erman': 1, 'Anthony Waller': 1, 'Jeremiah S. Chechik': 1, 'Nathan Greno': 1, 'Tim Burton': 2, 'James Melkonian': 1, 'Amy Holden Jones': 1, 'Richard Fleischer': 1, 'Stephen Sommers': 1, 'James Ivory': 1, 'Jon Favreau': 1, 'Boaz Yakin': 1, 'Nigel Cole': 2, 'Randal Kleiser': 2, 'Louis Schwartsberg': 1, 'Joshua Michael Stern': 1, 'David Lynch': 1, 'Kevin Lima': 3, 'Byron Howard': 1, 'Arlene Sanford': 2, 'Emilio Estevez': 1, 'Robin Budd': 1, 'Brad Bird': 3, 'Randall Wallace': 1, 'Jocelyn Moorhouse': 1, 'Brian De Palma': 1, 'Robert Walker': 1, 'David Hand': 1, 'Lee Unkrich': 1, \"Gavin O'Connor\": 1, 'Donald Petrie': 1, 'Joe Camp': 1, 'Mikael Salomon': 1, 'Walt Becker': 1, 'Clyde Geronimi': 1, 'Jessica Bendinger': 1, 'Peter Chelsom': 2, 'Norman Tokar': 1, 'Gillies MacKinnon': 1, 'John Boorman': 1, 'Hayao Miyazaki': 1, 'Michael Dinner': 1, 'Bill Paxton': 1, 'Steven Zaillian': 1, 'Victor Salva': 1, 'William Brent Bell': 1, 'Bob Spiers': 1, 'Brian Henson': 1, 'Jon M. Chu': 2, 'Michael Lembeck': 2, 'Roger Donaldson': 2, 'Ramón Menéndez': 1, 'Charles Shyer': 2, 'John Pasquin': 1, 'Tim Hunter': 1, 'James Lapine': 1, 'Christopher Cain': 1, 'Gareth Edwards': 1, 'Jerry Rees': 1, 'Blair Hayes': 1, 'Bill L. Norton': 1, 'Art Stevens': 1, 'Mel Smith': 1, 'Wesley Strick': 1, 'Rupert Wainwright': 1, 'James Gunn': 1, 'Kenny Ortega': 1, 'David Lowery': 1, 'Delbert Mann': 1, 'Chris Sanders': 1, 'Thomas Carter': 1, 'Tom Dey': 1, 'John N. Smith': 1, 'Jonathan Lynn': 1, 'Frederik Du Chau': 1, 'Nick Castle': 1, 'Oliver Stone': 1, 'Ted Demme': 1, 'Tim Fywell': 1, 'Antoine Fuqua': 1, 'Steve Oedekerk': 1, 'Angela Robinson': 1, 'Wilfred Jackson': 3, 'Chris Buck': 2, 'Satyajit Bhatkal': 1, 'Arthur Hiller': 1, 'Eric Blakeney': 1, 'James Orr': 2, 'Vincent McEveety': 1, 'Alan Parker': 1, 'Walter Salles': 1, 'Francis Glebas': 1, 'Paul Michael Glaser': 2, 'Kevin Reynolds': 1, 'David S. Ward': 1, 'Mark Steven Johnson': 2, 'John Lee Hancock': 2, 'Antonia Bird': 1, 'Charles Martin Smith': 1, 'David Green': 1, 'Ted Berman': 1, 'Sam Raimi': 1, 'Joe Nussbaum': 1, 'Justin Lin': 1, 'Peter Hastings': 1, 'Roberts Gannaway': 1, 'Andy Wilson': 1, 'Kelly Asbury': 1, 'Martin Scorsese': 1, 'Mark Dindal': 1, 'George Gallo': 1, 'Stuart Gillard': 1, 'Barry Cook': 1, 'Gary Nelson': 1, 'Allan Moyle': 1, 'Mark Monroe': 1, 'Gary Chapman': 1, 'Henry Selick': 1, 'Jay Roach': 1, 'Bruce Beresford': 1, 'Jonathan R. Betuel': 1, 'David R. Ellis': 1, 'Roger Spottiswoode': 2, 'Jacques Perrin': 1, 'Adam Bernstein': 1, 'Craig Gillespie': 1, 'David M. Evans': 1, 'Alan J. Pakula': 1, 'Peter Hedges': 2, 'Wallace Wolodarsky': 1, 'Daniel Petrie Jr.': 1, 'Rich Moore': 1, 'Shane Black': 1, 'Phillip Borsos': 1, 'Raja Gosnell': 1, 'Alan Taylor': 1, 'Bruce Hendricks': 1, 'Diane Keaton': 1, 'Francis Veber': 1, 'Miguel Arteta': 1, 'Timur Bekmambetov': 1, 'Patrick Read Johnson': 1, 'Jean-Marie Poiré': 1, 'Jeff Nathanson': 1, 'Charlie Peters': 1, 'Rick Friedberg': 1, 'Brian Levant': 1, 'Walter Murch': 1, 'Steve James': 1, 'Julie Anne Robinson': 1, 'Andy Tennant': 1}\n"
          ]
        }
      ],
      "source": [
        "print(dic)"
      ]
    },
    {
      "cell_type": "code",
      "execution_count": null,
      "metadata": {
        "colab": {
          "background_save": true,
          "base_uri": "https://localhost:8080/"
        },
        "id": "Cl8G32lOzCg7",
        "outputId": "656c68f6-9750-4be1-fb09-81ed55c75aae"
      },
      "outputs": [
        {
          "data": {
            "text/plain": [
              "5"
            ]
          },
          "execution_count": null,
          "metadata": {},
          "output_type": "execute_result"
        }
      ],
      "source": [
        "dic[\"Wolfgang Reitherman\"]"
      ]
    },
    {
      "cell_type": "code",
      "execution_count": null,
      "metadata": {
        "colab": {
          "background_save": true
        },
        "id": "HBpo0Rcihajb"
      },
      "outputs": [],
      "source": [
        "directorFq = open(\"directorFq.pkl\", \"wb\")\n",
        "pickle.dump(dic, directorFq)\n",
        "directorFq.close()"
      ]
    },
    {
      "cell_type": "code",
      "execution_count": null,
      "metadata": {
        "colab": {
          "background_save": true,
          "base_uri": "https://localhost:8080/",
          "height": 624
        },
        "id": "YR5zcK2DCL3I",
        "outputId": "1f2f7cf9-3a29-4b87-badd-4e228fac9595"
      },
      "outputs": [
        {
          "data": {
            "text/html": [
              "\n",
              "  <div id=\"df-2e3d3d2a-5dba-41a3-a764-6b1aae5d4e67\">\n",
              "    <div class=\"colab-df-container\">\n",
              "      <div>\n",
              "<style scoped>\n",
              "    .dataframe tbody tr th:only-of-type {\n",
              "        vertical-align: middle;\n",
              "    }\n",
              "\n",
              "    .dataframe tbody tr th {\n",
              "        vertical-align: top;\n",
              "    }\n",
              "\n",
              "    .dataframe thead th {\n",
              "        text-align: right;\n",
              "    }\n",
              "</style>\n",
              "<table border=\"1\" class=\"dataframe\">\n",
              "  <thead>\n",
              "    <tr style=\"text-align: right;\">\n",
              "      <th></th>\n",
              "      <th>movie_title</th>\n",
              "      <th>release_date</th>\n",
              "      <th>genre</th>\n",
              "      <th>MPAA_rating</th>\n",
              "      <th>MovieSuccessLevel</th>\n",
              "      <th>director</th>\n",
              "      <th>voice-actor</th>\n",
              "    </tr>\n",
              "  </thead>\n",
              "  <tbody>\n",
              "    <tr>\n",
              "      <th>0</th>\n",
              "      <td>Recess: School's Out</td>\n",
              "      <td>2001</td>\n",
              "      <td>Comedy</td>\n",
              "      <td>G</td>\n",
              "      <td>C</td>\n",
              "      <td>Chuck Sheetz</td>\n",
              "      <td>NaN</td>\n",
              "    </tr>\n",
              "    <tr>\n",
              "      <th>1</th>\n",
              "      <td>D2: The Mighty Ducks</td>\n",
              "      <td>1994</td>\n",
              "      <td>Comedy</td>\n",
              "      <td>PG</td>\n",
              "      <td>B</td>\n",
              "      <td>Sam Weisman</td>\n",
              "      <td>NaN</td>\n",
              "    </tr>\n",
              "    <tr>\n",
              "      <th>2</th>\n",
              "      <td>Home on the Range</td>\n",
              "      <td>2004</td>\n",
              "      <td>Comedy</td>\n",
              "      <td>PG</td>\n",
              "      <td>C</td>\n",
              "      <td>Will Finn</td>\n",
              "      <td>[Randy Quaid, Estelle Harris, Cuba Gooding Jr....</td>\n",
              "    </tr>\n",
              "    <tr>\n",
              "      <th>3</th>\n",
              "      <td>Young Black Stallion</td>\n",
              "      <td>2003</td>\n",
              "      <td>Adventure</td>\n",
              "      <td>G</td>\n",
              "      <td>D</td>\n",
              "      <td>Simon Wincer</td>\n",
              "      <td>NaN</td>\n",
              "    </tr>\n",
              "    <tr>\n",
              "      <th>4</th>\n",
              "      <td>What's Love Got to Do With It</td>\n",
              "      <td>1993</td>\n",
              "      <td>Drama</td>\n",
              "      <td>R</td>\n",
              "      <td>B</td>\n",
              "      <td>Brian Gibson</td>\n",
              "      <td>NaN</td>\n",
              "    </tr>\n",
              "    <tr>\n",
              "      <th>...</th>\n",
              "      <td>...</td>\n",
              "      <td>...</td>\n",
              "      <td>...</td>\n",
              "      <td>...</td>\n",
              "      <td>...</td>\n",
              "      <td>...</td>\n",
              "      <td>...</td>\n",
              "    </tr>\n",
              "    <tr>\n",
              "      <th>458</th>\n",
              "      <td>Sweet Home Alabama</td>\n",
              "      <td>2002</td>\n",
              "      <td>Comedy</td>\n",
              "      <td>PG-13</td>\n",
              "      <td>B</td>\n",
              "      <td>Andy Tennant</td>\n",
              "      <td>NaN</td>\n",
              "    </tr>\n",
              "    <tr>\n",
              "      <th>459</th>\n",
              "      <td>Play it to the Bone</td>\n",
              "      <td>1999</td>\n",
              "      <td>Comedy</td>\n",
              "      <td>R</td>\n",
              "      <td>D</td>\n",
              "      <td>Ron Shelton</td>\n",
              "      <td>NaN</td>\n",
              "    </tr>\n",
              "    <tr>\n",
              "      <th>460</th>\n",
              "      <td>The Odd Life of Timothy Green</td>\n",
              "      <td>2012</td>\n",
              "      <td>Drama</td>\n",
              "      <td>PG</td>\n",
              "      <td>C</td>\n",
              "      <td>Peter Hedges</td>\n",
              "      <td>NaN</td>\n",
              "    </tr>\n",
              "    <tr>\n",
              "      <th>461</th>\n",
              "      <td>Honey I Blew Up the Kid</td>\n",
              "      <td>1992</td>\n",
              "      <td>Comedy</td>\n",
              "      <td>PG</td>\n",
              "      <td>B</td>\n",
              "      <td>Randal Kleiser</td>\n",
              "      <td>NaN</td>\n",
              "    </tr>\n",
              "    <tr>\n",
              "      <th>462</th>\n",
              "      <td>Hercules</td>\n",
              "      <td>1997</td>\n",
              "      <td>Adventure</td>\n",
              "      <td>G</td>\n",
              "      <td>B</td>\n",
              "      <td>Ron Clements</td>\n",
              "      <td>[Barbara Barrie, Hal Holbrook, Keith David, Pa...</td>\n",
              "    </tr>\n",
              "  </tbody>\n",
              "</table>\n",
              "<p>463 rows × 7 columns</p>\n",
              "</div>\n",
              "      <button class=\"colab-df-convert\" onclick=\"convertToInteractive('df-2e3d3d2a-5dba-41a3-a764-6b1aae5d4e67')\"\n",
              "              title=\"Convert this dataframe to an interactive table.\"\n",
              "              style=\"display:none;\">\n",
              "        \n",
              "  <svg xmlns=\"http://www.w3.org/2000/svg\" height=\"24px\"viewBox=\"0 0 24 24\"\n",
              "       width=\"24px\">\n",
              "    <path d=\"M0 0h24v24H0V0z\" fill=\"none\"/>\n",
              "    <path d=\"M18.56 5.44l.94 2.06.94-2.06 2.06-.94-2.06-.94-.94-2.06-.94 2.06-2.06.94zm-11 1L8.5 8.5l.94-2.06 2.06-.94-2.06-.94L8.5 2.5l-.94 2.06-2.06.94zm10 10l.94 2.06.94-2.06 2.06-.94-2.06-.94-.94-2.06-.94 2.06-2.06.94z\"/><path d=\"M17.41 7.96l-1.37-1.37c-.4-.4-.92-.59-1.43-.59-.52 0-1.04.2-1.43.59L10.3 9.45l-7.72 7.72c-.78.78-.78 2.05 0 2.83L4 21.41c.39.39.9.59 1.41.59.51 0 1.02-.2 1.41-.59l7.78-7.78 2.81-2.81c.8-.78.8-2.07 0-2.86zM5.41 20L4 18.59l7.72-7.72 1.47 1.35L5.41 20z\"/>\n",
              "  </svg>\n",
              "      </button>\n",
              "      \n",
              "  <style>\n",
              "    .colab-df-container {\n",
              "      display:flex;\n",
              "      flex-wrap:wrap;\n",
              "      gap: 12px;\n",
              "    }\n",
              "\n",
              "    .colab-df-convert {\n",
              "      background-color: #E8F0FE;\n",
              "      border: none;\n",
              "      border-radius: 50%;\n",
              "      cursor: pointer;\n",
              "      display: none;\n",
              "      fill: #1967D2;\n",
              "      height: 32px;\n",
              "      padding: 0 0 0 0;\n",
              "      width: 32px;\n",
              "    }\n",
              "\n",
              "    .colab-df-convert:hover {\n",
              "      background-color: #E2EBFA;\n",
              "      box-shadow: 0px 1px 2px rgba(60, 64, 67, 0.3), 0px 1px 3px 1px rgba(60, 64, 67, 0.15);\n",
              "      fill: #174EA6;\n",
              "    }\n",
              "\n",
              "    [theme=dark] .colab-df-convert {\n",
              "      background-color: #3B4455;\n",
              "      fill: #D2E3FC;\n",
              "    }\n",
              "\n",
              "    [theme=dark] .colab-df-convert:hover {\n",
              "      background-color: #434B5C;\n",
              "      box-shadow: 0px 1px 3px 1px rgba(0, 0, 0, 0.15);\n",
              "      filter: drop-shadow(0px 1px 2px rgba(0, 0, 0, 0.3));\n",
              "      fill: #FFFFFF;\n",
              "    }\n",
              "  </style>\n",
              "\n",
              "      <script>\n",
              "        const buttonEl =\n",
              "          document.querySelector('#df-2e3d3d2a-5dba-41a3-a764-6b1aae5d4e67 button.colab-df-convert');\n",
              "        buttonEl.style.display =\n",
              "          google.colab.kernel.accessAllowed ? 'block' : 'none';\n",
              "\n",
              "        async function convertToInteractive(key) {\n",
              "          const element = document.querySelector('#df-2e3d3d2a-5dba-41a3-a764-6b1aae5d4e67');\n",
              "          const dataTable =\n",
              "            await google.colab.kernel.invokeFunction('convertToInteractive',\n",
              "                                                     [key], {});\n",
              "          if (!dataTable) return;\n",
              "\n",
              "          const docLinkHtml = 'Like what you see? Visit the ' +\n",
              "            '<a target=\"_blank\" href=https://colab.research.google.com/notebooks/data_table.ipynb>data table notebook</a>'\n",
              "            + ' to learn more about interactive tables.';\n",
              "          element.innerHTML = '';\n",
              "          dataTable['output_type'] = 'display_data';\n",
              "          await google.colab.output.renderOutput(dataTable, element);\n",
              "          const docLink = document.createElement('div');\n",
              "          docLink.innerHTML = docLinkHtml;\n",
              "          element.appendChild(docLink);\n",
              "        }\n",
              "      </script>\n",
              "    </div>\n",
              "  </div>\n",
              "  "
            ],
            "text/plain": [
              "                       movie_title  release_date      genre MPAA_rating  \\\n",
              "0             Recess: School's Out          2001     Comedy           G   \n",
              "1             D2: The Mighty Ducks          1994     Comedy          PG   \n",
              "2                Home on the Range          2004     Comedy          PG   \n",
              "3             Young Black Stallion          2003  Adventure           G   \n",
              "4    What's Love Got to Do With It          1993      Drama           R   \n",
              "..                             ...           ...        ...         ...   \n",
              "458             Sweet Home Alabama          2002     Comedy       PG-13   \n",
              "459            Play it to the Bone          1999     Comedy           R   \n",
              "460  The Odd Life of Timothy Green          2012      Drama          PG   \n",
              "461        Honey I Blew Up the Kid          1992     Comedy          PG   \n",
              "462                       Hercules          1997  Adventure           G   \n",
              "\n",
              "    MovieSuccessLevel        director  \\\n",
              "0                   C    Chuck Sheetz   \n",
              "1                   B     Sam Weisman   \n",
              "2                   C       Will Finn   \n",
              "3                   D    Simon Wincer   \n",
              "4                   B    Brian Gibson   \n",
              "..                ...             ...   \n",
              "458                 B    Andy Tennant   \n",
              "459                 D     Ron Shelton   \n",
              "460                 C    Peter Hedges   \n",
              "461                 B  Randal Kleiser   \n",
              "462                 B    Ron Clements   \n",
              "\n",
              "                                           voice-actor  \n",
              "0                                                  NaN  \n",
              "1                                                  NaN  \n",
              "2    [Randy Quaid, Estelle Harris, Cuba Gooding Jr....  \n",
              "3                                                  NaN  \n",
              "4                                                  NaN  \n",
              "..                                                 ...  \n",
              "458                                                NaN  \n",
              "459                                                NaN  \n",
              "460                                                NaN  \n",
              "461                                                NaN  \n",
              "462  [Barbara Barrie, Hal Holbrook, Keith David, Pa...  \n",
              "\n",
              "[463 rows x 7 columns]"
            ]
          },
          "execution_count": null,
          "metadata": {},
          "output_type": "execute_result"
        }
      ],
      "source": [
        "my_data"
      ]
    },
    {
      "cell_type": "code",
      "execution_count": null,
      "metadata": {
        "colab": {
          "background_save": true
        },
        "id": "WxDWRejliuhn"
      },
      "outputs": [],
      "source": [
        "for idx,row in my_data.iterrows():\n",
        "  if pd.isna(my_data.iloc[idx,5]):\n",
        "    continue\n",
        "  my_data.at[idx,\"director\"]=dic[ my_data.at[idx,\"director\"]]"
      ]
    },
    {
      "cell_type": "code",
      "execution_count": null,
      "metadata": {
        "colab": {
          "background_save": true,
          "base_uri": "https://localhost:8080/",
          "height": 537
        },
        "id": "hkLbglFamM_N",
        "outputId": "f58f7ae5-631d-42c1-a916-90b343e26a48"
      },
      "outputs": [
        {
          "data": {
            "text/html": [
              "\n",
              "  <div id=\"df-106c10d6-fc96-4f39-a254-31f9865398d5\">\n",
              "    <div class=\"colab-df-container\">\n",
              "      <div>\n",
              "<style scoped>\n",
              "    .dataframe tbody tr th:only-of-type {\n",
              "        vertical-align: middle;\n",
              "    }\n",
              "\n",
              "    .dataframe tbody tr th {\n",
              "        vertical-align: top;\n",
              "    }\n",
              "\n",
              "    .dataframe thead th {\n",
              "        text-align: right;\n",
              "    }\n",
              "</style>\n",
              "<table border=\"1\" class=\"dataframe\">\n",
              "  <thead>\n",
              "    <tr style=\"text-align: right;\">\n",
              "      <th></th>\n",
              "      <th>movie_title</th>\n",
              "      <th>release_date</th>\n",
              "      <th>genre</th>\n",
              "      <th>MPAA_rating</th>\n",
              "      <th>MovieSuccessLevel</th>\n",
              "      <th>director</th>\n",
              "      <th>voice-actor</th>\n",
              "    </tr>\n",
              "  </thead>\n",
              "  <tbody>\n",
              "    <tr>\n",
              "      <th>0</th>\n",
              "      <td>Recess: School's Out</td>\n",
              "      <td>2001</td>\n",
              "      <td>Comedy</td>\n",
              "      <td>G</td>\n",
              "      <td>C</td>\n",
              "      <td>1</td>\n",
              "      <td>NaN</td>\n",
              "    </tr>\n",
              "    <tr>\n",
              "      <th>1</th>\n",
              "      <td>D2: The Mighty Ducks</td>\n",
              "      <td>1994</td>\n",
              "      <td>Comedy</td>\n",
              "      <td>PG</td>\n",
              "      <td>B</td>\n",
              "      <td>2</td>\n",
              "      <td>NaN</td>\n",
              "    </tr>\n",
              "    <tr>\n",
              "      <th>2</th>\n",
              "      <td>Home on the Range</td>\n",
              "      <td>2004</td>\n",
              "      <td>Comedy</td>\n",
              "      <td>PG</td>\n",
              "      <td>C</td>\n",
              "      <td>1</td>\n",
              "      <td>[Randy Quaid, Estelle Harris, Cuba Gooding Jr....</td>\n",
              "    </tr>\n",
              "    <tr>\n",
              "      <th>3</th>\n",
              "      <td>Young Black Stallion</td>\n",
              "      <td>2003</td>\n",
              "      <td>Adventure</td>\n",
              "      <td>G</td>\n",
              "      <td>D</td>\n",
              "      <td>2</td>\n",
              "      <td>NaN</td>\n",
              "    </tr>\n",
              "    <tr>\n",
              "      <th>4</th>\n",
              "      <td>What's Love Got to Do With It</td>\n",
              "      <td>1993</td>\n",
              "      <td>Drama</td>\n",
              "      <td>R</td>\n",
              "      <td>B</td>\n",
              "      <td>1</td>\n",
              "      <td>NaN</td>\n",
              "    </tr>\n",
              "    <tr>\n",
              "      <th>...</th>\n",
              "      <td>...</td>\n",
              "      <td>...</td>\n",
              "      <td>...</td>\n",
              "      <td>...</td>\n",
              "      <td>...</td>\n",
              "      <td>...</td>\n",
              "      <td>...</td>\n",
              "    </tr>\n",
              "    <tr>\n",
              "      <th>458</th>\n",
              "      <td>Sweet Home Alabama</td>\n",
              "      <td>2002</td>\n",
              "      <td>Comedy</td>\n",
              "      <td>PG-13</td>\n",
              "      <td>B</td>\n",
              "      <td>1</td>\n",
              "      <td>NaN</td>\n",
              "    </tr>\n",
              "    <tr>\n",
              "      <th>459</th>\n",
              "      <td>Play it to the Bone</td>\n",
              "      <td>1999</td>\n",
              "      <td>Comedy</td>\n",
              "      <td>R</td>\n",
              "      <td>D</td>\n",
              "      <td>2</td>\n",
              "      <td>NaN</td>\n",
              "    </tr>\n",
              "    <tr>\n",
              "      <th>460</th>\n",
              "      <td>The Odd Life of Timothy Green</td>\n",
              "      <td>2012</td>\n",
              "      <td>Drama</td>\n",
              "      <td>PG</td>\n",
              "      <td>C</td>\n",
              "      <td>2</td>\n",
              "      <td>NaN</td>\n",
              "    </tr>\n",
              "    <tr>\n",
              "      <th>461</th>\n",
              "      <td>Honey I Blew Up the Kid</td>\n",
              "      <td>1992</td>\n",
              "      <td>Comedy</td>\n",
              "      <td>PG</td>\n",
              "      <td>B</td>\n",
              "      <td>2</td>\n",
              "      <td>NaN</td>\n",
              "    </tr>\n",
              "    <tr>\n",
              "      <th>462</th>\n",
              "      <td>Hercules</td>\n",
              "      <td>1997</td>\n",
              "      <td>Adventure</td>\n",
              "      <td>G</td>\n",
              "      <td>B</td>\n",
              "      <td>6</td>\n",
              "      <td>[Barbara Barrie, Hal Holbrook, Keith David, Pa...</td>\n",
              "    </tr>\n",
              "  </tbody>\n",
              "</table>\n",
              "<p>463 rows × 7 columns</p>\n",
              "</div>\n",
              "      <button class=\"colab-df-convert\" onclick=\"convertToInteractive('df-106c10d6-fc96-4f39-a254-31f9865398d5')\"\n",
              "              title=\"Convert this dataframe to an interactive table.\"\n",
              "              style=\"display:none;\">\n",
              "        \n",
              "  <svg xmlns=\"http://www.w3.org/2000/svg\" height=\"24px\"viewBox=\"0 0 24 24\"\n",
              "       width=\"24px\">\n",
              "    <path d=\"M0 0h24v24H0V0z\" fill=\"none\"/>\n",
              "    <path d=\"M18.56 5.44l.94 2.06.94-2.06 2.06-.94-2.06-.94-.94-2.06-.94 2.06-2.06.94zm-11 1L8.5 8.5l.94-2.06 2.06-.94-2.06-.94L8.5 2.5l-.94 2.06-2.06.94zm10 10l.94 2.06.94-2.06 2.06-.94-2.06-.94-.94-2.06-.94 2.06-2.06.94z\"/><path d=\"M17.41 7.96l-1.37-1.37c-.4-.4-.92-.59-1.43-.59-.52 0-1.04.2-1.43.59L10.3 9.45l-7.72 7.72c-.78.78-.78 2.05 0 2.83L4 21.41c.39.39.9.59 1.41.59.51 0 1.02-.2 1.41-.59l7.78-7.78 2.81-2.81c.8-.78.8-2.07 0-2.86zM5.41 20L4 18.59l7.72-7.72 1.47 1.35L5.41 20z\"/>\n",
              "  </svg>\n",
              "      </button>\n",
              "      \n",
              "  <style>\n",
              "    .colab-df-container {\n",
              "      display:flex;\n",
              "      flex-wrap:wrap;\n",
              "      gap: 12px;\n",
              "    }\n",
              "\n",
              "    .colab-df-convert {\n",
              "      background-color: #E8F0FE;\n",
              "      border: none;\n",
              "      border-radius: 50%;\n",
              "      cursor: pointer;\n",
              "      display: none;\n",
              "      fill: #1967D2;\n",
              "      height: 32px;\n",
              "      padding: 0 0 0 0;\n",
              "      width: 32px;\n",
              "    }\n",
              "\n",
              "    .colab-df-convert:hover {\n",
              "      background-color: #E2EBFA;\n",
              "      box-shadow: 0px 1px 2px rgba(60, 64, 67, 0.3), 0px 1px 3px 1px rgba(60, 64, 67, 0.15);\n",
              "      fill: #174EA6;\n",
              "    }\n",
              "\n",
              "    [theme=dark] .colab-df-convert {\n",
              "      background-color: #3B4455;\n",
              "      fill: #D2E3FC;\n",
              "    }\n",
              "\n",
              "    [theme=dark] .colab-df-convert:hover {\n",
              "      background-color: #434B5C;\n",
              "      box-shadow: 0px 1px 3px 1px rgba(0, 0, 0, 0.15);\n",
              "      filter: drop-shadow(0px 1px 2px rgba(0, 0, 0, 0.3));\n",
              "      fill: #FFFFFF;\n",
              "    }\n",
              "  </style>\n",
              "\n",
              "      <script>\n",
              "        const buttonEl =\n",
              "          document.querySelector('#df-106c10d6-fc96-4f39-a254-31f9865398d5 button.colab-df-convert');\n",
              "        buttonEl.style.display =\n",
              "          google.colab.kernel.accessAllowed ? 'block' : 'none';\n",
              "\n",
              "        async function convertToInteractive(key) {\n",
              "          const element = document.querySelector('#df-106c10d6-fc96-4f39-a254-31f9865398d5');\n",
              "          const dataTable =\n",
              "            await google.colab.kernel.invokeFunction('convertToInteractive',\n",
              "                                                     [key], {});\n",
              "          if (!dataTable) return;\n",
              "\n",
              "          const docLinkHtml = 'Like what you see? Visit the ' +\n",
              "            '<a target=\"_blank\" href=https://colab.research.google.com/notebooks/data_table.ipynb>data table notebook</a>'\n",
              "            + ' to learn more about interactive tables.';\n",
              "          element.innerHTML = '';\n",
              "          dataTable['output_type'] = 'display_data';\n",
              "          await google.colab.output.renderOutput(dataTable, element);\n",
              "          const docLink = document.createElement('div');\n",
              "          docLink.innerHTML = docLinkHtml;\n",
              "          element.appendChild(docLink);\n",
              "        }\n",
              "      </script>\n",
              "    </div>\n",
              "  </div>\n",
              "  "
            ],
            "text/plain": [
              "                       movie_title  release_date      genre MPAA_rating  \\\n",
              "0             Recess: School's Out          2001     Comedy           G   \n",
              "1             D2: The Mighty Ducks          1994     Comedy          PG   \n",
              "2                Home on the Range          2004     Comedy          PG   \n",
              "3             Young Black Stallion          2003  Adventure           G   \n",
              "4    What's Love Got to Do With It          1993      Drama           R   \n",
              "..                             ...           ...        ...         ...   \n",
              "458             Sweet Home Alabama          2002     Comedy       PG-13   \n",
              "459            Play it to the Bone          1999     Comedy           R   \n",
              "460  The Odd Life of Timothy Green          2012      Drama          PG   \n",
              "461        Honey I Blew Up the Kid          1992     Comedy          PG   \n",
              "462                       Hercules          1997  Adventure           G   \n",
              "\n",
              "    MovieSuccessLevel director  \\\n",
              "0                   C        1   \n",
              "1                   B        2   \n",
              "2                   C        1   \n",
              "3                   D        2   \n",
              "4                   B        1   \n",
              "..                ...      ...   \n",
              "458                 B        1   \n",
              "459                 D        2   \n",
              "460                 C        2   \n",
              "461                 B        2   \n",
              "462                 B        6   \n",
              "\n",
              "                                           voice-actor  \n",
              "0                                                  NaN  \n",
              "1                                                  NaN  \n",
              "2    [Randy Quaid, Estelle Harris, Cuba Gooding Jr....  \n",
              "3                                                  NaN  \n",
              "4                                                  NaN  \n",
              "..                                                 ...  \n",
              "458                                                NaN  \n",
              "459                                                NaN  \n",
              "460                                                NaN  \n",
              "461                                                NaN  \n",
              "462  [Barbara Barrie, Hal Holbrook, Keith David, Pa...  \n",
              "\n",
              "[463 rows x 7 columns]"
            ]
          },
          "execution_count": null,
          "metadata": {},
          "output_type": "execute_result"
        }
      ],
      "source": [
        "my_data"
      ]
    },
    {
      "cell_type": "code",
      "execution_count": null,
      "metadata": {
        "colab": {
          "background_save": true,
          "base_uri": "https://localhost:8080/"
        },
        "id": "Qek17b6gm4as",
        "outputId": "f32a3a12-5a32-4f8b-e305-84f055017030"
      },
      "outputs": [
        {
          "name": "stdout",
          "output_type": "stream",
          "text": [
            "PG           156\n",
            "PG-13        111\n",
            "R             76\n",
            "G             70\n",
            "Not Rated      3\n",
            "Name: MPAA_rating, dtype: int64\n"
          ]
        }
      ],
      "source": [
        "print(my_data['MPAA_rating'].value_counts().sort_values(ascending=False))"
      ]
    },
    {
      "cell_type": "code",
      "execution_count": null,
      "metadata": {
        "colab": {
          "background_save": true
        },
        "id": "v3I7hWeXnaDQ"
      },
      "outputs": [],
      "source": [
        "top2_rating = [x for x in my_data['MPAA_rating'].value_counts().sort_values(ascending=False).head(2).index]\n",
        "rating = [x for x in my_data['MPAA_rating'].value_counts().sort_values(ascending=True).head(3).index]\n",
        "for l in top2_rating:\n",
        "  my_data[l] = np.where(my_data['MPAA_rating']==l,1,0)"
      ]
    },
    {
      "cell_type": "code",
      "execution_count": null,
      "metadata": {
        "colab": {
          "background_save": true
        },
        "id": "45nKdURi1WT0"
      },
      "outputs": [],
      "source": [
        "ratingCols = open(\"ratingCols.pkl\", \"wb\")\n",
        "pickle.dump(top2_rating, ratingCols)\n",
        "ratingCols.close()"
      ]
    },
    {
      "cell_type": "code",
      "execution_count": null,
      "metadata": {
        "colab": {
          "background_save": true
        },
        "id": "MnBSJxjZ160s"
      },
      "outputs": [],
      "source": [
        "otherCols = open(\"otherRatingCols.pkl\", \"wb\")\n",
        "pickle.dump(rating, otherCols)\n",
        "otherCols.close()"
      ]
    },
    {
      "cell_type": "code",
      "execution_count": null,
      "metadata": {
        "colab": {
          "background_save": true,
          "base_uri": "https://localhost:8080/"
        },
        "id": "gj505CCqs0qr",
        "outputId": "bb76104b-7329-4bda-a757-8775a79ee94c"
      },
      "outputs": [
        {
          "name": "stderr",
          "output_type": "stream",
          "text": [
            "/usr/local/lib/python3.7/dist-packages/ipykernel_launcher.py:6: SettingWithCopyWarning: \n",
            "A value is trying to be set on a copy of a slice from a DataFrame\n",
            "\n",
            "See the caveats in the documentation: https://pandas.pydata.org/pandas-docs/stable/user_guide/indexing.html#returning-a-view-versus-a-copy\n",
            "  \n",
            "/usr/local/lib/python3.7/dist-packages/ipykernel_launcher.py:8: SettingWithCopyWarning: \n",
            "A value is trying to be set on a copy of a slice from a DataFrame\n",
            "\n",
            "See the caveats in the documentation: https://pandas.pydata.org/pandas-docs/stable/user_guide/indexing.html#returning-a-view-versus-a-copy\n",
            "  \n",
            "/usr/local/lib/python3.7/dist-packages/ipykernel_launcher.py:4: SettingWithCopyWarning: \n",
            "A value is trying to be set on a copy of a slice from a DataFrame\n",
            "\n",
            "See the caveats in the documentation: https://pandas.pydata.org/pandas-docs/stable/user_guide/indexing.html#returning-a-view-versus-a-copy\n",
            "  after removing the cwd from sys.path.\n"
          ]
        }
      ],
      "source": [
        "my_data[\"other_rating\"] = \" \"\n",
        "for idx,row in my_data.iterrows():\n",
        "  if pd.isna(my_data.iloc[idx,3]):\n",
        "    my_data[\"other_rating\"][idx]=0\n",
        "  if my_data[\"MPAA_rating\"][idx] in rating:\n",
        "    my_data[\"other_rating\"][idx]=1\n",
        "  else:\n",
        "     my_data[\"other_rating\"][idx]=0"
      ]
    },
    {
      "cell_type": "code",
      "execution_count": null,
      "metadata": {
        "colab": {
          "background_save": true,
          "base_uri": "https://localhost:8080/"
        },
        "id": "0X4xGccHyCQX",
        "outputId": "6a563f6f-07b2-431b-ecf0-60a5f3df4ff5"
      },
      "outputs": [
        {
          "name": "stdout",
          "output_type": "stream",
          "text": [
            "Comedy                 146\n",
            "Adventure              105\n",
            "Drama                   90\n",
            "Action                  30\n",
            "Romantic Comedy         20\n",
            "Thriller/Suspense       18\n",
            "Documentary             15\n",
            "Musical                 12\n",
            "Western                  5\n",
            "Horror                   4\n",
            "Black Comedy             3\n",
            "Concert/Performance      1\n",
            "Name: genre, dtype: int64\n"
          ]
        }
      ],
      "source": [
        "print(my_data['genre'].value_counts().sort_values(ascending=False))"
      ]
    },
    {
      "cell_type": "code",
      "execution_count": null,
      "metadata": {
        "colab": {
          "background_save": true
        },
        "id": "44nIfJkvyTLz"
      },
      "outputs": [],
      "source": [
        "top3_genre = [x for x in my_data['genre'].value_counts().sort_values(ascending=False).head(3).index]\n",
        "genre = [x for x in my_data['genre'].value_counts().sort_values(ascending=True).head(9).index]\n",
        "for l in top3_genre:\n",
        "  my_data[l] = np.where(my_data['genre']==l,1,0)"
      ]
    },
    {
      "cell_type": "code",
      "execution_count": null,
      "metadata": {
        "colab": {
          "background_save": true
        },
        "id": "CuwTW4Bp3Trv"
      },
      "outputs": [],
      "source": [
        "genreCols = open(\"genreCols.pkl\", \"wb\")\n",
        "pickle.dump(top3_genre, genreCols)\n",
        "genreCols.close()"
      ]
    },
    {
      "cell_type": "code",
      "execution_count": null,
      "metadata": {
        "colab": {
          "background_save": true
        },
        "id": "tyXCSNhc3dhN"
      },
      "outputs": [],
      "source": [
        "otherCols = open(\"otherGenreCols.pkl\", \"wb\")\n",
        "pickle.dump(genre, otherCols)\n",
        "otherCols.close()"
      ]
    },
    {
      "cell_type": "code",
      "execution_count": null,
      "metadata": {
        "colab": {
          "background_save": true,
          "base_uri": "https://localhost:8080/"
        },
        "id": "S9st4ji_y1Ra",
        "outputId": "773469d4-1b08-4cf8-fd29-287e3956638f"
      },
      "outputs": [
        {
          "name": "stderr",
          "output_type": "stream",
          "text": [
            "/usr/local/lib/python3.7/dist-packages/ipykernel_launcher.py:8: SettingWithCopyWarning: \n",
            "A value is trying to be set on a copy of a slice from a DataFrame\n",
            "\n",
            "See the caveats in the documentation: https://pandas.pydata.org/pandas-docs/stable/user_guide/indexing.html#returning-a-view-versus-a-copy\n",
            "  \n",
            "/usr/local/lib/python3.7/dist-packages/ipykernel_launcher.py:6: SettingWithCopyWarning: \n",
            "A value is trying to be set on a copy of a slice from a DataFrame\n",
            "\n",
            "See the caveats in the documentation: https://pandas.pydata.org/pandas-docs/stable/user_guide/indexing.html#returning-a-view-versus-a-copy\n",
            "  \n",
            "/usr/local/lib/python3.7/dist-packages/ipykernel_launcher.py:4: SettingWithCopyWarning: \n",
            "A value is trying to be set on a copy of a slice from a DataFrame\n",
            "\n",
            "See the caveats in the documentation: https://pandas.pydata.org/pandas-docs/stable/user_guide/indexing.html#returning-a-view-versus-a-copy\n",
            "  after removing the cwd from sys.path.\n"
          ]
        }
      ],
      "source": [
        "my_data[\"other_genre\"] = \" \"\n",
        "for idx,row in my_data.iterrows():\n",
        "  if pd.isna(my_data.iloc[idx,2]):\n",
        "    my_data[\"other_genre\"][idx]=0\n",
        "  if my_data[\"genre\"][idx] in genre:\n",
        "    my_data[\"other_genre\"][idx]=1\n",
        "  else:\n",
        "     my_data[\"other_genre\"][idx]=0"
      ]
    },
    {
      "cell_type": "code",
      "execution_count": null,
      "metadata": {
        "colab": {
          "background_save": true
        },
        "id": "2SB0hMfC2kdb"
      },
      "outputs": [],
      "source": [
        "my_data= my_data.drop(\"genre\",axis = 1)"
      ]
    },
    {
      "cell_type": "code",
      "execution_count": null,
      "metadata": {
        "colab": {
          "background_save": true
        },
        "id": "WBZ4RKS92oKe"
      },
      "outputs": [],
      "source": [
        "my_data= my_data.drop(\"MPAA_rating\",axis = 1)"
      ]
    },
    {
      "cell_type": "code",
      "execution_count": null,
      "metadata": {
        "colab": {
          "background_save": true,
          "base_uri": "https://localhost:8080/",
          "height": 887
        },
        "id": "utDNT8GU2o5B",
        "outputId": "1da298f6-2d6e-42b6-b430-c4168f0d63c7"
      },
      "outputs": [
        {
          "data": {
            "text/html": [
              "\n",
              "  <div id=\"df-7b6af4af-1641-49be-8e80-5860c88c9e76\">\n",
              "    <div class=\"colab-df-container\">\n",
              "      <div>\n",
              "<style scoped>\n",
              "    .dataframe tbody tr th:only-of-type {\n",
              "        vertical-align: middle;\n",
              "    }\n",
              "\n",
              "    .dataframe tbody tr th {\n",
              "        vertical-align: top;\n",
              "    }\n",
              "\n",
              "    .dataframe thead th {\n",
              "        text-align: right;\n",
              "    }\n",
              "</style>\n",
              "<table border=\"1\" class=\"dataframe\">\n",
              "  <thead>\n",
              "    <tr style=\"text-align: right;\">\n",
              "      <th></th>\n",
              "      <th>movie_title</th>\n",
              "      <th>release_date</th>\n",
              "      <th>MovieSuccessLevel</th>\n",
              "      <th>director</th>\n",
              "      <th>voice-actor</th>\n",
              "      <th>PG</th>\n",
              "      <th>PG-13</th>\n",
              "      <th>other_rating</th>\n",
              "      <th>Comedy</th>\n",
              "      <th>Adventure</th>\n",
              "      <th>Drama</th>\n",
              "      <th>other_genre</th>\n",
              "    </tr>\n",
              "  </thead>\n",
              "  <tbody>\n",
              "    <tr>\n",
              "      <th>0</th>\n",
              "      <td>Recess: School's Out</td>\n",
              "      <td>2001</td>\n",
              "      <td>C</td>\n",
              "      <td>1</td>\n",
              "      <td>NaN</td>\n",
              "      <td>0</td>\n",
              "      <td>0</td>\n",
              "      <td>1</td>\n",
              "      <td>1</td>\n",
              "      <td>0</td>\n",
              "      <td>0</td>\n",
              "      <td>0</td>\n",
              "    </tr>\n",
              "    <tr>\n",
              "      <th>1</th>\n",
              "      <td>D2: The Mighty Ducks</td>\n",
              "      <td>1994</td>\n",
              "      <td>B</td>\n",
              "      <td>2</td>\n",
              "      <td>NaN</td>\n",
              "      <td>1</td>\n",
              "      <td>0</td>\n",
              "      <td>0</td>\n",
              "      <td>1</td>\n",
              "      <td>0</td>\n",
              "      <td>0</td>\n",
              "      <td>0</td>\n",
              "    </tr>\n",
              "    <tr>\n",
              "      <th>2</th>\n",
              "      <td>Home on the Range</td>\n",
              "      <td>2004</td>\n",
              "      <td>C</td>\n",
              "      <td>1</td>\n",
              "      <td>[Randy Quaid, Estelle Harris, Cuba Gooding Jr....</td>\n",
              "      <td>1</td>\n",
              "      <td>0</td>\n",
              "      <td>0</td>\n",
              "      <td>1</td>\n",
              "      <td>0</td>\n",
              "      <td>0</td>\n",
              "      <td>0</td>\n",
              "    </tr>\n",
              "    <tr>\n",
              "      <th>3</th>\n",
              "      <td>Young Black Stallion</td>\n",
              "      <td>2003</td>\n",
              "      <td>D</td>\n",
              "      <td>2</td>\n",
              "      <td>NaN</td>\n",
              "      <td>0</td>\n",
              "      <td>0</td>\n",
              "      <td>1</td>\n",
              "      <td>0</td>\n",
              "      <td>1</td>\n",
              "      <td>0</td>\n",
              "      <td>0</td>\n",
              "    </tr>\n",
              "    <tr>\n",
              "      <th>4</th>\n",
              "      <td>What's Love Got to Do With It</td>\n",
              "      <td>1993</td>\n",
              "      <td>B</td>\n",
              "      <td>1</td>\n",
              "      <td>NaN</td>\n",
              "      <td>0</td>\n",
              "      <td>0</td>\n",
              "      <td>1</td>\n",
              "      <td>0</td>\n",
              "      <td>0</td>\n",
              "      <td>1</td>\n",
              "      <td>0</td>\n",
              "    </tr>\n",
              "    <tr>\n",
              "      <th>...</th>\n",
              "      <td>...</td>\n",
              "      <td>...</td>\n",
              "      <td>...</td>\n",
              "      <td>...</td>\n",
              "      <td>...</td>\n",
              "      <td>...</td>\n",
              "      <td>...</td>\n",
              "      <td>...</td>\n",
              "      <td>...</td>\n",
              "      <td>...</td>\n",
              "      <td>...</td>\n",
              "      <td>...</td>\n",
              "    </tr>\n",
              "    <tr>\n",
              "      <th>458</th>\n",
              "      <td>Sweet Home Alabama</td>\n",
              "      <td>2002</td>\n",
              "      <td>B</td>\n",
              "      <td>1</td>\n",
              "      <td>NaN</td>\n",
              "      <td>0</td>\n",
              "      <td>1</td>\n",
              "      <td>0</td>\n",
              "      <td>1</td>\n",
              "      <td>0</td>\n",
              "      <td>0</td>\n",
              "      <td>0</td>\n",
              "    </tr>\n",
              "    <tr>\n",
              "      <th>459</th>\n",
              "      <td>Play it to the Bone</td>\n",
              "      <td>1999</td>\n",
              "      <td>D</td>\n",
              "      <td>2</td>\n",
              "      <td>NaN</td>\n",
              "      <td>0</td>\n",
              "      <td>0</td>\n",
              "      <td>1</td>\n",
              "      <td>1</td>\n",
              "      <td>0</td>\n",
              "      <td>0</td>\n",
              "      <td>0</td>\n",
              "    </tr>\n",
              "    <tr>\n",
              "      <th>460</th>\n",
              "      <td>The Odd Life of Timothy Green</td>\n",
              "      <td>2012</td>\n",
              "      <td>C</td>\n",
              "      <td>2</td>\n",
              "      <td>NaN</td>\n",
              "      <td>1</td>\n",
              "      <td>0</td>\n",
              "      <td>0</td>\n",
              "      <td>0</td>\n",
              "      <td>0</td>\n",
              "      <td>1</td>\n",
              "      <td>0</td>\n",
              "    </tr>\n",
              "    <tr>\n",
              "      <th>461</th>\n",
              "      <td>Honey I Blew Up the Kid</td>\n",
              "      <td>1992</td>\n",
              "      <td>B</td>\n",
              "      <td>2</td>\n",
              "      <td>NaN</td>\n",
              "      <td>1</td>\n",
              "      <td>0</td>\n",
              "      <td>0</td>\n",
              "      <td>1</td>\n",
              "      <td>0</td>\n",
              "      <td>0</td>\n",
              "      <td>0</td>\n",
              "    </tr>\n",
              "    <tr>\n",
              "      <th>462</th>\n",
              "      <td>Hercules</td>\n",
              "      <td>1997</td>\n",
              "      <td>B</td>\n",
              "      <td>6</td>\n",
              "      <td>[Barbara Barrie, Hal Holbrook, Keith David, Pa...</td>\n",
              "      <td>0</td>\n",
              "      <td>0</td>\n",
              "      <td>1</td>\n",
              "      <td>0</td>\n",
              "      <td>1</td>\n",
              "      <td>0</td>\n",
              "      <td>0</td>\n",
              "    </tr>\n",
              "  </tbody>\n",
              "</table>\n",
              "<p>463 rows × 12 columns</p>\n",
              "</div>\n",
              "      <button class=\"colab-df-convert\" onclick=\"convertToInteractive('df-7b6af4af-1641-49be-8e80-5860c88c9e76')\"\n",
              "              title=\"Convert this dataframe to an interactive table.\"\n",
              "              style=\"display:none;\">\n",
              "        \n",
              "  <svg xmlns=\"http://www.w3.org/2000/svg\" height=\"24px\"viewBox=\"0 0 24 24\"\n",
              "       width=\"24px\">\n",
              "    <path d=\"M0 0h24v24H0V0z\" fill=\"none\"/>\n",
              "    <path d=\"M18.56 5.44l.94 2.06.94-2.06 2.06-.94-2.06-.94-.94-2.06-.94 2.06-2.06.94zm-11 1L8.5 8.5l.94-2.06 2.06-.94-2.06-.94L8.5 2.5l-.94 2.06-2.06.94zm10 10l.94 2.06.94-2.06 2.06-.94-2.06-.94-.94-2.06-.94 2.06-2.06.94z\"/><path d=\"M17.41 7.96l-1.37-1.37c-.4-.4-.92-.59-1.43-.59-.52 0-1.04.2-1.43.59L10.3 9.45l-7.72 7.72c-.78.78-.78 2.05 0 2.83L4 21.41c.39.39.9.59 1.41.59.51 0 1.02-.2 1.41-.59l7.78-7.78 2.81-2.81c.8-.78.8-2.07 0-2.86zM5.41 20L4 18.59l7.72-7.72 1.47 1.35L5.41 20z\"/>\n",
              "  </svg>\n",
              "      </button>\n",
              "      \n",
              "  <style>\n",
              "    .colab-df-container {\n",
              "      display:flex;\n",
              "      flex-wrap:wrap;\n",
              "      gap: 12px;\n",
              "    }\n",
              "\n",
              "    .colab-df-convert {\n",
              "      background-color: #E8F0FE;\n",
              "      border: none;\n",
              "      border-radius: 50%;\n",
              "      cursor: pointer;\n",
              "      display: none;\n",
              "      fill: #1967D2;\n",
              "      height: 32px;\n",
              "      padding: 0 0 0 0;\n",
              "      width: 32px;\n",
              "    }\n",
              "\n",
              "    .colab-df-convert:hover {\n",
              "      background-color: #E2EBFA;\n",
              "      box-shadow: 0px 1px 2px rgba(60, 64, 67, 0.3), 0px 1px 3px 1px rgba(60, 64, 67, 0.15);\n",
              "      fill: #174EA6;\n",
              "    }\n",
              "\n",
              "    [theme=dark] .colab-df-convert {\n",
              "      background-color: #3B4455;\n",
              "      fill: #D2E3FC;\n",
              "    }\n",
              "\n",
              "    [theme=dark] .colab-df-convert:hover {\n",
              "      background-color: #434B5C;\n",
              "      box-shadow: 0px 1px 3px 1px rgba(0, 0, 0, 0.15);\n",
              "      filter: drop-shadow(0px 1px 2px rgba(0, 0, 0, 0.3));\n",
              "      fill: #FFFFFF;\n",
              "    }\n",
              "  </style>\n",
              "\n",
              "      <script>\n",
              "        const buttonEl =\n",
              "          document.querySelector('#df-7b6af4af-1641-49be-8e80-5860c88c9e76 button.colab-df-convert');\n",
              "        buttonEl.style.display =\n",
              "          google.colab.kernel.accessAllowed ? 'block' : 'none';\n",
              "\n",
              "        async function convertToInteractive(key) {\n",
              "          const element = document.querySelector('#df-7b6af4af-1641-49be-8e80-5860c88c9e76');\n",
              "          const dataTable =\n",
              "            await google.colab.kernel.invokeFunction('convertToInteractive',\n",
              "                                                     [key], {});\n",
              "          if (!dataTable) return;\n",
              "\n",
              "          const docLinkHtml = 'Like what you see? Visit the ' +\n",
              "            '<a target=\"_blank\" href=https://colab.research.google.com/notebooks/data_table.ipynb>data table notebook</a>'\n",
              "            + ' to learn more about interactive tables.';\n",
              "          element.innerHTML = '';\n",
              "          dataTable['output_type'] = 'display_data';\n",
              "          await google.colab.output.renderOutput(dataTable, element);\n",
              "          const docLink = document.createElement('div');\n",
              "          docLink.innerHTML = docLinkHtml;\n",
              "          element.appendChild(docLink);\n",
              "        }\n",
              "      </script>\n",
              "    </div>\n",
              "  </div>\n",
              "  "
            ],
            "text/plain": [
              "                       movie_title  release_date MovieSuccessLevel director  \\\n",
              "0             Recess: School's Out          2001                 C        1   \n",
              "1             D2: The Mighty Ducks          1994                 B        2   \n",
              "2                Home on the Range          2004                 C        1   \n",
              "3             Young Black Stallion          2003                 D        2   \n",
              "4    What's Love Got to Do With It          1993                 B        1   \n",
              "..                             ...           ...               ...      ...   \n",
              "458             Sweet Home Alabama          2002                 B        1   \n",
              "459            Play it to the Bone          1999                 D        2   \n",
              "460  The Odd Life of Timothy Green          2012                 C        2   \n",
              "461        Honey I Blew Up the Kid          1992                 B        2   \n",
              "462                       Hercules          1997                 B        6   \n",
              "\n",
              "                                           voice-actor  PG  PG-13  \\\n",
              "0                                                  NaN   0      0   \n",
              "1                                                  NaN   1      0   \n",
              "2    [Randy Quaid, Estelle Harris, Cuba Gooding Jr....   1      0   \n",
              "3                                                  NaN   0      0   \n",
              "4                                                  NaN   0      0   \n",
              "..                                                 ...  ..    ...   \n",
              "458                                                NaN   0      1   \n",
              "459                                                NaN   0      0   \n",
              "460                                                NaN   1      0   \n",
              "461                                                NaN   1      0   \n",
              "462  [Barbara Barrie, Hal Holbrook, Keith David, Pa...   0      0   \n",
              "\n",
              "    other_rating  Comedy  Adventure  Drama other_genre  \n",
              "0              1       1          0      0           0  \n",
              "1              0       1          0      0           0  \n",
              "2              0       1          0      0           0  \n",
              "3              1       0          1      0           0  \n",
              "4              1       0          0      1           0  \n",
              "..           ...     ...        ...    ...         ...  \n",
              "458            0       1          0      0           0  \n",
              "459            1       1          0      0           0  \n",
              "460            0       0          0      1           0  \n",
              "461            0       1          0      0           0  \n",
              "462            1       0          1      0           0  \n",
              "\n",
              "[463 rows x 12 columns]"
            ]
          },
          "execution_count": null,
          "metadata": {},
          "output_type": "execute_result"
        }
      ],
      "source": [
        "my_data"
      ]
    },
    {
      "cell_type": "code",
      "execution_count": null,
      "metadata": {
        "colab": {
          "background_save": true
        },
        "id": "-Nlitr5d4qd6"
      },
      "outputs": [],
      "source": [
        "for index, row in my_data.iterrows():\n",
        "  if type(my_data.iloc[index,2]) is list:\n",
        "    continue;\n",
        "  actors = []\n",
        "  search = movie.search(row[\"movie_title\"])\n",
        "  for res in search:\n",
        "    if \"release_date\" in res.keys():\n",
        "      if str(row[\"release_date\"]) in res.release_date:\n",
        "        cast = movie.credits(res.id)[\"cast\"]\n",
        "        for x in cast:\n",
        "          actors.append(x.name)\n",
        "        my_data.at[index,\"voice-actor\"] = actors\n",
        "        break;"
      ]
    },
    {
      "cell_type": "code",
      "execution_count": null,
      "metadata": {
        "colab": {
          "background_save": true,
          "base_uri": "https://localhost:8080/",
          "height": 1000
        },
        "id": "UXoZh0aG5WfN",
        "outputId": "8144f7cf-dbf8-44ae-ac47-6176de58da5a"
      },
      "outputs": [
        {
          "data": {
            "text/html": [
              "\n",
              "  <div id=\"df-4d5aee3a-0263-4f93-94a1-c431549f192e\">\n",
              "    <div class=\"colab-df-container\">\n",
              "      <div>\n",
              "<style scoped>\n",
              "    .dataframe tbody tr th:only-of-type {\n",
              "        vertical-align: middle;\n",
              "    }\n",
              "\n",
              "    .dataframe tbody tr th {\n",
              "        vertical-align: top;\n",
              "    }\n",
              "\n",
              "    .dataframe thead th {\n",
              "        text-align: right;\n",
              "    }\n",
              "</style>\n",
              "<table border=\"1\" class=\"dataframe\">\n",
              "  <thead>\n",
              "    <tr style=\"text-align: right;\">\n",
              "      <th></th>\n",
              "      <th>movie_title</th>\n",
              "      <th>release_date</th>\n",
              "      <th>MovieSuccessLevel</th>\n",
              "      <th>director</th>\n",
              "      <th>voice-actor</th>\n",
              "      <th>PG</th>\n",
              "      <th>PG-13</th>\n",
              "      <th>other_rating</th>\n",
              "      <th>Comedy</th>\n",
              "      <th>Adventure</th>\n",
              "      <th>Drama</th>\n",
              "      <th>other_genre</th>\n",
              "    </tr>\n",
              "  </thead>\n",
              "  <tbody>\n",
              "    <tr>\n",
              "      <th>0</th>\n",
              "      <td>Recess: School's Out</td>\n",
              "      <td>2001</td>\n",
              "      <td>C</td>\n",
              "      <td>1</td>\n",
              "      <td>[Andrew Lawrence, Rickey D'Shon Collins, Pamel...</td>\n",
              "      <td>0</td>\n",
              "      <td>0</td>\n",
              "      <td>1</td>\n",
              "      <td>1</td>\n",
              "      <td>0</td>\n",
              "      <td>0</td>\n",
              "      <td>0</td>\n",
              "    </tr>\n",
              "    <tr>\n",
              "      <th>1</th>\n",
              "      <td>D2: The Mighty Ducks</td>\n",
              "      <td>1994</td>\n",
              "      <td>B</td>\n",
              "      <td>2</td>\n",
              "      <td>[Emilio Estevez, Kathryn Erbe, Michael Tucker,...</td>\n",
              "      <td>1</td>\n",
              "      <td>0</td>\n",
              "      <td>0</td>\n",
              "      <td>1</td>\n",
              "      <td>0</td>\n",
              "      <td>0</td>\n",
              "      <td>0</td>\n",
              "    </tr>\n",
              "    <tr>\n",
              "      <th>2</th>\n",
              "      <td>Home on the Range</td>\n",
              "      <td>2004</td>\n",
              "      <td>C</td>\n",
              "      <td>1</td>\n",
              "      <td>[Roseanne Barr, Judi Dench, Jennifer Tilly, St...</td>\n",
              "      <td>1</td>\n",
              "      <td>0</td>\n",
              "      <td>0</td>\n",
              "      <td>1</td>\n",
              "      <td>0</td>\n",
              "      <td>0</td>\n",
              "      <td>0</td>\n",
              "    </tr>\n",
              "    <tr>\n",
              "      <th>3</th>\n",
              "      <td>Young Black Stallion</td>\n",
              "      <td>2003</td>\n",
              "      <td>D</td>\n",
              "      <td>2</td>\n",
              "      <td>[Biana Tamimi, Richard Romanus, Patrick Elias,...</td>\n",
              "      <td>0</td>\n",
              "      <td>0</td>\n",
              "      <td>1</td>\n",
              "      <td>0</td>\n",
              "      <td>1</td>\n",
              "      <td>0</td>\n",
              "      <td>0</td>\n",
              "    </tr>\n",
              "    <tr>\n",
              "      <th>4</th>\n",
              "      <td>What's Love Got to Do With It</td>\n",
              "      <td>1993</td>\n",
              "      <td>B</td>\n",
              "      <td>1</td>\n",
              "      <td>[Angela Bassett, Laurence Fishburne, Vanessa B...</td>\n",
              "      <td>0</td>\n",
              "      <td>0</td>\n",
              "      <td>1</td>\n",
              "      <td>0</td>\n",
              "      <td>0</td>\n",
              "      <td>1</td>\n",
              "      <td>0</td>\n",
              "    </tr>\n",
              "    <tr>\n",
              "      <th>...</th>\n",
              "      <td>...</td>\n",
              "      <td>...</td>\n",
              "      <td>...</td>\n",
              "      <td>...</td>\n",
              "      <td>...</td>\n",
              "      <td>...</td>\n",
              "      <td>...</td>\n",
              "      <td>...</td>\n",
              "      <td>...</td>\n",
              "      <td>...</td>\n",
              "      <td>...</td>\n",
              "      <td>...</td>\n",
              "    </tr>\n",
              "    <tr>\n",
              "      <th>458</th>\n",
              "      <td>Sweet Home Alabama</td>\n",
              "      <td>2002</td>\n",
              "      <td>B</td>\n",
              "      <td>1</td>\n",
              "      <td>[Reese Witherspoon, Josh Lucas, Patrick Dempse...</td>\n",
              "      <td>0</td>\n",
              "      <td>1</td>\n",
              "      <td>0</td>\n",
              "      <td>1</td>\n",
              "      <td>0</td>\n",
              "      <td>0</td>\n",
              "      <td>0</td>\n",
              "    </tr>\n",
              "    <tr>\n",
              "      <th>459</th>\n",
              "      <td>Play it to the Bone</td>\n",
              "      <td>1999</td>\n",
              "      <td>D</td>\n",
              "      <td>2</td>\n",
              "      <td>[Antonio Banderas, Woody Harrelson, Lolita Dav...</td>\n",
              "      <td>0</td>\n",
              "      <td>0</td>\n",
              "      <td>1</td>\n",
              "      <td>1</td>\n",
              "      <td>0</td>\n",
              "      <td>0</td>\n",
              "      <td>0</td>\n",
              "    </tr>\n",
              "    <tr>\n",
              "      <th>460</th>\n",
              "      <td>The Odd Life of Timothy Green</td>\n",
              "      <td>2012</td>\n",
              "      <td>C</td>\n",
              "      <td>2</td>\n",
              "      <td>[Jennifer Garner, Joel Edgerton, Ron Livingsto...</td>\n",
              "      <td>1</td>\n",
              "      <td>0</td>\n",
              "      <td>0</td>\n",
              "      <td>0</td>\n",
              "      <td>0</td>\n",
              "      <td>1</td>\n",
              "      <td>0</td>\n",
              "    </tr>\n",
              "    <tr>\n",
              "      <th>461</th>\n",
              "      <td>Honey I Blew Up the Kid</td>\n",
              "      <td>1992</td>\n",
              "      <td>B</td>\n",
              "      <td>2</td>\n",
              "      <td>[Rick Moranis, Marcia Strassman, Robert Oliver...</td>\n",
              "      <td>1</td>\n",
              "      <td>0</td>\n",
              "      <td>0</td>\n",
              "      <td>1</td>\n",
              "      <td>0</td>\n",
              "      <td>0</td>\n",
              "      <td>0</td>\n",
              "    </tr>\n",
              "    <tr>\n",
              "      <th>462</th>\n",
              "      <td>Hercules</td>\n",
              "      <td>1997</td>\n",
              "      <td>B</td>\n",
              "      <td>6</td>\n",
              "      <td>[Tate Donovan, Josh Keaton, Roger Bart, Danny ...</td>\n",
              "      <td>0</td>\n",
              "      <td>0</td>\n",
              "      <td>1</td>\n",
              "      <td>0</td>\n",
              "      <td>1</td>\n",
              "      <td>0</td>\n",
              "      <td>0</td>\n",
              "    </tr>\n",
              "  </tbody>\n",
              "</table>\n",
              "<p>463 rows × 12 columns</p>\n",
              "</div>\n",
              "      <button class=\"colab-df-convert\" onclick=\"convertToInteractive('df-4d5aee3a-0263-4f93-94a1-c431549f192e')\"\n",
              "              title=\"Convert this dataframe to an interactive table.\"\n",
              "              style=\"display:none;\">\n",
              "        \n",
              "  <svg xmlns=\"http://www.w3.org/2000/svg\" height=\"24px\"viewBox=\"0 0 24 24\"\n",
              "       width=\"24px\">\n",
              "    <path d=\"M0 0h24v24H0V0z\" fill=\"none\"/>\n",
              "    <path d=\"M18.56 5.44l.94 2.06.94-2.06 2.06-.94-2.06-.94-.94-2.06-.94 2.06-2.06.94zm-11 1L8.5 8.5l.94-2.06 2.06-.94-2.06-.94L8.5 2.5l-.94 2.06-2.06.94zm10 10l.94 2.06.94-2.06 2.06-.94-2.06-.94-.94-2.06-.94 2.06-2.06.94z\"/><path d=\"M17.41 7.96l-1.37-1.37c-.4-.4-.92-.59-1.43-.59-.52 0-1.04.2-1.43.59L10.3 9.45l-7.72 7.72c-.78.78-.78 2.05 0 2.83L4 21.41c.39.39.9.59 1.41.59.51 0 1.02-.2 1.41-.59l7.78-7.78 2.81-2.81c.8-.78.8-2.07 0-2.86zM5.41 20L4 18.59l7.72-7.72 1.47 1.35L5.41 20z\"/>\n",
              "  </svg>\n",
              "      </button>\n",
              "      \n",
              "  <style>\n",
              "    .colab-df-container {\n",
              "      display:flex;\n",
              "      flex-wrap:wrap;\n",
              "      gap: 12px;\n",
              "    }\n",
              "\n",
              "    .colab-df-convert {\n",
              "      background-color: #E8F0FE;\n",
              "      border: none;\n",
              "      border-radius: 50%;\n",
              "      cursor: pointer;\n",
              "      display: none;\n",
              "      fill: #1967D2;\n",
              "      height: 32px;\n",
              "      padding: 0 0 0 0;\n",
              "      width: 32px;\n",
              "    }\n",
              "\n",
              "    .colab-df-convert:hover {\n",
              "      background-color: #E2EBFA;\n",
              "      box-shadow: 0px 1px 2px rgba(60, 64, 67, 0.3), 0px 1px 3px 1px rgba(60, 64, 67, 0.15);\n",
              "      fill: #174EA6;\n",
              "    }\n",
              "\n",
              "    [theme=dark] .colab-df-convert {\n",
              "      background-color: #3B4455;\n",
              "      fill: #D2E3FC;\n",
              "    }\n",
              "\n",
              "    [theme=dark] .colab-df-convert:hover {\n",
              "      background-color: #434B5C;\n",
              "      box-shadow: 0px 1px 3px 1px rgba(0, 0, 0, 0.15);\n",
              "      filter: drop-shadow(0px 1px 2px rgba(0, 0, 0, 0.3));\n",
              "      fill: #FFFFFF;\n",
              "    }\n",
              "  </style>\n",
              "\n",
              "      <script>\n",
              "        const buttonEl =\n",
              "          document.querySelector('#df-4d5aee3a-0263-4f93-94a1-c431549f192e button.colab-df-convert');\n",
              "        buttonEl.style.display =\n",
              "          google.colab.kernel.accessAllowed ? 'block' : 'none';\n",
              "\n",
              "        async function convertToInteractive(key) {\n",
              "          const element = document.querySelector('#df-4d5aee3a-0263-4f93-94a1-c431549f192e');\n",
              "          const dataTable =\n",
              "            await google.colab.kernel.invokeFunction('convertToInteractive',\n",
              "                                                     [key], {});\n",
              "          if (!dataTable) return;\n",
              "\n",
              "          const docLinkHtml = 'Like what you see? Visit the ' +\n",
              "            '<a target=\"_blank\" href=https://colab.research.google.com/notebooks/data_table.ipynb>data table notebook</a>'\n",
              "            + ' to learn more about interactive tables.';\n",
              "          element.innerHTML = '';\n",
              "          dataTable['output_type'] = 'display_data';\n",
              "          await google.colab.output.renderOutput(dataTable, element);\n",
              "          const docLink = document.createElement('div');\n",
              "          docLink.innerHTML = docLinkHtml;\n",
              "          element.appendChild(docLink);\n",
              "        }\n",
              "      </script>\n",
              "    </div>\n",
              "  </div>\n",
              "  "
            ],
            "text/plain": [
              "                       movie_title  release_date MovieSuccessLevel director  \\\n",
              "0             Recess: School's Out          2001                 C        1   \n",
              "1             D2: The Mighty Ducks          1994                 B        2   \n",
              "2                Home on the Range          2004                 C        1   \n",
              "3             Young Black Stallion          2003                 D        2   \n",
              "4    What's Love Got to Do With It          1993                 B        1   \n",
              "..                             ...           ...               ...      ...   \n",
              "458             Sweet Home Alabama          2002                 B        1   \n",
              "459            Play it to the Bone          1999                 D        2   \n",
              "460  The Odd Life of Timothy Green          2012                 C        2   \n",
              "461        Honey I Blew Up the Kid          1992                 B        2   \n",
              "462                       Hercules          1997                 B        6   \n",
              "\n",
              "                                           voice-actor  PG  PG-13  \\\n",
              "0    [Andrew Lawrence, Rickey D'Shon Collins, Pamel...   0      0   \n",
              "1    [Emilio Estevez, Kathryn Erbe, Michael Tucker,...   1      0   \n",
              "2    [Roseanne Barr, Judi Dench, Jennifer Tilly, St...   1      0   \n",
              "3    [Biana Tamimi, Richard Romanus, Patrick Elias,...   0      0   \n",
              "4    [Angela Bassett, Laurence Fishburne, Vanessa B...   0      0   \n",
              "..                                                 ...  ..    ...   \n",
              "458  [Reese Witherspoon, Josh Lucas, Patrick Dempse...   0      1   \n",
              "459  [Antonio Banderas, Woody Harrelson, Lolita Dav...   0      0   \n",
              "460  [Jennifer Garner, Joel Edgerton, Ron Livingsto...   1      0   \n",
              "461  [Rick Moranis, Marcia Strassman, Robert Oliver...   1      0   \n",
              "462  [Tate Donovan, Josh Keaton, Roger Bart, Danny ...   0      0   \n",
              "\n",
              "    other_rating  Comedy  Adventure  Drama other_genre  \n",
              "0              1       1          0      0           0  \n",
              "1              0       1          0      0           0  \n",
              "2              0       1          0      0           0  \n",
              "3              1       0          1      0           0  \n",
              "4              1       0          0      1           0  \n",
              "..           ...     ...        ...    ...         ...  \n",
              "458            0       1          0      0           0  \n",
              "459            1       1          0      0           0  \n",
              "460            0       0          0      1           0  \n",
              "461            0       1          0      0           0  \n",
              "462            1       0          1      0           0  \n",
              "\n",
              "[463 rows x 12 columns]"
            ]
          },
          "execution_count": null,
          "metadata": {},
          "output_type": "execute_result"
        }
      ],
      "source": [
        "my_data"
      ]
    },
    {
      "cell_type": "code",
      "execution_count": null,
      "metadata": {
        "colab": {
          "background_save": true,
          "base_uri": "https://localhost:8080/"
        },
        "id": "WT5UZMno3u0S",
        "outputId": "38edeb94-9d1b-4ef1-b99f-11a6e3a8933e"
      },
      "outputs": [
        {
          "data": {
            "text/plain": [
              "movie_title           0\n",
              "release_date          0\n",
              "MovieSuccessLevel     0\n",
              "director             19\n",
              "voice-actor          19\n",
              "PG                    0\n",
              "PG-13                 0\n",
              "other_rating          0\n",
              "Comedy                0\n",
              "Adventure             0\n",
              "Drama                 0\n",
              "other_genre           0\n",
              "dtype: int64"
            ]
          },
          "execution_count": null,
          "metadata": {},
          "output_type": "execute_result"
        }
      ],
      "source": [
        "my_data.isnull().sum()"
      ]
    },
    {
      "cell_type": "code",
      "execution_count": null,
      "metadata": {
        "colab": {
          "background_save": true
        },
        "id": "FPKIh88j6wPH"
      },
      "outputs": [],
      "source": [
        "dic = dict()\n",
        "for index, row in my_data.iterrows(): \n",
        "  if  type  (row['voice-actor'])is list:\n",
        "   for actor in row['voice-actor']:     \n",
        "     if actor in dic.keys():\n",
        "       dic[actor]= dic[actor]+1\n",
        "     else:\n",
        "       dic[actor]=1\n"
      ]
    },
    {
      "cell_type": "code",
      "execution_count": null,
      "metadata": {
        "colab": {
          "background_save": true,
          "base_uri": "https://localhost:8080/"
        },
        "id": "J0BXQOGOQhSF",
        "outputId": "c1adb155-510d-4679-b681-b15f53a3816d"
      },
      "outputs": [
        {
          "name": "stdout",
          "output_type": "stream",
          "text": [
            "2\n"
          ]
        }
      ],
      "source": [
        "print(dic[\"J. Pat O'Malley\"])"
      ]
    },
    {
      "cell_type": "code",
      "execution_count": null,
      "metadata": {
        "colab": {
          "background_save": true
        },
        "id": "YgUdPICuvGnA"
      },
      "outputs": [],
      "source": [
        "actorFq = open(\"actorFq.pkl\", \"wb\")\n",
        "pickle.dump(dic, actorFq)\n",
        "actorFq.close()"
      ]
    },
    {
      "cell_type": "code",
      "execution_count": null,
      "metadata": {
        "colab": {
          "background_save": true
        },
        "id": "hIBYuYHq8Zkz"
      },
      "outputs": [],
      "source": [
        "for index, row in my_data.iterrows():\n",
        "  if  type  (row['voice-actor'])is list:\n",
        "    fq = 0\n",
        "    for actor in row['voice-actor']:\n",
        "      fq = fq + dic[actor]\n",
        "    my_data.at[index,\"voice-actor\"] = fq"
      ]
    },
    {
      "cell_type": "code",
      "source": [
        "for index, row in my_data.iterrows():\n",
        "    my_data.at[index,\"nameDest\"]"
      ],
      "metadata": {
        "id": "vSJ7VJSTP7gF"
      },
      "execution_count": null,
      "outputs": []
    },
    {
      "cell_type": "code",
      "execution_count": null,
      "metadata": {
        "colab": {
          "background_save": true
        },
        "id": "dcnMkxcO5dT0"
      },
      "outputs": [],
      "source": [
        "my_data= my_data.drop(\"movie_title\",axis = 1)"
      ]
    },
    {
      "cell_type": "code",
      "execution_count": null,
      "metadata": {
        "colab": {
          "background_save": true,
          "base_uri": "https://localhost:8080/",
          "height": 468
        },
        "id": "GvmZhFDP-AF-",
        "outputId": "d78bb610-b088-4889-fd75-4d6ed1eafb63"
      },
      "outputs": [
        {
          "data": {
            "text/html": [
              "\n",
              "  <div id=\"df-267562b3-836f-4534-9f02-391809e33fca\">\n",
              "    <div class=\"colab-df-container\">\n",
              "      <div>\n",
              "<style scoped>\n",
              "    .dataframe tbody tr th:only-of-type {\n",
              "        vertical-align: middle;\n",
              "    }\n",
              "\n",
              "    .dataframe tbody tr th {\n",
              "        vertical-align: top;\n",
              "    }\n",
              "\n",
              "    .dataframe thead th {\n",
              "        text-align: right;\n",
              "    }\n",
              "</style>\n",
              "<table border=\"1\" class=\"dataframe\">\n",
              "  <thead>\n",
              "    <tr style=\"text-align: right;\">\n",
              "      <th></th>\n",
              "      <th>release_date</th>\n",
              "      <th>MovieSuccessLevel</th>\n",
              "      <th>director</th>\n",
              "      <th>voice-actor</th>\n",
              "      <th>PG</th>\n",
              "      <th>PG-13</th>\n",
              "      <th>other_rating</th>\n",
              "      <th>Comedy</th>\n",
              "      <th>Adventure</th>\n",
              "      <th>Drama</th>\n",
              "      <th>other_genre</th>\n",
              "    </tr>\n",
              "  </thead>\n",
              "  <tbody>\n",
              "    <tr>\n",
              "      <th>0</th>\n",
              "      <td>2001</td>\n",
              "      <td>C</td>\n",
              "      <td>1</td>\n",
              "      <td>117</td>\n",
              "      <td>0</td>\n",
              "      <td>0</td>\n",
              "      <td>1</td>\n",
              "      <td>1</td>\n",
              "      <td>0</td>\n",
              "      <td>0</td>\n",
              "      <td>0</td>\n",
              "    </tr>\n",
              "    <tr>\n",
              "      <th>1</th>\n",
              "      <td>1994</td>\n",
              "      <td>B</td>\n",
              "      <td>2</td>\n",
              "      <td>84</td>\n",
              "      <td>1</td>\n",
              "      <td>0</td>\n",
              "      <td>0</td>\n",
              "      <td>1</td>\n",
              "      <td>0</td>\n",
              "      <td>0</td>\n",
              "      <td>0</td>\n",
              "    </tr>\n",
              "    <tr>\n",
              "      <th>2</th>\n",
              "      <td>2004</td>\n",
              "      <td>C</td>\n",
              "      <td>1</td>\n",
              "      <td>97</td>\n",
              "      <td>1</td>\n",
              "      <td>0</td>\n",
              "      <td>0</td>\n",
              "      <td>1</td>\n",
              "      <td>0</td>\n",
              "      <td>0</td>\n",
              "      <td>0</td>\n",
              "    </tr>\n",
              "    <tr>\n",
              "      <th>3</th>\n",
              "      <td>2003</td>\n",
              "      <td>D</td>\n",
              "      <td>2</td>\n",
              "      <td>7</td>\n",
              "      <td>0</td>\n",
              "      <td>0</td>\n",
              "      <td>1</td>\n",
              "      <td>0</td>\n",
              "      <td>1</td>\n",
              "      <td>0</td>\n",
              "      <td>0</td>\n",
              "    </tr>\n",
              "    <tr>\n",
              "      <th>4</th>\n",
              "      <td>1993</td>\n",
              "      <td>B</td>\n",
              "      <td>1</td>\n",
              "      <td>46</td>\n",
              "      <td>0</td>\n",
              "      <td>0</td>\n",
              "      <td>1</td>\n",
              "      <td>0</td>\n",
              "      <td>0</td>\n",
              "      <td>1</td>\n",
              "      <td>0</td>\n",
              "    </tr>\n",
              "    <tr>\n",
              "      <th>...</th>\n",
              "      <td>...</td>\n",
              "      <td>...</td>\n",
              "      <td>...</td>\n",
              "      <td>...</td>\n",
              "      <td>...</td>\n",
              "      <td>...</td>\n",
              "      <td>...</td>\n",
              "      <td>...</td>\n",
              "      <td>...</td>\n",
              "      <td>...</td>\n",
              "      <td>...</td>\n",
              "    </tr>\n",
              "    <tr>\n",
              "      <th>458</th>\n",
              "      <td>2002</td>\n",
              "      <td>B</td>\n",
              "      <td>1</td>\n",
              "      <td>73</td>\n",
              "      <td>0</td>\n",
              "      <td>1</td>\n",
              "      <td>0</td>\n",
              "      <td>1</td>\n",
              "      <td>0</td>\n",
              "      <td>0</td>\n",
              "      <td>0</td>\n",
              "    </tr>\n",
              "    <tr>\n",
              "      <th>459</th>\n",
              "      <td>1999</td>\n",
              "      <td>D</td>\n",
              "      <td>2</td>\n",
              "      <td>57</td>\n",
              "      <td>0</td>\n",
              "      <td>0</td>\n",
              "      <td>1</td>\n",
              "      <td>1</td>\n",
              "      <td>0</td>\n",
              "      <td>0</td>\n",
              "      <td>0</td>\n",
              "    </tr>\n",
              "    <tr>\n",
              "      <th>460</th>\n",
              "      <td>2012</td>\n",
              "      <td>C</td>\n",
              "      <td>2</td>\n",
              "      <td>63</td>\n",
              "      <td>1</td>\n",
              "      <td>0</td>\n",
              "      <td>0</td>\n",
              "      <td>0</td>\n",
              "      <td>0</td>\n",
              "      <td>1</td>\n",
              "      <td>0</td>\n",
              "    </tr>\n",
              "    <tr>\n",
              "      <th>461</th>\n",
              "      <td>1992</td>\n",
              "      <td>B</td>\n",
              "      <td>2</td>\n",
              "      <td>26</td>\n",
              "      <td>1</td>\n",
              "      <td>0</td>\n",
              "      <td>0</td>\n",
              "      <td>1</td>\n",
              "      <td>0</td>\n",
              "      <td>0</td>\n",
              "      <td>0</td>\n",
              "    </tr>\n",
              "    <tr>\n",
              "      <th>462</th>\n",
              "      <td>1997</td>\n",
              "      <td>B</td>\n",
              "      <td>6</td>\n",
              "      <td>153</td>\n",
              "      <td>0</td>\n",
              "      <td>0</td>\n",
              "      <td>1</td>\n",
              "      <td>0</td>\n",
              "      <td>1</td>\n",
              "      <td>0</td>\n",
              "      <td>0</td>\n",
              "    </tr>\n",
              "  </tbody>\n",
              "</table>\n",
              "<p>463 rows × 11 columns</p>\n",
              "</div>\n",
              "      <button class=\"colab-df-convert\" onclick=\"convertToInteractive('df-267562b3-836f-4534-9f02-391809e33fca')\"\n",
              "              title=\"Convert this dataframe to an interactive table.\"\n",
              "              style=\"display:none;\">\n",
              "        \n",
              "  <svg xmlns=\"http://www.w3.org/2000/svg\" height=\"24px\"viewBox=\"0 0 24 24\"\n",
              "       width=\"24px\">\n",
              "    <path d=\"M0 0h24v24H0V0z\" fill=\"none\"/>\n",
              "    <path d=\"M18.56 5.44l.94 2.06.94-2.06 2.06-.94-2.06-.94-.94-2.06-.94 2.06-2.06.94zm-11 1L8.5 8.5l.94-2.06 2.06-.94-2.06-.94L8.5 2.5l-.94 2.06-2.06.94zm10 10l.94 2.06.94-2.06 2.06-.94-2.06-.94-.94-2.06-.94 2.06-2.06.94z\"/><path d=\"M17.41 7.96l-1.37-1.37c-.4-.4-.92-.59-1.43-.59-.52 0-1.04.2-1.43.59L10.3 9.45l-7.72 7.72c-.78.78-.78 2.05 0 2.83L4 21.41c.39.39.9.59 1.41.59.51 0 1.02-.2 1.41-.59l7.78-7.78 2.81-2.81c.8-.78.8-2.07 0-2.86zM5.41 20L4 18.59l7.72-7.72 1.47 1.35L5.41 20z\"/>\n",
              "  </svg>\n",
              "      </button>\n",
              "      \n",
              "  <style>\n",
              "    .colab-df-container {\n",
              "      display:flex;\n",
              "      flex-wrap:wrap;\n",
              "      gap: 12px;\n",
              "    }\n",
              "\n",
              "    .colab-df-convert {\n",
              "      background-color: #E8F0FE;\n",
              "      border: none;\n",
              "      border-radius: 50%;\n",
              "      cursor: pointer;\n",
              "      display: none;\n",
              "      fill: #1967D2;\n",
              "      height: 32px;\n",
              "      padding: 0 0 0 0;\n",
              "      width: 32px;\n",
              "    }\n",
              "\n",
              "    .colab-df-convert:hover {\n",
              "      background-color: #E2EBFA;\n",
              "      box-shadow: 0px 1px 2px rgba(60, 64, 67, 0.3), 0px 1px 3px 1px rgba(60, 64, 67, 0.15);\n",
              "      fill: #174EA6;\n",
              "    }\n",
              "\n",
              "    [theme=dark] .colab-df-convert {\n",
              "      background-color: #3B4455;\n",
              "      fill: #D2E3FC;\n",
              "    }\n",
              "\n",
              "    [theme=dark] .colab-df-convert:hover {\n",
              "      background-color: #434B5C;\n",
              "      box-shadow: 0px 1px 3px 1px rgba(0, 0, 0, 0.15);\n",
              "      filter: drop-shadow(0px 1px 2px rgba(0, 0, 0, 0.3));\n",
              "      fill: #FFFFFF;\n",
              "    }\n",
              "  </style>\n",
              "\n",
              "      <script>\n",
              "        const buttonEl =\n",
              "          document.querySelector('#df-267562b3-836f-4534-9f02-391809e33fca button.colab-df-convert');\n",
              "        buttonEl.style.display =\n",
              "          google.colab.kernel.accessAllowed ? 'block' : 'none';\n",
              "\n",
              "        async function convertToInteractive(key) {\n",
              "          const element = document.querySelector('#df-267562b3-836f-4534-9f02-391809e33fca');\n",
              "          const dataTable =\n",
              "            await google.colab.kernel.invokeFunction('convertToInteractive',\n",
              "                                                     [key], {});\n",
              "          if (!dataTable) return;\n",
              "\n",
              "          const docLinkHtml = 'Like what you see? Visit the ' +\n",
              "            '<a target=\"_blank\" href=https://colab.research.google.com/notebooks/data_table.ipynb>data table notebook</a>'\n",
              "            + ' to learn more about interactive tables.';\n",
              "          element.innerHTML = '';\n",
              "          dataTable['output_type'] = 'display_data';\n",
              "          await google.colab.output.renderOutput(dataTable, element);\n",
              "          const docLink = document.createElement('div');\n",
              "          docLink.innerHTML = docLinkHtml;\n",
              "          element.appendChild(docLink);\n",
              "        }\n",
              "      </script>\n",
              "    </div>\n",
              "  </div>\n",
              "  "
            ],
            "text/plain": [
              "     release_date MovieSuccessLevel director voice-actor  PG  PG-13  \\\n",
              "0            2001                 C        1         117   0      0   \n",
              "1            1994                 B        2          84   1      0   \n",
              "2            2004                 C        1          97   1      0   \n",
              "3            2003                 D        2           7   0      0   \n",
              "4            1993                 B        1          46   0      0   \n",
              "..            ...               ...      ...         ...  ..    ...   \n",
              "458          2002                 B        1          73   0      1   \n",
              "459          1999                 D        2          57   0      0   \n",
              "460          2012                 C        2          63   1      0   \n",
              "461          1992                 B        2          26   1      0   \n",
              "462          1997                 B        6         153   0      0   \n",
              "\n",
              "    other_rating  Comedy  Adventure  Drama other_genre  \n",
              "0              1       1          0      0           0  \n",
              "1              0       1          0      0           0  \n",
              "2              0       1          0      0           0  \n",
              "3              1       0          1      0           0  \n",
              "4              1       0          0      1           0  \n",
              "..           ...     ...        ...    ...         ...  \n",
              "458            0       1          0      0           0  \n",
              "459            1       1          0      0           0  \n",
              "460            0       0          0      1           0  \n",
              "461            0       1          0      0           0  \n",
              "462            1       0          1      0           0  \n",
              "\n",
              "[463 rows x 11 columns]"
            ]
          },
          "execution_count": null,
          "metadata": {},
          "output_type": "execute_result"
        }
      ],
      "source": [
        "my_data"
      ]
    },
    {
      "cell_type": "code",
      "execution_count": null,
      "metadata": {
        "colab": {
          "background_save": true
        },
        "id": "eQ28L5QYBhEa"
      },
      "outputs": [],
      "source": [
        "label = my_data[\"MovieSuccessLevel\"]"
      ]
    },
    {
      "cell_type": "code",
      "execution_count": null,
      "metadata": {
        "colab": {
          "background_save": true
        },
        "id": "YMy6SfEzGrTf"
      },
      "outputs": [],
      "source": [
        "my_data = my_data.drop(\"MovieSuccessLevel\",axis = 1)"
      ]
    },
    {
      "cell_type": "code",
      "execution_count": null,
      "metadata": {
        "colab": {
          "background_save": true
        },
        "id": "Gdy54YZu-Efl"
      },
      "outputs": [],
      "source": [
        "from sklearn.impute import KNNImputer\n",
        "from numpy import isnan\n",
        "\n",
        "imputer = KNNImputer(n_neighbors=5, weights='uniform', metric='nan_euclidean')\n",
        "imputer.fit(my_data)\n",
        "knnImputerFile = open(\"knnimputer.pkl\", \"wb\")\n",
        "pickle.dump(imputer, knnImputerFile)\n",
        "knnImputerFile.close()\n",
        "Xtrans = imputer.transform(my_data)"
      ]
    },
    {
      "cell_type": "code",
      "execution_count": null,
      "metadata": {
        "colab": {
          "background_save": true,
          "base_uri": "https://localhost:8080/"
        },
        "id": "3CbeiB2PEv2c",
        "outputId": "65eea22c-c102-40f8-ceaa-d0d22e7eb280"
      },
      "outputs": [
        {
          "data": {
            "text/plain": [
              "array([[2.001e+03, 1.000e+00, 1.170e+02, ..., 0.000e+00, 0.000e+00,\n",
              "        0.000e+00],\n",
              "       [1.994e+03, 2.000e+00, 8.400e+01, ..., 0.000e+00, 0.000e+00,\n",
              "        0.000e+00],\n",
              "       [2.004e+03, 1.000e+00, 9.700e+01, ..., 0.000e+00, 0.000e+00,\n",
              "        0.000e+00],\n",
              "       ...,\n",
              "       [2.012e+03, 2.000e+00, 6.300e+01, ..., 0.000e+00, 1.000e+00,\n",
              "        0.000e+00],\n",
              "       [1.992e+03, 2.000e+00, 2.600e+01, ..., 0.000e+00, 0.000e+00,\n",
              "        0.000e+00],\n",
              "       [1.997e+03, 6.000e+00, 1.530e+02, ..., 1.000e+00, 0.000e+00,\n",
              "        0.000e+00]])"
            ]
          },
          "execution_count": null,
          "metadata": {},
          "output_type": "execute_result"
        }
      ],
      "source": [
        "Xtrans"
      ]
    },
    {
      "cell_type": "code",
      "execution_count": null,
      "metadata": {
        "colab": {
          "background_save": true
        },
        "id": "Xm9eQtdcE3_Y"
      },
      "outputs": [],
      "source": [
        "my_data = pd.DataFrame(Xtrans, columns=my_data.columns)"
      ]
    },
    {
      "cell_type": "code",
      "execution_count": null,
      "metadata": {
        "colab": {
          "background_save": true,
          "base_uri": "https://localhost:8080/",
          "height": 424
        },
        "id": "VCO1y3rBFSKu",
        "outputId": "02e7c7a7-cf72-4733-c807-4e40965545f5"
      },
      "outputs": [
        {
          "data": {
            "text/html": [
              "\n",
              "  <div id=\"df-b1d1d56c-7110-4612-8b56-881d8cf8dab3\">\n",
              "    <div class=\"colab-df-container\">\n",
              "      <div>\n",
              "<style scoped>\n",
              "    .dataframe tbody tr th:only-of-type {\n",
              "        vertical-align: middle;\n",
              "    }\n",
              "\n",
              "    .dataframe tbody tr th {\n",
              "        vertical-align: top;\n",
              "    }\n",
              "\n",
              "    .dataframe thead th {\n",
              "        text-align: right;\n",
              "    }\n",
              "</style>\n",
              "<table border=\"1\" class=\"dataframe\">\n",
              "  <thead>\n",
              "    <tr style=\"text-align: right;\">\n",
              "      <th></th>\n",
              "      <th>release_date</th>\n",
              "      <th>director</th>\n",
              "      <th>voice-actor</th>\n",
              "      <th>PG</th>\n",
              "      <th>PG-13</th>\n",
              "      <th>other_rating</th>\n",
              "      <th>Comedy</th>\n",
              "      <th>Adventure</th>\n",
              "      <th>Drama</th>\n",
              "      <th>other_genre</th>\n",
              "    </tr>\n",
              "  </thead>\n",
              "  <tbody>\n",
              "    <tr>\n",
              "      <th>0</th>\n",
              "      <td>2001.0</td>\n",
              "      <td>1.0</td>\n",
              "      <td>117.0</td>\n",
              "      <td>0.0</td>\n",
              "      <td>0.0</td>\n",
              "      <td>1.0</td>\n",
              "      <td>1.0</td>\n",
              "      <td>0.0</td>\n",
              "      <td>0.0</td>\n",
              "      <td>0.0</td>\n",
              "    </tr>\n",
              "    <tr>\n",
              "      <th>1</th>\n",
              "      <td>1994.0</td>\n",
              "      <td>2.0</td>\n",
              "      <td>84.0</td>\n",
              "      <td>1.0</td>\n",
              "      <td>0.0</td>\n",
              "      <td>0.0</td>\n",
              "      <td>1.0</td>\n",
              "      <td>0.0</td>\n",
              "      <td>0.0</td>\n",
              "      <td>0.0</td>\n",
              "    </tr>\n",
              "    <tr>\n",
              "      <th>2</th>\n",
              "      <td>2004.0</td>\n",
              "      <td>1.0</td>\n",
              "      <td>97.0</td>\n",
              "      <td>1.0</td>\n",
              "      <td>0.0</td>\n",
              "      <td>0.0</td>\n",
              "      <td>1.0</td>\n",
              "      <td>0.0</td>\n",
              "      <td>0.0</td>\n",
              "      <td>0.0</td>\n",
              "    </tr>\n",
              "    <tr>\n",
              "      <th>3</th>\n",
              "      <td>2003.0</td>\n",
              "      <td>2.0</td>\n",
              "      <td>7.0</td>\n",
              "      <td>0.0</td>\n",
              "      <td>0.0</td>\n",
              "      <td>1.0</td>\n",
              "      <td>0.0</td>\n",
              "      <td>1.0</td>\n",
              "      <td>0.0</td>\n",
              "      <td>0.0</td>\n",
              "    </tr>\n",
              "    <tr>\n",
              "      <th>4</th>\n",
              "      <td>1993.0</td>\n",
              "      <td>1.0</td>\n",
              "      <td>46.0</td>\n",
              "      <td>0.0</td>\n",
              "      <td>0.0</td>\n",
              "      <td>1.0</td>\n",
              "      <td>0.0</td>\n",
              "      <td>0.0</td>\n",
              "      <td>1.0</td>\n",
              "      <td>0.0</td>\n",
              "    </tr>\n",
              "    <tr>\n",
              "      <th>...</th>\n",
              "      <td>...</td>\n",
              "      <td>...</td>\n",
              "      <td>...</td>\n",
              "      <td>...</td>\n",
              "      <td>...</td>\n",
              "      <td>...</td>\n",
              "      <td>...</td>\n",
              "      <td>...</td>\n",
              "      <td>...</td>\n",
              "      <td>...</td>\n",
              "    </tr>\n",
              "    <tr>\n",
              "      <th>458</th>\n",
              "      <td>2002.0</td>\n",
              "      <td>1.0</td>\n",
              "      <td>73.0</td>\n",
              "      <td>0.0</td>\n",
              "      <td>1.0</td>\n",
              "      <td>0.0</td>\n",
              "      <td>1.0</td>\n",
              "      <td>0.0</td>\n",
              "      <td>0.0</td>\n",
              "      <td>0.0</td>\n",
              "    </tr>\n",
              "    <tr>\n",
              "      <th>459</th>\n",
              "      <td>1999.0</td>\n",
              "      <td>2.0</td>\n",
              "      <td>57.0</td>\n",
              "      <td>0.0</td>\n",
              "      <td>0.0</td>\n",
              "      <td>1.0</td>\n",
              "      <td>1.0</td>\n",
              "      <td>0.0</td>\n",
              "      <td>0.0</td>\n",
              "      <td>0.0</td>\n",
              "    </tr>\n",
              "    <tr>\n",
              "      <th>460</th>\n",
              "      <td>2012.0</td>\n",
              "      <td>2.0</td>\n",
              "      <td>63.0</td>\n",
              "      <td>1.0</td>\n",
              "      <td>0.0</td>\n",
              "      <td>0.0</td>\n",
              "      <td>0.0</td>\n",
              "      <td>0.0</td>\n",
              "      <td>1.0</td>\n",
              "      <td>0.0</td>\n",
              "    </tr>\n",
              "    <tr>\n",
              "      <th>461</th>\n",
              "      <td>1992.0</td>\n",
              "      <td>2.0</td>\n",
              "      <td>26.0</td>\n",
              "      <td>1.0</td>\n",
              "      <td>0.0</td>\n",
              "      <td>0.0</td>\n",
              "      <td>1.0</td>\n",
              "      <td>0.0</td>\n",
              "      <td>0.0</td>\n",
              "      <td>0.0</td>\n",
              "    </tr>\n",
              "    <tr>\n",
              "      <th>462</th>\n",
              "      <td>1997.0</td>\n",
              "      <td>6.0</td>\n",
              "      <td>153.0</td>\n",
              "      <td>0.0</td>\n",
              "      <td>0.0</td>\n",
              "      <td>1.0</td>\n",
              "      <td>0.0</td>\n",
              "      <td>1.0</td>\n",
              "      <td>0.0</td>\n",
              "      <td>0.0</td>\n",
              "    </tr>\n",
              "  </tbody>\n",
              "</table>\n",
              "<p>463 rows × 10 columns</p>\n",
              "</div>\n",
              "      <button class=\"colab-df-convert\" onclick=\"convertToInteractive('df-b1d1d56c-7110-4612-8b56-881d8cf8dab3')\"\n",
              "              title=\"Convert this dataframe to an interactive table.\"\n",
              "              style=\"display:none;\">\n",
              "        \n",
              "  <svg xmlns=\"http://www.w3.org/2000/svg\" height=\"24px\"viewBox=\"0 0 24 24\"\n",
              "       width=\"24px\">\n",
              "    <path d=\"M0 0h24v24H0V0z\" fill=\"none\"/>\n",
              "    <path d=\"M18.56 5.44l.94 2.06.94-2.06 2.06-.94-2.06-.94-.94-2.06-.94 2.06-2.06.94zm-11 1L8.5 8.5l.94-2.06 2.06-.94-2.06-.94L8.5 2.5l-.94 2.06-2.06.94zm10 10l.94 2.06.94-2.06 2.06-.94-2.06-.94-.94-2.06-.94 2.06-2.06.94z\"/><path d=\"M17.41 7.96l-1.37-1.37c-.4-.4-.92-.59-1.43-.59-.52 0-1.04.2-1.43.59L10.3 9.45l-7.72 7.72c-.78.78-.78 2.05 0 2.83L4 21.41c.39.39.9.59 1.41.59.51 0 1.02-.2 1.41-.59l7.78-7.78 2.81-2.81c.8-.78.8-2.07 0-2.86zM5.41 20L4 18.59l7.72-7.72 1.47 1.35L5.41 20z\"/>\n",
              "  </svg>\n",
              "      </button>\n",
              "      \n",
              "  <style>\n",
              "    .colab-df-container {\n",
              "      display:flex;\n",
              "      flex-wrap:wrap;\n",
              "      gap: 12px;\n",
              "    }\n",
              "\n",
              "    .colab-df-convert {\n",
              "      background-color: #E8F0FE;\n",
              "      border: none;\n",
              "      border-radius: 50%;\n",
              "      cursor: pointer;\n",
              "      display: none;\n",
              "      fill: #1967D2;\n",
              "      height: 32px;\n",
              "      padding: 0 0 0 0;\n",
              "      width: 32px;\n",
              "    }\n",
              "\n",
              "    .colab-df-convert:hover {\n",
              "      background-color: #E2EBFA;\n",
              "      box-shadow: 0px 1px 2px rgba(60, 64, 67, 0.3), 0px 1px 3px 1px rgba(60, 64, 67, 0.15);\n",
              "      fill: #174EA6;\n",
              "    }\n",
              "\n",
              "    [theme=dark] .colab-df-convert {\n",
              "      background-color: #3B4455;\n",
              "      fill: #D2E3FC;\n",
              "    }\n",
              "\n",
              "    [theme=dark] .colab-df-convert:hover {\n",
              "      background-color: #434B5C;\n",
              "      box-shadow: 0px 1px 3px 1px rgba(0, 0, 0, 0.15);\n",
              "      filter: drop-shadow(0px 1px 2px rgba(0, 0, 0, 0.3));\n",
              "      fill: #FFFFFF;\n",
              "    }\n",
              "  </style>\n",
              "\n",
              "      <script>\n",
              "        const buttonEl =\n",
              "          document.querySelector('#df-b1d1d56c-7110-4612-8b56-881d8cf8dab3 button.colab-df-convert');\n",
              "        buttonEl.style.display =\n",
              "          google.colab.kernel.accessAllowed ? 'block' : 'none';\n",
              "\n",
              "        async function convertToInteractive(key) {\n",
              "          const element = document.querySelector('#df-b1d1d56c-7110-4612-8b56-881d8cf8dab3');\n",
              "          const dataTable =\n",
              "            await google.colab.kernel.invokeFunction('convertToInteractive',\n",
              "                                                     [key], {});\n",
              "          if (!dataTable) return;\n",
              "\n",
              "          const docLinkHtml = 'Like what you see? Visit the ' +\n",
              "            '<a target=\"_blank\" href=https://colab.research.google.com/notebooks/data_table.ipynb>data table notebook</a>'\n",
              "            + ' to learn more about interactive tables.';\n",
              "          element.innerHTML = '';\n",
              "          dataTable['output_type'] = 'display_data';\n",
              "          await google.colab.output.renderOutput(dataTable, element);\n",
              "          const docLink = document.createElement('div');\n",
              "          docLink.innerHTML = docLinkHtml;\n",
              "          element.appendChild(docLink);\n",
              "        }\n",
              "      </script>\n",
              "    </div>\n",
              "  </div>\n",
              "  "
            ],
            "text/plain": [
              "     release_date  director  voice-actor   PG  PG-13  other_rating  Comedy  \\\n",
              "0          2001.0       1.0        117.0  0.0    0.0           1.0     1.0   \n",
              "1          1994.0       2.0         84.0  1.0    0.0           0.0     1.0   \n",
              "2          2004.0       1.0         97.0  1.0    0.0           0.0     1.0   \n",
              "3          2003.0       2.0          7.0  0.0    0.0           1.0     0.0   \n",
              "4          1993.0       1.0         46.0  0.0    0.0           1.0     0.0   \n",
              "..            ...       ...          ...  ...    ...           ...     ...   \n",
              "458        2002.0       1.0         73.0  0.0    1.0           0.0     1.0   \n",
              "459        1999.0       2.0         57.0  0.0    0.0           1.0     1.0   \n",
              "460        2012.0       2.0         63.0  1.0    0.0           0.0     0.0   \n",
              "461        1992.0       2.0         26.0  1.0    0.0           0.0     1.0   \n",
              "462        1997.0       6.0        153.0  0.0    0.0           1.0     0.0   \n",
              "\n",
              "     Adventure  Drama  other_genre  \n",
              "0          0.0    0.0          0.0  \n",
              "1          0.0    0.0          0.0  \n",
              "2          0.0    0.0          0.0  \n",
              "3          1.0    0.0          0.0  \n",
              "4          0.0    1.0          0.0  \n",
              "..         ...    ...          ...  \n",
              "458        0.0    0.0          0.0  \n",
              "459        0.0    0.0          0.0  \n",
              "460        0.0    1.0          0.0  \n",
              "461        0.0    0.0          0.0  \n",
              "462        1.0    0.0          0.0  \n",
              "\n",
              "[463 rows x 10 columns]"
            ]
          },
          "execution_count": null,
          "metadata": {},
          "output_type": "execute_result"
        }
      ],
      "source": [
        "my_data"
      ]
    },
    {
      "cell_type": "code",
      "execution_count": null,
      "metadata": {
        "colab": {
          "background_save": true,
          "base_uri": "https://localhost:8080/"
        },
        "id": "iipzNTxiBHs5",
        "outputId": "b5eb18bb-0b4c-4a63-d8c0-2d92d9fb5150"
      },
      "outputs": [
        {
          "data": {
            "text/plain": [
              "release_date    0\n",
              "director        0\n",
              "voice-actor     0\n",
              "PG              0\n",
              "PG-13           0\n",
              "other_rating    0\n",
              "Comedy          0\n",
              "Adventure       0\n",
              "Drama           0\n",
              "other_genre     0\n",
              "dtype: int64"
            ]
          },
          "execution_count": null,
          "metadata": {},
          "output_type": "execute_result"
        }
      ],
      "source": [
        "my_data.isnull().sum()"
      ]
    },
    {
      "cell_type": "code",
      "execution_count": null,
      "metadata": {
        "colab": {
          "background_save": true
        },
        "id": "svzwpLOeIEUd"
      },
      "outputs": [],
      "source": [
        "for col in my_data.columns:\n",
        "  my_data[col] = my_data[col].astype(int)"
      ]
    },
    {
      "cell_type": "code",
      "execution_count": null,
      "metadata": {
        "colab": {
          "background_save": true,
          "base_uri": "https://localhost:8080/",
          "height": 424
        },
        "id": "VB8cNue5IRnf",
        "outputId": "c4538503-f8d0-449f-d2ec-edd179ab3cc6"
      },
      "outputs": [
        {
          "data": {
            "text/html": [
              "\n",
              "  <div id=\"df-451ac4c9-de3a-4f80-8c40-5653ff05c99f\">\n",
              "    <div class=\"colab-df-container\">\n",
              "      <div>\n",
              "<style scoped>\n",
              "    .dataframe tbody tr th:only-of-type {\n",
              "        vertical-align: middle;\n",
              "    }\n",
              "\n",
              "    .dataframe tbody tr th {\n",
              "        vertical-align: top;\n",
              "    }\n",
              "\n",
              "    .dataframe thead th {\n",
              "        text-align: right;\n",
              "    }\n",
              "</style>\n",
              "<table border=\"1\" class=\"dataframe\">\n",
              "  <thead>\n",
              "    <tr style=\"text-align: right;\">\n",
              "      <th></th>\n",
              "      <th>release_date</th>\n",
              "      <th>director</th>\n",
              "      <th>voice-actor</th>\n",
              "      <th>PG</th>\n",
              "      <th>PG-13</th>\n",
              "      <th>other_rating</th>\n",
              "      <th>Comedy</th>\n",
              "      <th>Adventure</th>\n",
              "      <th>Drama</th>\n",
              "      <th>other_genre</th>\n",
              "    </tr>\n",
              "  </thead>\n",
              "  <tbody>\n",
              "    <tr>\n",
              "      <th>0</th>\n",
              "      <td>2001</td>\n",
              "      <td>1</td>\n",
              "      <td>117</td>\n",
              "      <td>0</td>\n",
              "      <td>0</td>\n",
              "      <td>1</td>\n",
              "      <td>1</td>\n",
              "      <td>0</td>\n",
              "      <td>0</td>\n",
              "      <td>0</td>\n",
              "    </tr>\n",
              "    <tr>\n",
              "      <th>1</th>\n",
              "      <td>1994</td>\n",
              "      <td>2</td>\n",
              "      <td>84</td>\n",
              "      <td>1</td>\n",
              "      <td>0</td>\n",
              "      <td>0</td>\n",
              "      <td>1</td>\n",
              "      <td>0</td>\n",
              "      <td>0</td>\n",
              "      <td>0</td>\n",
              "    </tr>\n",
              "    <tr>\n",
              "      <th>2</th>\n",
              "      <td>2004</td>\n",
              "      <td>1</td>\n",
              "      <td>97</td>\n",
              "      <td>1</td>\n",
              "      <td>0</td>\n",
              "      <td>0</td>\n",
              "      <td>1</td>\n",
              "      <td>0</td>\n",
              "      <td>0</td>\n",
              "      <td>0</td>\n",
              "    </tr>\n",
              "    <tr>\n",
              "      <th>3</th>\n",
              "      <td>2003</td>\n",
              "      <td>2</td>\n",
              "      <td>7</td>\n",
              "      <td>0</td>\n",
              "      <td>0</td>\n",
              "      <td>1</td>\n",
              "      <td>0</td>\n",
              "      <td>1</td>\n",
              "      <td>0</td>\n",
              "      <td>0</td>\n",
              "    </tr>\n",
              "    <tr>\n",
              "      <th>4</th>\n",
              "      <td>1993</td>\n",
              "      <td>1</td>\n",
              "      <td>46</td>\n",
              "      <td>0</td>\n",
              "      <td>0</td>\n",
              "      <td>1</td>\n",
              "      <td>0</td>\n",
              "      <td>0</td>\n",
              "      <td>1</td>\n",
              "      <td>0</td>\n",
              "    </tr>\n",
              "    <tr>\n",
              "      <th>...</th>\n",
              "      <td>...</td>\n",
              "      <td>...</td>\n",
              "      <td>...</td>\n",
              "      <td>...</td>\n",
              "      <td>...</td>\n",
              "      <td>...</td>\n",
              "      <td>...</td>\n",
              "      <td>...</td>\n",
              "      <td>...</td>\n",
              "      <td>...</td>\n",
              "    </tr>\n",
              "    <tr>\n",
              "      <th>458</th>\n",
              "      <td>2002</td>\n",
              "      <td>1</td>\n",
              "      <td>73</td>\n",
              "      <td>0</td>\n",
              "      <td>1</td>\n",
              "      <td>0</td>\n",
              "      <td>1</td>\n",
              "      <td>0</td>\n",
              "      <td>0</td>\n",
              "      <td>0</td>\n",
              "    </tr>\n",
              "    <tr>\n",
              "      <th>459</th>\n",
              "      <td>1999</td>\n",
              "      <td>2</td>\n",
              "      <td>57</td>\n",
              "      <td>0</td>\n",
              "      <td>0</td>\n",
              "      <td>1</td>\n",
              "      <td>1</td>\n",
              "      <td>0</td>\n",
              "      <td>0</td>\n",
              "      <td>0</td>\n",
              "    </tr>\n",
              "    <tr>\n",
              "      <th>460</th>\n",
              "      <td>2012</td>\n",
              "      <td>2</td>\n",
              "      <td>63</td>\n",
              "      <td>1</td>\n",
              "      <td>0</td>\n",
              "      <td>0</td>\n",
              "      <td>0</td>\n",
              "      <td>0</td>\n",
              "      <td>1</td>\n",
              "      <td>0</td>\n",
              "    </tr>\n",
              "    <tr>\n",
              "      <th>461</th>\n",
              "      <td>1992</td>\n",
              "      <td>2</td>\n",
              "      <td>26</td>\n",
              "      <td>1</td>\n",
              "      <td>0</td>\n",
              "      <td>0</td>\n",
              "      <td>1</td>\n",
              "      <td>0</td>\n",
              "      <td>0</td>\n",
              "      <td>0</td>\n",
              "    </tr>\n",
              "    <tr>\n",
              "      <th>462</th>\n",
              "      <td>1997</td>\n",
              "      <td>6</td>\n",
              "      <td>153</td>\n",
              "      <td>0</td>\n",
              "      <td>0</td>\n",
              "      <td>1</td>\n",
              "      <td>0</td>\n",
              "      <td>1</td>\n",
              "      <td>0</td>\n",
              "      <td>0</td>\n",
              "    </tr>\n",
              "  </tbody>\n",
              "</table>\n",
              "<p>463 rows × 10 columns</p>\n",
              "</div>\n",
              "      <button class=\"colab-df-convert\" onclick=\"convertToInteractive('df-451ac4c9-de3a-4f80-8c40-5653ff05c99f')\"\n",
              "              title=\"Convert this dataframe to an interactive table.\"\n",
              "              style=\"display:none;\">\n",
              "        \n",
              "  <svg xmlns=\"http://www.w3.org/2000/svg\" height=\"24px\"viewBox=\"0 0 24 24\"\n",
              "       width=\"24px\">\n",
              "    <path d=\"M0 0h24v24H0V0z\" fill=\"none\"/>\n",
              "    <path d=\"M18.56 5.44l.94 2.06.94-2.06 2.06-.94-2.06-.94-.94-2.06-.94 2.06-2.06.94zm-11 1L8.5 8.5l.94-2.06 2.06-.94-2.06-.94L8.5 2.5l-.94 2.06-2.06.94zm10 10l.94 2.06.94-2.06 2.06-.94-2.06-.94-.94-2.06-.94 2.06-2.06.94z\"/><path d=\"M17.41 7.96l-1.37-1.37c-.4-.4-.92-.59-1.43-.59-.52 0-1.04.2-1.43.59L10.3 9.45l-7.72 7.72c-.78.78-.78 2.05 0 2.83L4 21.41c.39.39.9.59 1.41.59.51 0 1.02-.2 1.41-.59l7.78-7.78 2.81-2.81c.8-.78.8-2.07 0-2.86zM5.41 20L4 18.59l7.72-7.72 1.47 1.35L5.41 20z\"/>\n",
              "  </svg>\n",
              "      </button>\n",
              "      \n",
              "  <style>\n",
              "    .colab-df-container {\n",
              "      display:flex;\n",
              "      flex-wrap:wrap;\n",
              "      gap: 12px;\n",
              "    }\n",
              "\n",
              "    .colab-df-convert {\n",
              "      background-color: #E8F0FE;\n",
              "      border: none;\n",
              "      border-radius: 50%;\n",
              "      cursor: pointer;\n",
              "      display: none;\n",
              "      fill: #1967D2;\n",
              "      height: 32px;\n",
              "      padding: 0 0 0 0;\n",
              "      width: 32px;\n",
              "    }\n",
              "\n",
              "    .colab-df-convert:hover {\n",
              "      background-color: #E2EBFA;\n",
              "      box-shadow: 0px 1px 2px rgba(60, 64, 67, 0.3), 0px 1px 3px 1px rgba(60, 64, 67, 0.15);\n",
              "      fill: #174EA6;\n",
              "    }\n",
              "\n",
              "    [theme=dark] .colab-df-convert {\n",
              "      background-color: #3B4455;\n",
              "      fill: #D2E3FC;\n",
              "    }\n",
              "\n",
              "    [theme=dark] .colab-df-convert:hover {\n",
              "      background-color: #434B5C;\n",
              "      box-shadow: 0px 1px 3px 1px rgba(0, 0, 0, 0.15);\n",
              "      filter: drop-shadow(0px 1px 2px rgba(0, 0, 0, 0.3));\n",
              "      fill: #FFFFFF;\n",
              "    }\n",
              "  </style>\n",
              "\n",
              "      <script>\n",
              "        const buttonEl =\n",
              "          document.querySelector('#df-451ac4c9-de3a-4f80-8c40-5653ff05c99f button.colab-df-convert');\n",
              "        buttonEl.style.display =\n",
              "          google.colab.kernel.accessAllowed ? 'block' : 'none';\n",
              "\n",
              "        async function convertToInteractive(key) {\n",
              "          const element = document.querySelector('#df-451ac4c9-de3a-4f80-8c40-5653ff05c99f');\n",
              "          const dataTable =\n",
              "            await google.colab.kernel.invokeFunction('convertToInteractive',\n",
              "                                                     [key], {});\n",
              "          if (!dataTable) return;\n",
              "\n",
              "          const docLinkHtml = 'Like what you see? Visit the ' +\n",
              "            '<a target=\"_blank\" href=https://colab.research.google.com/notebooks/data_table.ipynb>data table notebook</a>'\n",
              "            + ' to learn more about interactive tables.';\n",
              "          element.innerHTML = '';\n",
              "          dataTable['output_type'] = 'display_data';\n",
              "          await google.colab.output.renderOutput(dataTable, element);\n",
              "          const docLink = document.createElement('div');\n",
              "          docLink.innerHTML = docLinkHtml;\n",
              "          element.appendChild(docLink);\n",
              "        }\n",
              "      </script>\n",
              "    </div>\n",
              "  </div>\n",
              "  "
            ],
            "text/plain": [
              "     release_date  director  voice-actor  PG  PG-13  other_rating  Comedy  \\\n",
              "0            2001         1          117   0      0             1       1   \n",
              "1            1994         2           84   1      0             0       1   \n",
              "2            2004         1           97   1      0             0       1   \n",
              "3            2003         2            7   0      0             1       0   \n",
              "4            1993         1           46   0      0             1       0   \n",
              "..            ...       ...          ...  ..    ...           ...     ...   \n",
              "458          2002         1           73   0      1             0       1   \n",
              "459          1999         2           57   0      0             1       1   \n",
              "460          2012         2           63   1      0             0       0   \n",
              "461          1992         2           26   1      0             0       1   \n",
              "462          1997         6          153   0      0             1       0   \n",
              "\n",
              "     Adventure  Drama  other_genre  \n",
              "0            0      0            0  \n",
              "1            0      0            0  \n",
              "2            0      0            0  \n",
              "3            1      0            0  \n",
              "4            0      1            0  \n",
              "..         ...    ...          ...  \n",
              "458          0      0            0  \n",
              "459          0      0            0  \n",
              "460          0      1            0  \n",
              "461          0      0            0  \n",
              "462          1      0            0  \n",
              "\n",
              "[463 rows x 10 columns]"
            ]
          },
          "execution_count": null,
          "metadata": {},
          "output_type": "execute_result"
        }
      ],
      "source": [
        "my_data"
      ]
    },
    {
      "cell_type": "code",
      "execution_count": null,
      "metadata": {
        "colab": {
          "background_save": true,
          "base_uri": "https://localhost:8080/"
        },
        "id": "J8RrJYCqI_Fe",
        "outputId": "816493fa-4974-4f69-a19c-844dd8a39366"
      },
      "outputs": [
        {
          "name": "stdout",
          "output_type": "stream",
          "text": [
            "C    164\n",
            "B    130\n",
            "D    100\n",
            "A     56\n",
            "S     13\n",
            "Name: MovieSuccessLevel, dtype: int64\n"
          ]
        }
      ],
      "source": [
        "print(label.value_counts().sort_values(ascending=False))"
      ]
    },
    {
      "cell_type": "code",
      "execution_count": null,
      "metadata": {
        "colab": {
          "background_save": true
        },
        "id": "t6KeLUclJ_97"
      },
      "outputs": [],
      "source": [
        "success = {\"S\": 5, \"A\" : 4, \"B\":3,\"C\":2,\"D\":1}"
      ]
    },
    {
      "cell_type": "code",
      "execution_count": null,
      "metadata": {
        "colab": {
          "background_save": true,
          "base_uri": "https://localhost:8080/"
        },
        "id": "y1UqMaEtKLgM",
        "outputId": "a0b5590d-4c93-4548-809e-5cc4f7a763a9"
      },
      "outputs": [
        {
          "name": "stderr",
          "output_type": "stream",
          "text": [
            "/usr/local/lib/python3.7/dist-packages/ipykernel_launcher.py:2: SettingWithCopyWarning: \n",
            "A value is trying to be set on a copy of a slice from a DataFrame\n",
            "\n",
            "See the caveats in the documentation: https://pandas.pydata.org/pandas-docs/stable/user_guide/indexing.html#returning-a-view-versus-a-copy\n",
            "  \n"
          ]
        }
      ],
      "source": [
        "for i in range(len(label)):\n",
        "  label[i] = success[label[i]]"
      ]
    },
    {
      "cell_type": "code",
      "execution_count": null,
      "metadata": {
        "colab": {
          "background_save": true
        },
        "id": "Vrg5PTo5NdrH"
      },
      "outputs": [],
      "source": [
        "label = label.astype(int)"
      ]
    },
    {
      "cell_type": "code",
      "execution_count": null,
      "metadata": {
        "colab": {
          "background_save": true,
          "base_uri": "https://localhost:8080/"
        },
        "id": "YZqz43xxKn_B",
        "outputId": "0d3e1441-10ef-4a27-8fd8-e0025ad5e570"
      },
      "outputs": [
        {
          "data": {
            "text/plain": [
              "0      2\n",
              "1      3\n",
              "2      2\n",
              "3      1\n",
              "4      3\n",
              "      ..\n",
              "458    3\n",
              "459    1\n",
              "460    2\n",
              "461    3\n",
              "462    3\n",
              "Name: MovieSuccessLevel, Length: 463, dtype: int64"
            ]
          },
          "execution_count": null,
          "metadata": {},
          "output_type": "execute_result"
        }
      ],
      "source": [
        "label"
      ]
    },
    {
      "cell_type": "code",
      "execution_count": null,
      "metadata": {
        "colab": {
          "background_save": true
        },
        "id": "5brf7zo1L7mR"
      },
      "outputs": [],
      "source": [
        "x = my_data"
      ]
    },
    {
      "cell_type": "code",
      "execution_count": null,
      "metadata": {
        "colab": {
          "background_save": true
        },
        "id": "8lksZv9V8m1D"
      },
      "outputs": [],
      "source": [
        "droppedCols = list()"
      ]
    },
    {
      "cell_type": "code",
      "execution_count": null,
      "metadata": {
        "colab": {
          "background_save": true,
          "base_uri": "https://localhost:8080/"
        },
        "id": "zrd3wtiVFsyZ",
        "outputId": "9db882c1-46c3-4b1b-bf4e-d0ec79d25f3e"
      },
      "outputs": [
        {
          "name": "stdout",
          "output_type": "stream",
          "text": [
            "release_date\n",
            "0.03382760729235466\n",
            "director\n",
            "2.655517455791592e-08\n",
            "voice-actor\n",
            "1.6122498426189607e-20\n",
            "PG\n",
            "0.058511637032679524\n",
            "Adventure\n",
            "1.2178849976443258e-09\n",
            "Drama\n",
            "0.008740476336419426\n"
          ]
        }
      ],
      "source": [
        "import scipy.stats \n",
        "for col_name in my_data.columns:\n",
        "  corr, pval = scipy.stats.pearsonr(my_data[col_name],label)\n",
        "  if pval <= 0.1:\n",
        "    print(col_name)\n",
        "    print(pval)\n",
        "  else:\n",
        "    x = x.drop(col_name, axis = 1)\n",
        "    droppedCols.append(col_name)\n"
      ]
    },
    {
      "cell_type": "code",
      "execution_count": null,
      "metadata": {
        "colab": {
          "background_save": true
        },
        "id": "LW89ZiKm9JGb"
      },
      "outputs": [],
      "source": [
        "droppedColsFile = open(\"droppedCols.pkl\", \"wb\")\n",
        "pickle.dump(droppedCols, droppedColsFile)\n",
        "droppedColsFile.close()"
      ]
    },
    {
      "cell_type": "code",
      "execution_count": null,
      "metadata": {
        "colab": {
          "background_save": true,
          "base_uri": "https://localhost:8080/",
          "height": 424
        },
        "id": "tFeHfkaVLrDR",
        "outputId": "13204890-4bc1-44f3-c815-5d2bda6820ad"
      },
      "outputs": [
        {
          "data": {
            "text/html": [
              "\n",
              "  <div id=\"df-adb7fa70-691e-427f-ab63-ee4f9e36beb8\">\n",
              "    <div class=\"colab-df-container\">\n",
              "      <div>\n",
              "<style scoped>\n",
              "    .dataframe tbody tr th:only-of-type {\n",
              "        vertical-align: middle;\n",
              "    }\n",
              "\n",
              "    .dataframe tbody tr th {\n",
              "        vertical-align: top;\n",
              "    }\n",
              "\n",
              "    .dataframe thead th {\n",
              "        text-align: right;\n",
              "    }\n",
              "</style>\n",
              "<table border=\"1\" class=\"dataframe\">\n",
              "  <thead>\n",
              "    <tr style=\"text-align: right;\">\n",
              "      <th></th>\n",
              "      <th>release_date</th>\n",
              "      <th>director</th>\n",
              "      <th>voice-actor</th>\n",
              "      <th>PG</th>\n",
              "      <th>Adventure</th>\n",
              "      <th>Drama</th>\n",
              "    </tr>\n",
              "  </thead>\n",
              "  <tbody>\n",
              "    <tr>\n",
              "      <th>0</th>\n",
              "      <td>2001</td>\n",
              "      <td>1</td>\n",
              "      <td>117</td>\n",
              "      <td>0</td>\n",
              "      <td>0</td>\n",
              "      <td>0</td>\n",
              "    </tr>\n",
              "    <tr>\n",
              "      <th>1</th>\n",
              "      <td>1994</td>\n",
              "      <td>2</td>\n",
              "      <td>84</td>\n",
              "      <td>1</td>\n",
              "      <td>0</td>\n",
              "      <td>0</td>\n",
              "    </tr>\n",
              "    <tr>\n",
              "      <th>2</th>\n",
              "      <td>2004</td>\n",
              "      <td>1</td>\n",
              "      <td>97</td>\n",
              "      <td>1</td>\n",
              "      <td>0</td>\n",
              "      <td>0</td>\n",
              "    </tr>\n",
              "    <tr>\n",
              "      <th>3</th>\n",
              "      <td>2003</td>\n",
              "      <td>2</td>\n",
              "      <td>7</td>\n",
              "      <td>0</td>\n",
              "      <td>1</td>\n",
              "      <td>0</td>\n",
              "    </tr>\n",
              "    <tr>\n",
              "      <th>4</th>\n",
              "      <td>1993</td>\n",
              "      <td>1</td>\n",
              "      <td>46</td>\n",
              "      <td>0</td>\n",
              "      <td>0</td>\n",
              "      <td>1</td>\n",
              "    </tr>\n",
              "    <tr>\n",
              "      <th>...</th>\n",
              "      <td>...</td>\n",
              "      <td>...</td>\n",
              "      <td>...</td>\n",
              "      <td>...</td>\n",
              "      <td>...</td>\n",
              "      <td>...</td>\n",
              "    </tr>\n",
              "    <tr>\n",
              "      <th>458</th>\n",
              "      <td>2002</td>\n",
              "      <td>1</td>\n",
              "      <td>73</td>\n",
              "      <td>0</td>\n",
              "      <td>0</td>\n",
              "      <td>0</td>\n",
              "    </tr>\n",
              "    <tr>\n",
              "      <th>459</th>\n",
              "      <td>1999</td>\n",
              "      <td>2</td>\n",
              "      <td>57</td>\n",
              "      <td>0</td>\n",
              "      <td>0</td>\n",
              "      <td>0</td>\n",
              "    </tr>\n",
              "    <tr>\n",
              "      <th>460</th>\n",
              "      <td>2012</td>\n",
              "      <td>2</td>\n",
              "      <td>63</td>\n",
              "      <td>1</td>\n",
              "      <td>0</td>\n",
              "      <td>1</td>\n",
              "    </tr>\n",
              "    <tr>\n",
              "      <th>461</th>\n",
              "      <td>1992</td>\n",
              "      <td>2</td>\n",
              "      <td>26</td>\n",
              "      <td>1</td>\n",
              "      <td>0</td>\n",
              "      <td>0</td>\n",
              "    </tr>\n",
              "    <tr>\n",
              "      <th>462</th>\n",
              "      <td>1997</td>\n",
              "      <td>6</td>\n",
              "      <td>153</td>\n",
              "      <td>0</td>\n",
              "      <td>1</td>\n",
              "      <td>0</td>\n",
              "    </tr>\n",
              "  </tbody>\n",
              "</table>\n",
              "<p>463 rows × 6 columns</p>\n",
              "</div>\n",
              "      <button class=\"colab-df-convert\" onclick=\"convertToInteractive('df-adb7fa70-691e-427f-ab63-ee4f9e36beb8')\"\n",
              "              title=\"Convert this dataframe to an interactive table.\"\n",
              "              style=\"display:none;\">\n",
              "        \n",
              "  <svg xmlns=\"http://www.w3.org/2000/svg\" height=\"24px\"viewBox=\"0 0 24 24\"\n",
              "       width=\"24px\">\n",
              "    <path d=\"M0 0h24v24H0V0z\" fill=\"none\"/>\n",
              "    <path d=\"M18.56 5.44l.94 2.06.94-2.06 2.06-.94-2.06-.94-.94-2.06-.94 2.06-2.06.94zm-11 1L8.5 8.5l.94-2.06 2.06-.94-2.06-.94L8.5 2.5l-.94 2.06-2.06.94zm10 10l.94 2.06.94-2.06 2.06-.94-2.06-.94-.94-2.06-.94 2.06-2.06.94z\"/><path d=\"M17.41 7.96l-1.37-1.37c-.4-.4-.92-.59-1.43-.59-.52 0-1.04.2-1.43.59L10.3 9.45l-7.72 7.72c-.78.78-.78 2.05 0 2.83L4 21.41c.39.39.9.59 1.41.59.51 0 1.02-.2 1.41-.59l7.78-7.78 2.81-2.81c.8-.78.8-2.07 0-2.86zM5.41 20L4 18.59l7.72-7.72 1.47 1.35L5.41 20z\"/>\n",
              "  </svg>\n",
              "      </button>\n",
              "      \n",
              "  <style>\n",
              "    .colab-df-container {\n",
              "      display:flex;\n",
              "      flex-wrap:wrap;\n",
              "      gap: 12px;\n",
              "    }\n",
              "\n",
              "    .colab-df-convert {\n",
              "      background-color: #E8F0FE;\n",
              "      border: none;\n",
              "      border-radius: 50%;\n",
              "      cursor: pointer;\n",
              "      display: none;\n",
              "      fill: #1967D2;\n",
              "      height: 32px;\n",
              "      padding: 0 0 0 0;\n",
              "      width: 32px;\n",
              "    }\n",
              "\n",
              "    .colab-df-convert:hover {\n",
              "      background-color: #E2EBFA;\n",
              "      box-shadow: 0px 1px 2px rgba(60, 64, 67, 0.3), 0px 1px 3px 1px rgba(60, 64, 67, 0.15);\n",
              "      fill: #174EA6;\n",
              "    }\n",
              "\n",
              "    [theme=dark] .colab-df-convert {\n",
              "      background-color: #3B4455;\n",
              "      fill: #D2E3FC;\n",
              "    }\n",
              "\n",
              "    [theme=dark] .colab-df-convert:hover {\n",
              "      background-color: #434B5C;\n",
              "      box-shadow: 0px 1px 3px 1px rgba(0, 0, 0, 0.15);\n",
              "      filter: drop-shadow(0px 1px 2px rgba(0, 0, 0, 0.3));\n",
              "      fill: #FFFFFF;\n",
              "    }\n",
              "  </style>\n",
              "\n",
              "      <script>\n",
              "        const buttonEl =\n",
              "          document.querySelector('#df-adb7fa70-691e-427f-ab63-ee4f9e36beb8 button.colab-df-convert');\n",
              "        buttonEl.style.display =\n",
              "          google.colab.kernel.accessAllowed ? 'block' : 'none';\n",
              "\n",
              "        async function convertToInteractive(key) {\n",
              "          const element = document.querySelector('#df-adb7fa70-691e-427f-ab63-ee4f9e36beb8');\n",
              "          const dataTable =\n",
              "            await google.colab.kernel.invokeFunction('convertToInteractive',\n",
              "                                                     [key], {});\n",
              "          if (!dataTable) return;\n",
              "\n",
              "          const docLinkHtml = 'Like what you see? Visit the ' +\n",
              "            '<a target=\"_blank\" href=https://colab.research.google.com/notebooks/data_table.ipynb>data table notebook</a>'\n",
              "            + ' to learn more about interactive tables.';\n",
              "          element.innerHTML = '';\n",
              "          dataTable['output_type'] = 'display_data';\n",
              "          await google.colab.output.renderOutput(dataTable, element);\n",
              "          const docLink = document.createElement('div');\n",
              "          docLink.innerHTML = docLinkHtml;\n",
              "          element.appendChild(docLink);\n",
              "        }\n",
              "      </script>\n",
              "    </div>\n",
              "  </div>\n",
              "  "
            ],
            "text/plain": [
              "     release_date  director  voice-actor  PG  Adventure  Drama\n",
              "0            2001         1          117   0          0      0\n",
              "1            1994         2           84   1          0      0\n",
              "2            2004         1           97   1          0      0\n",
              "3            2003         2            7   0          1      0\n",
              "4            1993         1           46   0          0      1\n",
              "..            ...       ...          ...  ..        ...    ...\n",
              "458          2002         1           73   0          0      0\n",
              "459          1999         2           57   0          0      0\n",
              "460          2012         2           63   1          0      1\n",
              "461          1992         2           26   1          0      0\n",
              "462          1997         6          153   0          1      0\n",
              "\n",
              "[463 rows x 6 columns]"
            ]
          },
          "execution_count": null,
          "metadata": {},
          "output_type": "execute_result"
        }
      ],
      "source": [
        "x"
      ]
    },
    {
      "cell_type": "code",
      "execution_count": null,
      "metadata": {
        "colab": {
          "background_save": true
        },
        "id": "KAarUGc8MIy5"
      },
      "outputs": [],
      "source": [
        "X_train, X_test, y_train, y_test = train_test_split(x, label, train_size=0.80,shuffle=True, random_state=42)"
      ]
    },
    {
      "cell_type": "code",
      "execution_count": null,
      "metadata": {
        "colab": {
          "background_save": true
        },
        "id": "PsjcHscmMyfo"
      },
      "outputs": [],
      "source": [
        "from sklearn.svm import LinearSVC\n",
        "from sklearn.svm import SVC\n",
        "from sklearn import svm\n",
        "from sklearn.multiclass import OneVsRestClassifier,OneVsOneClassifier"
      ]
    },
    {
      "cell_type": "code",
      "execution_count": null,
      "metadata": {
        "colab": {
          "background_save": true
        },
        "id": "AaHSr0x5mwZT"
      },
      "outputs": [],
      "source": [
        "modelsList = list()\n",
        "accList = list()\n",
        "trainTime = list()\n",
        "testTime = list()"
      ]
    },
    {
      "cell_type": "code",
      "execution_count": null,
      "metadata": {
        "colab": {
          "background_save": true,
          "base_uri": "https://localhost:8080/"
        },
        "id": "AynrdspbM1Cz",
        "outputId": "b860d96b-ff6d-42a9-9f3d-a59efb1493be"
      },
      "outputs": [
        {
          "name": "stdout",
          "output_type": "stream",
          "text": [
            "Training Time for Linear Kernel:  0.4574258327484131\n",
            "Training Time for Radial Basis Kernel:  0.01936793327331543\n",
            "Training Time for Polynomial Kernel: 0.008819341659545898\n",
            "Training Time for Sigmoid Kernel: 0.016736268997192383\n"
          ]
        }
      ],
      "source": [
        "start = time.time()\n",
        "linear = svm.SVC(kernel='linear', C=1, decision_function_shape='ovr').fit(X_train, y_train)\n",
        "stop = time.time()\n",
        "print(\"Training Time for Linear Kernel: \", stop - start)\n",
        "rbf = svm.SVC(kernel='rbf', gamma=1, C=1, decision_function_shape='ovo').fit(X_train, y_train)\n",
        "stop2=time.time()\n",
        "print(\"Training Time for Radial Basis Kernel: \", stop2-stop)\n",
        "poly = svm.SVC(kernel='poly', degree=7, C=1, decision_function_shape='ovo').fit(X_train, y_train)\n",
        "stop3 =time.time()\n",
        "print(\"Training Time for Polynomial Kernel:\", stop3-stop2)\n",
        "sig = svm.SVC(kernel='sigmoid', C=1, decision_function_shape='ovo').fit(X_train, y_train)\n",
        "stop4 = time.time()\n",
        "print(\"Training Time for Sigmoid Kernel:\", stop4-stop3)"
      ]
    },
    {
      "cell_type": "code",
      "execution_count": null,
      "metadata": {
        "colab": {
          "background_save": true,
          "base_uri": "https://localhost:8080/"
        },
        "id": "ZJWN01fjNxdF",
        "outputId": "9cc831f3-f549-439b-f00b-8027fd36458d"
      },
      "outputs": [
        {
          "name": "stdout",
          "output_type": "stream",
          "text": [
            "Testing Time for Linear Kernel:  0.004171609878540039\n",
            "Testing Time for polynomial Kernel:  0.005733966827392578\n",
            "Testing Time for Radial Basis Kernel:  0.006109952926635742\n",
            "Testing Time for sigmoid Kernel:  0.0046651363372802734\n"
          ]
        }
      ],
      "source": [
        "start = time.time()\n",
        "accuracy_lin = linear.score(X_test, y_test)\n",
        "stop = time.time()\n",
        "print(\"Testing Time for Linear Kernel: \", stop - start)\n",
        "accuracy_poly = poly.score(X_test, y_test)\n",
        "stop2 = time.time()\n",
        "print(\"Testing Time for polynomial Kernel: \", stop2 - stop)\n",
        "accuracy_rbf = rbf.score(X_test, y_test)\n",
        "stop3 = time.time()\n",
        "print(\"Testing Time for Radial Basis Kernel: \", stop3 - stop2)\n",
        "accuracy_sig = sig.score(X_test, y_test)\n",
        "stop4 = time.time()\n",
        "print(\"Testing Time for sigmoid Kernel: \", stop4 - stop3)"
      ]
    },
    {
      "cell_type": "code",
      "execution_count": null,
      "metadata": {
        "colab": {
          "background_save": true,
          "base_uri": "https://localhost:8080/"
        },
        "id": "sbtaZo9I7gKu",
        "outputId": "91759d99-5062-4b89-bcf0-177f86d990f2"
      },
      "outputs": [
        {
          "name": "stdout",
          "output_type": "stream",
          "text": [
            "Accuracy Linear Kernel: 40.86021505376344\n",
            "Accuracy Polynomial Kernel: 37.634408602150536\n",
            "Accuracy Radial Basis Kernel: 32.25806451612903\n",
            "Accuracy Sigmoid Kernel: 33.33333333333333\n"
          ]
        }
      ],
      "source": [
        "print(\"Accuracy Linear Kernel:\", accuracy_lin*100)\n",
        "print(\"Accuracy Polynomial Kernel:\", accuracy_poly*100)\n",
        "print(\"Accuracy Radial Basis Kernel:\", accuracy_rbf*100)\n",
        "print(\"Accuracy Sigmoid Kernel:\", accuracy_sig*100)"
      ]
    },
    {
      "cell_type": "code",
      "execution_count": null,
      "metadata": {
        "colab": {
          "background_save": true,
          "base_uri": "https://localhost:8080/"
        },
        "id": "37AFI_EE452J",
        "outputId": "49c077e1-19db-4895-99ca-9ec4d18bfb8d"
      },
      "outputs": [
        {
          "name": "stdout",
          "output_type": "stream",
          "text": [
            "Training Time for Linear for c=1.5 : 0.5425434112548828\n",
            "Training Time for Linear for c=0.5 : 0.2905418872833252\n",
            "Training Time for Linear for c=0.25 : 0.14197540283203125\n"
          ]
        }
      ],
      "source": [
        "start = time.time()\n",
        "linear1 = svm.SVC(kernel='linear', C=1.5, decision_function_shape='ovr').fit(X_train, y_train)\n",
        "stop = time.time()\n",
        "print(\"Training Time for Linear for c=1.5 :\", stop-start)\n",
        "linear2 = svm.SVC(kernel='linear', C=0.5, decision_function_shape='ovr').fit(X_train, y_train)\n",
        "stop2 = time.time()\n",
        "print(\"Training Time for Linear for c=0.5 :\", stop2-stop)\n",
        "linear3 = svm.SVC(kernel='linear', C=0.25, decision_function_shape='ovr').fit(X_train, y_train)\n",
        "dumppers('linearSVM.sav',linear3)\n",
        "modelsList.append(\"linearSVM\")\n",
        "stop3=time.time()\n",
        "print(\"Training Time for Linear for c=0.25 :\",stop3-stop2)\n",
        "trainTime.append(stop3-stop2)"
      ]
    },
    {
      "cell_type": "code",
      "execution_count": null,
      "metadata": {
        "colab": {
          "background_save": true,
          "base_uri": "https://localhost:8080/"
        },
        "id": "_ZritZ7P49LV",
        "outputId": "eb9305e2-dfa5-4f48-9152-a3b5cccf49e5"
      },
      "outputs": [
        {
          "name": "stdout",
          "output_type": "stream",
          "text": [
            "Testing Time for Linear for c=1.5 : 0.003805875778198242\n",
            "Testing Time for Linear for c=.5 : 0.005105733871459961\n",
            "Testing Time for Linear for c=.25 : 0.0045928955078125\n"
          ]
        }
      ],
      "source": [
        "start = time.time()\n",
        "accuracy_lin1 = linear1.score(X_test, y_test)\n",
        "stop = time.time()\n",
        "print(\"Testing Time for Linear for c=1.5 :\", stop-start)\n",
        "accuracy_lin2 = linear2.score(X_test, y_test)\n",
        "stop2 = time.time()\n",
        "print(\"Testing Time for Linear for c=.5 :\", stop2-stop)\n",
        "accuracy_lin3 = linear3.score(X_test, y_test)\n",
        "stop3 = time.time()\n",
        "print(\"Testing Time for Linear for c=.25 :\", stop3-stop2)\n",
        "testTime.append(stop3-stop2)"
      ]
    },
    {
      "cell_type": "code",
      "execution_count": null,
      "metadata": {
        "colab": {
          "background_save": true,
          "base_uri": "https://localhost:8080/"
        },
        "id": "Dd7GUE7x6J0s",
        "outputId": "15899c43-0bfa-482e-fab4-f559abeacb4a"
      },
      "outputs": [
        {
          "name": "stdout",
          "output_type": "stream",
          "text": [
            "Accuracy Linear for c=1.5 : 40.86021505376344\n",
            "Accuracy Linear for c=0.5 : 41.935483870967744\n",
            "Accuracy Linear for c=0.25 : 41.935483870967744\n"
          ]
        }
      ],
      "source": [
        "print(\"Accuracy Linear for c=1.5 :\", accuracy_lin1*100)\n",
        "print(\"Accuracy Linear for c=0.5 :\", accuracy_lin2*100)\n",
        "print(\"Accuracy Linear for c=0.25 :\",accuracy_lin3*100)\n",
        "accList.append(accuracy_lin3*100)\n"
      ]
    },
    {
      "cell_type": "code",
      "execution_count": null,
      "metadata": {
        "colab": {
          "background_save": true,
          "base_uri": "https://localhost:8080/"
        },
        "id": "R71sRczsBlOv",
        "outputId": "f81e93bb-c441-4763-a683-d33c4571ff5c"
      },
      "outputs": [
        {
          "name": "stdout",
          "output_type": "stream",
          "text": [
            "Training Time for logistic regression: 0.04455685615539551\n",
            "Testing Time for logistic regression: 0.0018837451934814453\n",
            "41.935483870967744\n"
          ]
        },
        {
          "name": "stderr",
          "output_type": "stream",
          "text": [
            "/usr/local/lib/python3.7/dist-packages/sklearn/linear_model/_logistic.py:818: ConvergenceWarning: lbfgs failed to converge (status=1):\n",
            "STOP: TOTAL NO. of ITERATIONS REACHED LIMIT.\n",
            "\n",
            "Increase the number of iterations (max_iter) or scale the data as shown in:\n",
            "    https://scikit-learn.org/stable/modules/preprocessing.html\n",
            "Please also refer to the documentation for alternative solver options:\n",
            "    https://scikit-learn.org/stable/modules/linear_model.html#logistic-regression\n",
            "  extra_warning_msg=_LOGISTIC_SOLVER_CONVERGENCE_MSG,\n"
          ]
        }
      ],
      "source": [
        "from sklearn.linear_model import LogisticRegression\n",
        "classifier = LogisticRegression()\n",
        "start = time.time()\n",
        "classifier.fit(X_train, y_train)\n",
        "stop = time.time() \n",
        "print(\"Training Time for logistic regression:\", stop-start)\n",
        "trainTime.append(stop-start)\n",
        "dumppers('LogisticRegression.sav',classifier)\n",
        "modelsList.append(\"Logistic Regrission\")\n",
        "start = time.time()\n",
        "predictions = classifier.predict(X_test)\n",
        "accuracy=np.mean(predictions == y_test)*100\n",
        "stop = time.time()\n",
        "print(\"Testing Time for logistic regression:\", stop-start)\n",
        "accList.append(accuracy)\n",
        "testTime.append(stop-start)\n",
        "print (str(accuracy))"
      ]
    },
    {
      "cell_type": "code",
      "execution_count": null,
      "metadata": {
        "colab": {
          "background_save": true
        },
        "id": "vv745f6vN3l2"
      },
      "outputs": [],
      "source": [
        "from sklearn.ensemble import AdaBoostClassifier\n",
        "from sklearn import tree\n",
        "from sklearn.tree import DecisionTreeClassifier"
      ]
    },
    {
      "cell_type": "code",
      "execution_count": null,
      "metadata": {
        "colab": {
          "background_save": true,
          "base_uri": "https://localhost:8080/"
        },
        "id": "L77JVtA_AnWi",
        "outputId": "1958b04b-1ae6-4d76-9f34-b401bd727a38"
      },
      "outputs": [
        {
          "name": "stdout",
          "output_type": "stream",
          "text": [
            "Training Time for using Decision Tree n_estimators=100 and learning_rate=1  0.19874358177185059\n",
            "Testing Time for using Decision Tree n_estimators=100 and learning_rate=1  0.013443946838378906\n",
            "The achieved accuracy using Decision Tree n_estimators=100 and learning_rate=1 43.01075268817204\n"
          ]
        }
      ],
      "source": [
        "bdt = AdaBoostClassifier(DecisionTreeClassifier(max_depth=8),\n",
        "                         algorithm=\"SAMME\",\n",
        "                         n_estimators=100, random_state=60,learning_rate=1)\n",
        "start = time.time()\n",
        "bdt.fit(X_train,y_train)\n",
        "stop = time.time() \n",
        "print (\"Training Time for using Decision Tree n_estimators=100 and learning_rate=1 \" , stop-start)\n",
        "y_prediction = bdt.predict(X_test)\n",
        "accuracy=np.mean(y_prediction == y_test)*100\n",
        "stop2 = time.time()\n",
        "print (\"Testing Time for using Decision Tree n_estimators=100 and learning_rate=1 \" , stop2-stop)\n",
        "print (\"The achieved accuracy using Decision Tree n_estimators=100 and learning_rate=1 \" + str(accuracy))"
      ]
    },
    {
      "cell_type": "code",
      "execution_count": null,
      "metadata": {
        "colab": {
          "background_save": true,
          "base_uri": "https://localhost:8080/"
        },
        "id": "w_Us4syjAfwO",
        "outputId": "7192d9d5-aa1e-4096-a6e7-86373dc804d0"
      },
      "outputs": [
        {
          "name": "stdout",
          "output_type": "stream",
          "text": [
            "Training Time for using Decision Tree n_estimators=100 and learning_rate=0.7  0.19646000862121582\n",
            "Testing Time for using Decision Tree n_estimators=100 and learning_rate=0.7  0.01338648796081543\n",
            "The achieved accuracy using Decision Tree n_estimators=100 and learning_rate=0.7 41.935483870967744\n"
          ]
        }
      ],
      "source": [
        "bdt = AdaBoostClassifier(DecisionTreeClassifier(max_depth=8),\n",
        "                         algorithm=\"SAMME\",\n",
        "                         n_estimators=100, random_state=60,learning_rate=0.7)\n",
        "start = time.time()\n",
        "bdt.fit(X_train,y_train)\n",
        "stop = time.time() \n",
        "print (\"Training Time for using Decision Tree n_estimators=100 and learning_rate=0.7 \" , stop-start)\n",
        "y_prediction = bdt.predict(X_test)\n",
        "accuracy=np.mean(y_prediction == y_test)*100\n",
        "stop2 = time.time()\n",
        "print (\"Testing Time for using Decision Tree n_estimators=100 and learning_rate=0.7 \" , stop2-stop)\n",
        "print (\"The achieved accuracy using Decision Tree n_estimators=100 and learning_rate=0.7 \" + str(accuracy))"
      ]
    },
    {
      "cell_type": "code",
      "execution_count": null,
      "metadata": {
        "colab": {
          "background_save": true,
          "base_uri": "https://localhost:8080/"
        },
        "id": "Q-yMofrr_wah",
        "outputId": "7732062b-8510-4f35-d937-af9ab9817dac"
      },
      "outputs": [
        {
          "name": "stdout",
          "output_type": "stream",
          "text": [
            "Training Time for using Decision Tree n_estimators=100 and learning_rate=0.5  0.20178556442260742\n",
            "Testing Time for using Decision Tree n_estimators=100 and learning_rate=0.5  0.014211416244506836\n",
            "The achieved accuracy using Decision Tree n_estimators=100 and learning_rate=0.5 40.86021505376344\n"
          ]
        }
      ],
      "source": [
        "bdt = AdaBoostClassifier(DecisionTreeClassifier(max_depth=8),\n",
        "                         algorithm=\"SAMME\",\n",
        "                         n_estimators=100, random_state=60,learning_rate=0.5)\n",
        "start = time.time()\n",
        "bdt.fit(X_train,y_train)\n",
        "stop = time.time() \n",
        "print (\"Training Time for using Decision Tree n_estimators=100 and learning_rate=0.5 \" , stop-start)\n",
        "y_prediction = bdt.predict(X_test)\n",
        "accuracy=np.mean(y_prediction == y_test)*100\n",
        "stop2 = time.time()\n",
        "print (\"Testing Time for using Decision Tree n_estimators=100 and learning_rate=0.5 \" , stop2-stop)\n",
        "print (\"The achieved accuracy using Decision Tree n_estimators=100 and learning_rate=0.5 \" + str(accuracy))"
      ]
    },
    {
      "cell_type": "code",
      "execution_count": null,
      "metadata": {
        "colab": {
          "background_save": true,
          "base_uri": "https://localhost:8080/"
        },
        "id": "DIF8mYiVA7vQ",
        "outputId": "36abe6f0-3b85-42a4-cba9-fbdc660cb98d"
      },
      "outputs": [
        {
          "name": "stdout",
          "output_type": "stream",
          "text": [
            "Training Time for using Decision Tree n_estimators=90 and learning_rate=1  0.1818714141845703\n",
            "Testing Time for using Decision Tree n_estimators=90 and learning_rate=1  0.013597249984741211\n",
            "The achieved accuracy using Decision Tree n_estimators=90 and learning_rate=1 41.935483870967744\n"
          ]
        }
      ],
      "source": [
        "bdt = AdaBoostClassifier(DecisionTreeClassifier(max_depth=8),\n",
        "                         algorithm=\"SAMME\",\n",
        "                         n_estimators=90, random_state=60,learning_rate=1)\n",
        "start = time.time()\n",
        "bdt.fit(X_train,y_train)\n",
        "stop = time.time() \n",
        "print (\"Training Time for using Decision Tree n_estimators=90 and learning_rate=1 \" , stop-start)\n",
        "y_prediction = bdt.predict(X_test)\n",
        "accuracy=np.mean(y_prediction == y_test)*100\n",
        "stop2 = time.time()\n",
        "print (\"Testing Time for using Decision Tree n_estimators=90 and learning_rate=1 \" , stop2-stop)\n",
        "print (\"The achieved accuracy using Decision Tree n_estimators=90 and learning_rate=1 \" + str(accuracy))"
      ]
    },
    {
      "cell_type": "code",
      "execution_count": null,
      "metadata": {
        "colab": {
          "background_save": true,
          "base_uri": "https://localhost:8080/"
        },
        "id": "8KGSgCMnA8le",
        "outputId": "03c6a646-0983-4c96-b542-da75241b257b"
      },
      "outputs": [
        {
          "name": "stdout",
          "output_type": "stream",
          "text": [
            "Training Time for using Decision Tree n_estimators=50 and learning_rate=1  0.10845422744750977\n",
            "Testing Time for using Decision Tree n_estimators=50 and learning_rate=1  0.00941157341003418\n",
            "The achieved accuracy using Decision Tree n_estimators=50 and learning_rate=1 37.634408602150536\n"
          ]
        }
      ],
      "source": [
        "bdt = AdaBoostClassifier(DecisionTreeClassifier(max_depth=8),\n",
        "                         algorithm=\"SAMME\",\n",
        "                         n_estimators=50, random_state=60,learning_rate=1)\n",
        "start = time.time()\n",
        "bdt.fit(X_train,y_train)\n",
        "dumppers('bdt.sav',bdt)\n",
        "stop = time.time() \n",
        "trainTime.append(stop-start)\n",
        "modelsList.append(\"AdaBoost with decision tree\")\n",
        "print (\"Training Time for using Decision Tree n_estimators=50 and learning_rate=1 \" , stop-start)\n",
        "y_prediction = bdt.predict(X_test)\n",
        "accuracy=np.mean(y_prediction == y_test)*100\n",
        "stop2 = time.time()\n",
        "print (\"Testing Time for using Decision Tree n_estimators=50 and learning_rate=1 \" , stop2-stop)\n",
        "testTime.append(stop2-stop)\n",
        "print (\"The achieved accuracy using Decision Tree n_estimators=50 and learning_rate=1 \" + str(accuracy))\n",
        "accList.append(accuracy)"
      ]
    },
    {
      "cell_type": "code",
      "execution_count": null,
      "metadata": {
        "colab": {
          "background_save": true,
          "base_uri": "https://localhost:8080/"
        },
        "id": "QVbZIfEdV9hr",
        "outputId": "ee4195af-d4dd-4482-ce3a-caa64a79799b"
      },
      "outputs": [
        {
          "name": "stdout",
          "output_type": "stream",
          "text": [
            "Training Time for using Random Forest Classifier max_depth=None and n_estimators=500  0.7829465866088867\n",
            "Testing Time for using Random Forest Classifier max_depth=None and n_estimators=500  0.05806398391723633\n",
            "The achieved accuracy using Random Forest Classifier max_depth=None and n_estimators=500 40.86021505376344\n"
          ]
        }
      ],
      "source": [
        "from sklearn.ensemble import RandomForestClassifier\n",
        "rfc = RandomForestClassifier(max_features=\"auto\",\n",
        "                                      max_depth=None,\n",
        "                                      n_estimators=500,\n",
        "                                      min_samples_split=5,\n",
        "                                      min_samples_leaf=1,\n",
        "                                      bootstrap=True, random_state = 77)\n",
        "start = time.time()\n",
        "rfc.fit(X_train,y_train)\n",
        "stop = time.time() \n",
        "print (\"Training Time for using Random Forest Classifier max_depth=None and n_estimators=500 \" , stop-start)\n",
        "predictions = rfc.predict(X_test)\n",
        "accuracy=np.mean(predictions == y_test)*100\n",
        "stop2 = time.time()\n",
        "print (\"Testing Time for using Random Forest Classifier max_depth=None and n_estimators=500 \" , stop2-stop)\n",
        "print (\"The achieved accuracy using Random Forest Classifier max_depth=None and n_estimators=500 \" + str(accuracy))"
      ]
    },
    {
      "cell_type": "code",
      "execution_count": null,
      "metadata": {
        "colab": {
          "background_save": true,
          "base_uri": "https://localhost:8080/"
        },
        "id": "FjySjxKGEmEG",
        "outputId": "49c86c96-8ad8-42d1-90f8-4c2ad7d0a86d"
      },
      "outputs": [
        {
          "name": "stdout",
          "output_type": "stream",
          "text": [
            "Training Time for using Random Forest Classifier max_depth=5 and n_estimators=500  0.6872961521148682\n",
            "Testing Time for using Random Forest Classifier max_depth=5 and n_estimators=500  0.05862283706665039\n",
            "The achieved accuracy using Random Forest Classifier max_depth=5 and n_estimators=500 45.16129032258064\n"
          ]
        }
      ],
      "source": [
        "from sklearn.ensemble import RandomForestClassifier\n",
        "rfc = RandomForestClassifier(max_features=\"auto\",\n",
        "                                      max_depth=5,\n",
        "                                      n_estimators=500,\n",
        "                                      min_samples_split=5,\n",
        "                                      min_samples_leaf=1,\n",
        "                                      bootstrap=True, random_state = 77)\n",
        "start = time.time()\n",
        "rfc.fit(X_train,y_train)\n",
        "stop = time.time() \n",
        "print (\"Training Time for using Random Forest Classifier max_depth=5 and n_estimators=500 \" , stop-start)\n",
        "predictions = rfc.predict(X_test)\n",
        "accuracy=np.mean(predictions == y_test)*100\n",
        "stop2 = time.time()\n",
        "print (\"Testing Time for using Random Forest Classifier max_depth=5 and n_estimators=500 \" , stop2-stop)\n",
        "print (\"The achieved accuracy using Random Forest Classifier max_depth=5 and n_estimators=500 \" + str(accuracy))"
      ]
    },
    {
      "cell_type": "code",
      "execution_count": null,
      "metadata": {
        "colab": {
          "background_save": true,
          "base_uri": "https://localhost:8080/"
        },
        "id": "BHQQUOIyEtWh",
        "outputId": "d344cc84-6cdd-4ce8-d319-365c34863706"
      },
      "outputs": [
        {
          "name": "stdout",
          "output_type": "stream",
          "text": [
            "Training Time for using Random Forest Classifier max_depth=10 and n_estimators=500  0.7767980098724365\n",
            "Testing Time for using Random Forest Classifier max_depth=10 and n_estimators=500  0.057408809661865234\n",
            "The achieved accuracy using Random Forest Classifier max_depth=10 and n_estimators=500 45.16129032258064\n"
          ]
        }
      ],
      "source": [
        "from sklearn.ensemble import RandomForestClassifier\n",
        "rfc = RandomForestClassifier(max_features=\"auto\",\n",
        "                                      max_depth=10,\n",
        "                                      n_estimators=500,\n",
        "                                      min_samples_split=5,\n",
        "                                      min_samples_leaf=1,\n",
        "                                      bootstrap=True, random_state = 77)\n",
        "start = time.time()\n",
        "rfc.fit(X_train,y_train)\n",
        "dumppers('rfc.sav',rfc)\n",
        "modelsList.append(\"Random Forest classifier\")\n",
        "stop = time.time() \n",
        "print (\"Training Time for using Random Forest Classifier max_depth=10 and n_estimators=500 \" , stop-start)\n",
        "trainTime.append(stop-start)\n",
        "predictions = rfc.predict(X_test)\n",
        "accuracy=np.mean(predictions == y_test)*100\n",
        "stop2 = time.time()\n",
        "print (\"Testing Time for using Random Forest Classifier max_depth=10 and n_estimators=500 \" , stop2-stop)\n",
        "testTime.append(stop2-stop)\n",
        "print (\"The achieved accuracy using Random Forest Classifier max_depth=10 and n_estimators=500 \" + str(accuracy))\n",
        "accList.append(accuracy)"
      ]
    },
    {
      "cell_type": "code",
      "execution_count": null,
      "metadata": {
        "colab": {
          "background_save": true,
          "base_uri": "https://localhost:8080/"
        },
        "id": "XQTUw3WJKvru",
        "outputId": "2e440ea3-ef26-443a-d3e8-d0cd126f21a5"
      },
      "outputs": [
        {
          "name": "stdout",
          "output_type": "stream",
          "text": [
            "Training Time for using Random Forest Classifier max_depth=5 and n_estimators=1000  1.4107074737548828\n",
            "Testing Time for using Random Forest Classifier max_depth=5 and n_estimators=1000  0.11953926086425781\n",
            "The achieved accuracy using Random Forest Classifier max_depth=5 and n_estimators=1000 45.16129032258064\n"
          ]
        }
      ],
      "source": [
        "from sklearn.ensemble import RandomForestClassifier\n",
        "rfc = RandomForestClassifier(max_features=\"auto\",\n",
        "                                      max_depth=5,\n",
        "                                      n_estimators=1000,\n",
        "                                      min_samples_split=5,\n",
        "                                      min_samples_leaf=1,\n",
        "                                      bootstrap=True, random_state = 77)\n",
        "start = time.time()\n",
        "rfc.fit(X_train,y_train)\n",
        "stop = time.time() \n",
        "print (\"Training Time for using Random Forest Classifier max_depth=5 and n_estimators=1000 \" , stop-start)\n",
        "predictions = rfc.predict(X_test)\n",
        "accuracy=np.mean(predictions == y_test)*100\n",
        "stop2 = time.time()\n",
        "print (\"Testing Time for using Random Forest Classifier max_depth=5 and n_estimators=1000 \" , stop2-stop)\n",
        "print (\"The achieved accuracy using Random Forest Classifier max_depth=5 and n_estimators=1000 \" + str(accuracy))"
      ]
    },
    {
      "cell_type": "code",
      "execution_count": null,
      "metadata": {
        "colab": {
          "background_save": true,
          "base_uri": "https://localhost:8080/"
        },
        "id": "dy48gkuVLAd6",
        "outputId": "e7b28d19-ff1b-4e25-a59f-04c43d705121"
      },
      "outputs": [
        {
          "name": "stdout",
          "output_type": "stream",
          "text": [
            "Training Time for using Random Forest Classifier max_depth=5 and n_estimators=1500  2.1380696296691895\n",
            "Testing Time for using Random Forest Classifier max_depth=5 and n_estimators=1500  0.15537524223327637\n",
            "The achieved accuracy using Random Forest Classifier max_depth=5 and n_estimators=1500 45.16129032258064\n"
          ]
        }
      ],
      "source": [
        "from sklearn.ensemble import RandomForestClassifier\n",
        "rfc = RandomForestClassifier(max_features=\"auto\",\n",
        "                                      max_depth=5,\n",
        "                                      n_estimators=1500,\n",
        "                                      min_samples_split=5,\n",
        "                                      min_samples_leaf=1,\n",
        "                                      bootstrap=True, random_state = 77)\n",
        "start = time.time()\n",
        "rfc.fit(X_train,y_train)\n",
        "stop = time.time() \n",
        "print (\"Training Time for using Random Forest Classifier max_depth=5 and n_estimators=1500 \" , stop-start)\n",
        "predictions = rfc.predict(X_test)\n",
        "accuracy=np.mean(predictions == y_test)*100\n",
        "stop2 = time.time()\n",
        "print (\"Testing Time for using Random Forest Classifier max_depth=5 and n_estimators=1500 \" , stop2-stop)\n",
        "print (\"The achieved accuracy using Random Forest Classifier max_depth=5 and n_estimators=1500 \" + str(accuracy))"
      ]
    },
    {
      "cell_type": "code",
      "execution_count": null,
      "metadata": {
        "colab": {
          "background_save": true,
          "base_uri": "https://localhost:8080/"
        },
        "id": "Bt1QMeIze2wd",
        "outputId": "b2c37695-65a7-4d12-fc0f-80185a7b6577"
      },
      "outputs": [
        {
          "name": "stdout",
          "output_type": "stream",
          "text": [
            "['linearSVM', 'Logistic Regrission', 'AdaBoost with decision tree', 'Random Forest classifier']\n",
            "[0.14197540283203125, 0.04455685615539551, 0.10845422744750977, 0.7767980098724365]\n",
            "[0.0045928955078125, 0.0018837451934814453, 0.00941157341003418, 0.057408809661865234]\n",
            "[41.935483870967744, 41.935483870967744, 37.634408602150536, 45.16129032258064]\n"
          ]
        }
      ],
      "source": [
        "print(modelsList)\n",
        "print(trainTime)\n",
        "print(testTime)\n",
        "print(accList)"
      ]
    },
    {
      "cell_type": "code",
      "execution_count": null,
      "metadata": {
        "colab": {
          "background_save": true,
          "base_uri": "https://localhost:8080/",
          "height": 350
        },
        "id": "_Y69Lr_cmQtb",
        "outputId": "62a8a0db-e977-40c0-a619-d4a246fa3ea7"
      },
      "outputs": [
        {
          "data": {
            "image/png": "[encoded data removed]",
            "text/plain": [
              "<Figure size 1080x360 with 1 Axes>"
            ]
          },
          "metadata": {},
          "output_type": "display_data"
        }
      ],
      "source": [
        "plt.figure(figsize=(15, 5))\n",
        "plt.bar(modelsList, accList, color ='maroon',\n",
        "        width = 0.2) \n",
        "plt.xlabel(\"Model\")\n",
        "plt.ylabel(\"Accuracy\")\n",
        "plt.title(\"Classification Accuracy\")\n",
        "plt.show()"
      ]
    },
    {
      "cell_type": "code",
      "execution_count": null,
      "metadata": {
        "colab": {
          "background_save": true,
          "base_uri": "https://localhost:8080/",
          "height": 350
        },
        "id": "5XOjBSCFhSAX",
        "outputId": "132fc932-607e-4843-d71f-af30d59d00f0"
      },
      "outputs": [
        {
          "data": {
            "image/png": "[encoded data removed]",
            "text/plain": [
              "<Figure size 1080x360 with 1 Axes>"
            ]
          },
          "metadata": {},
          "output_type": "display_data"
        }
      ],
      "source": [
        "plt.figure(figsize=(15, 5))\n",
        "plt.bar(modelsList, trainTime, color ='maroon',\n",
        "        width = 0.2) \n",
        "plt.xlabel(\"Model\")\n",
        "plt.ylabel(\"Training time\")\n",
        "plt.title(\"Total training time\")\n",
        "plt.show()"
      ]
    },
    {
      "cell_type": "code",
      "execution_count": null,
      "metadata": {
        "colab": {
          "background_save": true,
          "base_uri": "https://localhost:8080/",
          "height": 350
        },
        "id": "zgVNx8tDhxXi",
        "outputId": "8d9f5d33-5b0b-48e8-8fac-5b0a88d6f231"
      },
      "outputs": [
        {
          "data": {
            "image/png": "[encoded data removed]",
            "text/plain": [
              "<Figure size 1080x360 with 1 Axes>"
            ]
          },
          "metadata": {},
          "output_type": "display_data"
        }
      ],
      "source": [
        "plt.figure(figsize=(15, 5))\n",
        "plt.bar(modelsList, testTime, color ='maroon',\n",
        "        width = 0.2) \n",
        "plt.xlabel(\"Model\")\n",
        "plt.ylabel(\"Testing time\")\n",
        "plt.title(\"Total testing time\")\n",
        "plt.show()"
      ]
    },
    {
      "cell_type": "code",
      "execution_count": null,
      "metadata": {
        "colab": {
          "background_save": true,
          "base_uri": "https://localhost:8080/"
        },
        "id": "5fUKY_0huzUF",
        "outputId": "a7d4b87e-7e35-4fae-9d85-720f39c25c8e"
      },
      "outputs": [
        {
          "name": "stdout",
          "output_type": "stream",
          "text": [
            "<class 'pandas.core.frame.DataFrame'>\n",
            "RangeIndex: 463 entries, 0 to 462\n",
            "Data columns (total 10 columns):\n",
            " #   Column        Non-Null Count  Dtype\n",
            "---  ------        --------------  -----\n",
            " 0   release_date  463 non-null    int64\n",
            " 1   director      463 non-null    int64\n",
            " 2   voice-actor   463 non-null    int64\n",
            " 3   PG            463 non-null    int64\n",
            " 4   PG-13         463 non-null    int64\n",
            " 5   other_rating  463 non-null    int64\n",
            " 6   Comedy        463 non-null    int64\n",
            " 7   Adventure     463 non-null    int64\n",
            " 8   Drama         463 non-null    int64\n",
            " 9   other_genre   463 non-null    int64\n",
            "dtypes: int64(10)\n",
            "memory usage: 36.3 KB\n"
          ]
        }
      ],
      "source": [
        "my_data.info()"
      ]
    }
  ],
  "metadata": {
    "colab": {
      "provenance": []
    },
    "kernelspec": {
      "display_name": "Python 3",
      "name": "python3"
    },
    "language_info": {
      "name": "python"
    }
  },
  "nbformat": 4,
  "nbformat_minor": 0
}