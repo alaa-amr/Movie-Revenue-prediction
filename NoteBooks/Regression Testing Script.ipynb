{
  "nbformat": 4,
  "nbformat_minor": 0,
  "metadata": {
    "colab": {
      "provenance": [],
      "collapsed_sections": []
    },
    "kernelspec": {
      "name": "python3",
      "display_name": "Python 3"
    },
    "language_info": {
      "name": "python"
    }
  },
  "cells": [
    {
      "cell_type": "code",
      "source": [
        "!pip install category_encoders\n",
        "import numpy as np\n",
        "import pandas as pd\n",
        "import matplotlib.pyplot as plt\n",
        "import sklearn as sk\n",
        "from sklearn.preprocessing import StandardScaler\n",
        "from category_encoders import TargetEncoder\n",
        "from sklearn.preprocessing import OneHotEncoder \n",
        "from datetime import datetime\n",
        "import seaborn as sns\n",
        "from sklearn import linear_model\n",
        "from sklearn.model_selection import train_test_split\n",
        "from sklearn.preprocessing import PolynomialFeatures\n",
        "from sklearn import metrics\n",
        "import time\n",
        "from sklearn.preprocessing import LabelEncoder\n",
        "import pickle"
      ],
      "metadata": {
        "id": "hhEJLoJrm5XE",
        "colab": {
          "base_uri": "https://localhost:8080/"
        },
        "outputId": "ca50f847-690d-4f8a-cfb1-cff3678fa947"
      },
      "execution_count": null,
      "outputs": [
        {
          "output_type": "stream",
          "name": "stdout",
          "text": [
            "Looking in indexes: https://pypi.org/simple, https://us-python.pkg.dev/colab-wheels/public/simple/\n",
            "Requirement already satisfied: category_encoders in /usr/local/lib/python3.7/dist-packages (2.4.1)\n",
            "Requirement already satisfied: scipy>=1.0.0 in /usr/local/lib/python3.7/dist-packages (from category_encoders) (1.4.1)\n",
            "Requirement already satisfied: scikit-learn>=0.20.0 in /usr/local/lib/python3.7/dist-packages (from category_encoders) (1.0.2)\n",
            "Requirement already satisfied: pandas>=0.21.1 in /usr/local/lib/python3.7/dist-packages (from category_encoders) (1.3.5)\n",
            "Requirement already satisfied: statsmodels>=0.9.0 in /usr/local/lib/python3.7/dist-packages (from category_encoders) (0.10.2)\n",
            "Requirement already satisfied: patsy>=0.5.1 in /usr/local/lib/python3.7/dist-packages (from category_encoders) (0.5.2)\n",
            "Requirement already satisfied: numpy>=1.14.0 in /usr/local/lib/python3.7/dist-packages (from category_encoders) (1.21.6)\n",
            "Requirement already satisfied: python-dateutil>=2.7.3 in /usr/local/lib/python3.7/dist-packages (from pandas>=0.21.1->category_encoders) (2.8.2)\n",
            "Requirement already satisfied: pytz>=2017.3 in /usr/local/lib/python3.7/dist-packages (from pandas>=0.21.1->category_encoders) (2022.1)\n",
            "Requirement already satisfied: six in /usr/local/lib/python3.7/dist-packages (from patsy>=0.5.1->category_encoders) (1.15.0)\n",
            "Requirement already satisfied: joblib>=0.11 in /usr/local/lib/python3.7/dist-packages (from scikit-learn>=0.20.0->category_encoders) (1.1.0)\n",
            "Requirement already satisfied: threadpoolctl>=2.0.0 in /usr/local/lib/python3.7/dist-packages (from scikit-learn>=0.20.0->category_encoders) (3.1.0)\n"
          ]
        },
        {
          "output_type": "stream",
          "name": "stderr",
          "text": [
            "/usr/local/lib/python3.7/dist-packages/statsmodels/tools/_testing.py:19: FutureWarning: pandas.util.testing is deprecated. Use the functions in the public API at pandas.testing instead.\n",
            "  import pandas.util.testing as tm\n"
          ]
        }
      ]
    },
    {
      "cell_type": "code",
      "execution_count": null,
      "metadata": {
        "id": "jxSXiaktlQFx"
      },
      "outputs": [],
      "source": [
        "def mergedata(file1,file2,file3):\n",
        "  data3 = pd.read_csv(file1)\n",
        "  data1 = pd.read_csv(file2) #name\n",
        "  data2 = pd.read_csv(file3) #movie\n",
        "  data1.rename(columns={'name': 'movie_title'}, inplace=True)\n",
        "  data2.rename(columns={'movie': 'movie_title'}, inplace=True)\n",
        "  data = pd.merge(data3,data1[['movie_title','director']],on='movie_title', how='left')\n",
        "  data_actors= data2.groupby('movie_title')['voice-actor'].agg(list)\n",
        "  my_data = pd.merge(data,data_actors,on='movie_title', how='left')\n",
        "  my_data['release_date'] = pd.to_datetime(my_data['release_date'])\n",
        "  my_data['release_date'] = pd.DatetimeIndex(my_data['release_date']).year\n",
        "  for index, row in my_data.iterrows():\n",
        "    if(row[\"release_date\"] > 2022):\n",
        "      my_data.at[index,\"release_date\"] = row[\"release_date\"] - 100\n",
        "  return my_data\n"
      ]
    },
    {
      "cell_type": "code",
      "source": [
        "my_data = mergedata(\"movies-tas-regression-test.csv\",\"movie-director.csv\",\"movie-voice-actors.csv\")"
      ],
      "metadata": {
        "id": "KwAmKth_BVyz"
      },
      "execution_count": null,
      "outputs": []
    },
    {
      "cell_type": "code",
      "source": [
        "import pickle\n",
        "actorFq = open(\"actorFq.pkl\", \"rb\")\n",
        "actorfq = pickle.load(actorFq)\n",
        "actorFq.close()\n",
        "\n",
        "directorFq = open(\"directorFq.pkl\", \"rb\")\n",
        "directorfq = pickle.load(directorFq)\n",
        "directorFq.close()\n"
      ],
      "metadata": {
        "id": "eaKXf2cNpCEl"
      },
      "execution_count": null,
      "outputs": []
    },
    {
      "cell_type": "code",
      "source": [
        "\n",
        "newDirector = dict()\n",
        "def directorEncoding():\n",
        "  for index, row in my_data.iterrows():    \n",
        "    if row[\"director\"] in directorfq.keys():\n",
        "      continue\n",
        "    else:\n",
        "        newDirector[row[\"director\"]]=0\n",
        "\n",
        "  for idx,row in my_data.iterrows():\n",
        "    if pd.isna(my_data.iloc[idx,5]):\n",
        "      continue\n",
        "    elif my_data.iloc[idx,5] in directorfq.keys():\n",
        "      my_data.at[idx,\"director\"]=directorfq[ my_data.at[idx,\"director\"]]\n",
        "    else:\n",
        "      my_data.at[idx,\"director\"]=newDirector[ my_data.at[idx,\"director\"]]\n",
        "directorEncoding()"
      ],
      "metadata": {
        "id": "IO1JrXzTyO9u"
      },
      "execution_count": null,
      "outputs": []
    },
    {
      "cell_type": "code",
      "source": [
        "ratingCols = open(\"ratingCols.pkl\", \"rb\")\n",
        "ratingcols = pickle.load(ratingCols)\n",
        "ratingCols.close()\n",
        "\n",
        "otherCols = open(\"otherRatingCols.pkl\", \"rb\")\n",
        "otherRatingcols = pickle.load(otherCols)\n",
        "otherCols.close()\n"
      ],
      "metadata": {
        "id": "TmlH_Icr2QYT"
      },
      "execution_count": null,
      "outputs": []
    },
    {
      "cell_type": "code",
      "source": [
        "genreCols = open(\"genreCols.pkl\", \"rb\")\n",
        "genrecols = pickle.load(genreCols)\n",
        "genreCols.close()\n",
        "\n",
        "otherGenreCols = open(\"otherGenreCols.pkl\", \"rb\")\n",
        "otherGenrecols = pickle.load(otherGenreCols)\n",
        "otherGenreCols.close()\n"
      ],
      "metadata": {
        "id": "xOiJkmSw392N"
      },
      "execution_count": null,
      "outputs": []
    },
    {
      "cell_type": "code",
      "source": [
        "def ratingEncoding():\n",
        "  for l in ratingcols:\n",
        "    my_data[l] = np.where(my_data['MPAA_rating']==l,1,0)\n",
        "\n",
        "  my_data[\"other_rating\"] = \" \"\n",
        "  for idx,row in my_data.iterrows():\n",
        "    if pd.isna(my_data.iloc[idx,3]):\n",
        "      my_data[\"other_rating\"][idx]=0\n",
        "    if my_data[\"MPAA_rating\"][idx] in otherRatingcols:\n",
        "      my_data[\"other_rating\"][idx]=1\n",
        "    else:\n",
        "      my_data[\"other_rating\"][idx]=0\n",
        "ratingEncoding()"
      ],
      "metadata": {
        "id": "I93Ry4UI2qXC",
        "colab": {
          "base_uri": "https://localhost:8080/"
        },
        "outputId": "8936a7b8-a739-468a-cb45-0217653c9f4a"
      },
      "execution_count": null,
      "outputs": [
        {
          "output_type": "stream",
          "name": "stderr",
          "text": [
            "/usr/local/lib/python3.7/dist-packages/ipykernel_launcher.py:12: SettingWithCopyWarning: \n",
            "A value is trying to be set on a copy of a slice from a DataFrame\n",
            "\n",
            "See the caveats in the documentation: https://pandas.pydata.org/pandas-docs/stable/user_guide/indexing.html#returning-a-view-versus-a-copy\n",
            "  if sys.path[0] == '':\n",
            "/usr/local/lib/python3.7/dist-packages/ipykernel_launcher.py:10: SettingWithCopyWarning: \n",
            "A value is trying to be set on a copy of a slice from a DataFrame\n",
            "\n",
            "See the caveats in the documentation: https://pandas.pydata.org/pandas-docs/stable/user_guide/indexing.html#returning-a-view-versus-a-copy\n",
            "  # Remove the CWD from sys.path while we load stuff.\n",
            "/usr/local/lib/python3.7/dist-packages/ipykernel_launcher.py:8: SettingWithCopyWarning: \n",
            "A value is trying to be set on a copy of a slice from a DataFrame\n",
            "\n",
            "See the caveats in the documentation: https://pandas.pydata.org/pandas-docs/stable/user_guide/indexing.html#returning-a-view-versus-a-copy\n",
            "  \n"
          ]
        }
      ]
    },
    {
      "cell_type": "code",
      "source": [
        "def genreEncoding():\n",
        "  for l in genrecols:\n",
        "    my_data[l] = np.where(my_data['genre']==l,1,0)\n",
        "\n",
        "  my_data[\"other_genre\"] = \" \"\n",
        "  for idx,row in my_data.iterrows():\n",
        "    if pd.isna(my_data.iloc[idx,2]):\n",
        "      my_data[\"other_genre\"][idx]=0\n",
        "    if my_data[\"genre\"][idx] in otherGenrecols:\n",
        "      my_data[\"other_genre\"][idx]=1\n",
        "    else:\n",
        "      my_data[\"other_genre\"][idx]=0\n",
        "genreEncoding()"
      ],
      "metadata": {
        "id": "2-4FkjCE4b-F",
        "colab": {
          "base_uri": "https://localhost:8080/"
        },
        "outputId": "82ebf258-8539-43f1-ce46-09a429534ca9"
      },
      "execution_count": null,
      "outputs": [
        {
          "output_type": "stream",
          "name": "stderr",
          "text": [
            "/usr/local/lib/python3.7/dist-packages/ipykernel_launcher.py:12: SettingWithCopyWarning: \n",
            "A value is trying to be set on a copy of a slice from a DataFrame\n",
            "\n",
            "See the caveats in the documentation: https://pandas.pydata.org/pandas-docs/stable/user_guide/indexing.html#returning-a-view-versus-a-copy\n",
            "  if sys.path[0] == '':\n",
            "/usr/local/lib/python3.7/dist-packages/ipykernel_launcher.py:10: SettingWithCopyWarning: \n",
            "A value is trying to be set on a copy of a slice from a DataFrame\n",
            "\n",
            "See the caveats in the documentation: https://pandas.pydata.org/pandas-docs/stable/user_guide/indexing.html#returning-a-view-versus-a-copy\n",
            "  # Remove the CWD from sys.path while we load stuff.\n",
            "/usr/local/lib/python3.7/dist-packages/ipykernel_launcher.py:8: SettingWithCopyWarning: \n",
            "A value is trying to be set on a copy of a slice from a DataFrame\n",
            "\n",
            "See the caveats in the documentation: https://pandas.pydata.org/pandas-docs/stable/user_guide/indexing.html#returning-a-view-versus-a-copy\n",
            "  \n"
          ]
        }
      ]
    },
    {
      "cell_type": "code",
      "source": [
        "my_data= my_data.drop(\"genre\",axis = 1)\n",
        "my_data= my_data.drop(\"MPAA_rating\",axis = 1)\n"
      ],
      "metadata": {
        "id": "AkcNkUvz3Oqh"
      },
      "execution_count": null,
      "outputs": []
    },
    {
      "cell_type": "code",
      "source": [
        "newActors = dict()\n",
        "def actorEncoding():\n",
        "  for index, row in my_data.iterrows(): \n",
        "    if  type  (row['voice-actor'])is list:\n",
        "      for actor in row['voice-actor']:\n",
        "        if actor in actorfq.keys():\n",
        "          continue\n",
        "        else:     \n",
        "            newActors[actor] = 0\n",
        "\n",
        "  for index, row in my_data.iterrows():\n",
        "    if  type(row['voice-actor'])is list:\n",
        "      fq = 0\n",
        "      for actor in row['voice-actor']:\n",
        "        if actor in actorfq.keys():\n",
        "          fq = fq + actorfq[actor]\n",
        "          my_data.at[index,\"voice-actor\"] = fq\n",
        "        else:\n",
        "          fq = fq + newActors[actor]\n",
        "          my_data.at[index,\"voice-actor\"] = fq\n",
        "actorEncoding()"
      ],
      "metadata": {
        "id": "4VsSD_zzqEg3"
      },
      "execution_count": null,
      "outputs": []
    },
    {
      "cell_type": "code",
      "source": [
        "my_data= my_data.drop(\"movie_title\",axis = 1)"
      ],
      "metadata": {
        "id": "cec3-OQM5ix-"
      },
      "execution_count": null,
      "outputs": []
    },
    {
      "cell_type": "code",
      "source": [
        "my_data"
      ],
      "metadata": {
        "colab": {
          "base_uri": "https://localhost:8080/",
          "height": 423
        },
        "id": "_INesOjFglsP",
        "outputId": "9e99064d-0c55-4c35-9b77-28782c7e5aba"
      },
      "execution_count": null,
      "outputs": [
        {
          "output_type": "execute_result",
          "data": {
            "text/plain": [
              "     release_date        revenue director voice-actor  PG  PG-13 other_rating  \\\n",
              "0            1997    $3,257,546       NaN         NaN   1      0            0   \n",
              "1            2014   $37,607,865       NaN         NaN   1      0            0   \n",
              "2            2002  $109,691,666       NaN         NaN   0      0            1   \n",
              "3            1990   $39,433,357       NaN         NaN   0      0            1   \n",
              "4            1993  $115,781,734       NaN         NaN   0      0            1   \n",
              "..            ...            ...      ...         ...  ..    ...          ...   \n",
              "108          1992    $9,907,922       NaN         NaN   0      0            1   \n",
              "109          1991   $22,580,472       NaN         NaN   0      0            1   \n",
              "110          1999   $32,228,598       NaN         NaN   0      0            1   \n",
              "111          1991   $14,617,333       NaN         NaN   0      0            0   \n",
              "112          1995   $67,222,776       NaN         NaN   0      0            1   \n",
              "\n",
              "     Comedy  Adventure  Drama other_genre  \n",
              "0         0          0      1           0  \n",
              "1         0          0      1           0  \n",
              "2         0          0      1           0  \n",
              "3         1          0      0           0  \n",
              "4         0          0      0           1  \n",
              "..      ...        ...    ...         ...  \n",
              "108       0          0      0           1  \n",
              "109       0          0      0           1  \n",
              "110       0          1      0           0  \n",
              "111       0          0      1           0  \n",
              "112       0          0      0           1  \n",
              "\n",
              "[113 rows x 11 columns]"
            ],
            "text/html": [
              "\n",
              "  <div id=\"df-dad894dd-d337-477e-9cac-04e09cb1f0d8\">\n",
              "    <div class=\"colab-df-container\">\n",
              "      <div>\n",
              "<style scoped>\n",
              "    .dataframe tbody tr th:only-of-type {\n",
              "        vertical-align: middle;\n",
              "    }\n",
              "\n",
              "    .dataframe tbody tr th {\n",
              "        vertical-align: top;\n",
              "    }\n",
              "\n",
              "    .dataframe thead th {\n",
              "        text-align: right;\n",
              "    }\n",
              "</style>\n",
              "<table border=\"1\" class=\"dataframe\">\n",
              "  <thead>\n",
              "    <tr style=\"text-align: right;\">\n",
              "      <th></th>\n",
              "      <th>release_date</th>\n",
              "      <th>revenue</th>\n",
              "      <th>director</th>\n",
              "      <th>voice-actor</th>\n",
              "      <th>PG</th>\n",
              "      <th>PG-13</th>\n",
              "      <th>other_rating</th>\n",
              "      <th>Comedy</th>\n",
              "      <th>Adventure</th>\n",
              "      <th>Drama</th>\n",
              "      <th>other_genre</th>\n",
              "    </tr>\n",
              "  </thead>\n",
              "  <tbody>\n",
              "    <tr>\n",
              "      <th>0</th>\n",
              "      <td>1997</td>\n",
              "      <td>$3,257,546</td>\n",
              "      <td>NaN</td>\n",
              "      <td>NaN</td>\n",
              "      <td>1</td>\n",
              "      <td>0</td>\n",
              "      <td>0</td>\n",
              "      <td>0</td>\n",
              "      <td>0</td>\n",
              "      <td>1</td>\n",
              "      <td>0</td>\n",
              "    </tr>\n",
              "    <tr>\n",
              "      <th>1</th>\n",
              "      <td>2014</td>\n",
              "      <td>$37,607,865</td>\n",
              "      <td>NaN</td>\n",
              "      <td>NaN</td>\n",
              "      <td>1</td>\n",
              "      <td>0</td>\n",
              "      <td>0</td>\n",
              "      <td>0</td>\n",
              "      <td>0</td>\n",
              "      <td>1</td>\n",
              "      <td>0</td>\n",
              "    </tr>\n",
              "    <tr>\n",
              "      <th>2</th>\n",
              "      <td>2002</td>\n",
              "      <td>$109,691,666</td>\n",
              "      <td>NaN</td>\n",
              "      <td>NaN</td>\n",
              "      <td>0</td>\n",
              "      <td>0</td>\n",
              "      <td>1</td>\n",
              "      <td>0</td>\n",
              "      <td>0</td>\n",
              "      <td>1</td>\n",
              "      <td>0</td>\n",
              "    </tr>\n",
              "    <tr>\n",
              "      <th>3</th>\n",
              "      <td>1990</td>\n",
              "      <td>$39,433,357</td>\n",
              "      <td>NaN</td>\n",
              "      <td>NaN</td>\n",
              "      <td>0</td>\n",
              "      <td>0</td>\n",
              "      <td>1</td>\n",
              "      <td>1</td>\n",
              "      <td>0</td>\n",
              "      <td>0</td>\n",
              "      <td>0</td>\n",
              "    </tr>\n",
              "    <tr>\n",
              "      <th>4</th>\n",
              "      <td>1993</td>\n",
              "      <td>$115,781,734</td>\n",
              "      <td>NaN</td>\n",
              "      <td>NaN</td>\n",
              "      <td>0</td>\n",
              "      <td>0</td>\n",
              "      <td>1</td>\n",
              "      <td>0</td>\n",
              "      <td>0</td>\n",
              "      <td>0</td>\n",
              "      <td>1</td>\n",
              "    </tr>\n",
              "    <tr>\n",
              "      <th>...</th>\n",
              "      <td>...</td>\n",
              "      <td>...</td>\n",
              "      <td>...</td>\n",
              "      <td>...</td>\n",
              "      <td>...</td>\n",
              "      <td>...</td>\n",
              "      <td>...</td>\n",
              "      <td>...</td>\n",
              "      <td>...</td>\n",
              "      <td>...</td>\n",
              "      <td>...</td>\n",
              "    </tr>\n",
              "    <tr>\n",
              "      <th>108</th>\n",
              "      <td>1992</td>\n",
              "      <td>$9,907,922</td>\n",
              "      <td>NaN</td>\n",
              "      <td>NaN</td>\n",
              "      <td>0</td>\n",
              "      <td>0</td>\n",
              "      <td>1</td>\n",
              "      <td>0</td>\n",
              "      <td>0</td>\n",
              "      <td>0</td>\n",
              "      <td>1</td>\n",
              "    </tr>\n",
              "    <tr>\n",
              "      <th>109</th>\n",
              "      <td>1991</td>\n",
              "      <td>$22,580,472</td>\n",
              "      <td>NaN</td>\n",
              "      <td>NaN</td>\n",
              "      <td>0</td>\n",
              "      <td>0</td>\n",
              "      <td>1</td>\n",
              "      <td>0</td>\n",
              "      <td>0</td>\n",
              "      <td>0</td>\n",
              "      <td>1</td>\n",
              "    </tr>\n",
              "    <tr>\n",
              "      <th>110</th>\n",
              "      <td>1999</td>\n",
              "      <td>$32,228,598</td>\n",
              "      <td>NaN</td>\n",
              "      <td>NaN</td>\n",
              "      <td>0</td>\n",
              "      <td>0</td>\n",
              "      <td>1</td>\n",
              "      <td>0</td>\n",
              "      <td>1</td>\n",
              "      <td>0</td>\n",
              "      <td>0</td>\n",
              "    </tr>\n",
              "    <tr>\n",
              "      <th>111</th>\n",
              "      <td>1991</td>\n",
              "      <td>$14,617,333</td>\n",
              "      <td>NaN</td>\n",
              "      <td>NaN</td>\n",
              "      <td>0</td>\n",
              "      <td>0</td>\n",
              "      <td>0</td>\n",
              "      <td>0</td>\n",
              "      <td>0</td>\n",
              "      <td>1</td>\n",
              "      <td>0</td>\n",
              "    </tr>\n",
              "    <tr>\n",
              "      <th>112</th>\n",
              "      <td>1995</td>\n",
              "      <td>$67,222,776</td>\n",
              "      <td>NaN</td>\n",
              "      <td>NaN</td>\n",
              "      <td>0</td>\n",
              "      <td>0</td>\n",
              "      <td>1</td>\n",
              "      <td>0</td>\n",
              "      <td>0</td>\n",
              "      <td>0</td>\n",
              "      <td>1</td>\n",
              "    </tr>\n",
              "  </tbody>\n",
              "</table>\n",
              "<p>113 rows × 11 columns</p>\n",
              "</div>\n",
              "      <button class=\"colab-df-convert\" onclick=\"convertToInteractive('df-dad894dd-d337-477e-9cac-04e09cb1f0d8')\"\n",
              "              title=\"Convert this dataframe to an interactive table.\"\n",
              "              style=\"display:none;\">\n",
              "        \n",
              "  <svg xmlns=\"http://www.w3.org/2000/svg\" height=\"24px\"viewBox=\"0 0 24 24\"\n",
              "       width=\"24px\">\n",
              "    <path d=\"M0 0h24v24H0V0z\" fill=\"none\"/>\n",
              "    <path d=\"M18.56 5.44l.94 2.06.94-2.06 2.06-.94-2.06-.94-.94-2.06-.94 2.06-2.06.94zm-11 1L8.5 8.5l.94-2.06 2.06-.94-2.06-.94L8.5 2.5l-.94 2.06-2.06.94zm10 10l.94 2.06.94-2.06 2.06-.94-2.06-.94-.94-2.06-.94 2.06-2.06.94z\"/><path d=\"M17.41 7.96l-1.37-1.37c-.4-.4-.92-.59-1.43-.59-.52 0-1.04.2-1.43.59L10.3 9.45l-7.72 7.72c-.78.78-.78 2.05 0 2.83L4 21.41c.39.39.9.59 1.41.59.51 0 1.02-.2 1.41-.59l7.78-7.78 2.81-2.81c.8-.78.8-2.07 0-2.86zM5.41 20L4 18.59l7.72-7.72 1.47 1.35L5.41 20z\"/>\n",
              "  </svg>\n",
              "      </button>\n",
              "      \n",
              "  <style>\n",
              "    .colab-df-container {\n",
              "      display:flex;\n",
              "      flex-wrap:wrap;\n",
              "      gap: 12px;\n",
              "    }\n",
              "\n",
              "    .colab-df-convert {\n",
              "      background-color: #E8F0FE;\n",
              "      border: none;\n",
              "      border-radius: 50%;\n",
              "      cursor: pointer;\n",
              "      display: none;\n",
              "      fill: #1967D2;\n",
              "      height: 32px;\n",
              "      padding: 0 0 0 0;\n",
              "      width: 32px;\n",
              "    }\n",
              "\n",
              "    .colab-df-convert:hover {\n",
              "      background-color: #E2EBFA;\n",
              "      box-shadow: 0px 1px 2px rgba(60, 64, 67, 0.3), 0px 1px 3px 1px rgba(60, 64, 67, 0.15);\n",
              "      fill: #174EA6;\n",
              "    }\n",
              "\n",
              "    [theme=dark] .colab-df-convert {\n",
              "      background-color: #3B4455;\n",
              "      fill: #D2E3FC;\n",
              "    }\n",
              "\n",
              "    [theme=dark] .colab-df-convert:hover {\n",
              "      background-color: #434B5C;\n",
              "      box-shadow: 0px 1px 3px 1px rgba(0, 0, 0, 0.15);\n",
              "      filter: drop-shadow(0px 1px 2px rgba(0, 0, 0, 0.3));\n",
              "      fill: #FFFFFF;\n",
              "    }\n",
              "  </style>\n",
              "\n",
              "      <script>\n",
              "        const buttonEl =\n",
              "          document.querySelector('#df-dad894dd-d337-477e-9cac-04e09cb1f0d8 button.colab-df-convert');\n",
              "        buttonEl.style.display =\n",
              "          google.colab.kernel.accessAllowed ? 'block' : 'none';\n",
              "\n",
              "        async function convertToInteractive(key) {\n",
              "          const element = document.querySelector('#df-dad894dd-d337-477e-9cac-04e09cb1f0d8');\n",
              "          const dataTable =\n",
              "            await google.colab.kernel.invokeFunction('convertToInteractive',\n",
              "                                                     [key], {});\n",
              "          if (!dataTable) return;\n",
              "\n",
              "          const docLinkHtml = 'Like what you see? Visit the ' +\n",
              "            '<a target=\"_blank\" href=https://colab.research.google.com/notebooks/data_table.ipynb>data table notebook</a>'\n",
              "            + ' to learn more about interactive tables.';\n",
              "          element.innerHTML = '';\n",
              "          dataTable['output_type'] = 'display_data';\n",
              "          await google.colab.output.renderOutput(dataTable, element);\n",
              "          const docLink = document.createElement('div');\n",
              "          docLink.innerHTML = docLinkHtml;\n",
              "          element.appendChild(docLink);\n",
              "        }\n",
              "      </script>\n",
              "    </div>\n",
              "  </div>\n",
              "  "
            ]
          },
          "metadata": {},
          "execution_count": 13
        }
      ]
    },
    {
      "cell_type": "code",
      "source": [
        "label = my_data[\"revenue\"]\n",
        "my_data = my_data.drop(\"revenue\",axis = 1)"
      ],
      "metadata": {
        "id": "KNewC9Xa5jnJ"
      },
      "execution_count": null,
      "outputs": []
    },
    {
      "cell_type": "code",
      "source": [
        "label = label.str.replace('$', '')\n",
        "label =label.str.replace(',', '').astype(float)"
      ],
      "metadata": {
        "colab": {
          "base_uri": "https://localhost:8080/"
        },
        "id": "s_pdYVoAfQio",
        "outputId": "ec93b0ba-4c34-44b0-c786-7b57434f7f91"
      },
      "execution_count": null,
      "outputs": [
        {
          "output_type": "stream",
          "name": "stderr",
          "text": [
            "/usr/local/lib/python3.7/dist-packages/ipykernel_launcher.py:1: FutureWarning: The default value of regex will change from True to False in a future version. In addition, single character regular expressions will *not* be treated as literal strings when regex=True.\n",
            "  \"\"\"Entry point for launching an IPython kernel.\n"
          ]
        }
      ]
    },
    {
      "cell_type": "code",
      "source": [
        "knnimputerFile = open(\"knnimputer.pkl\", \"rb\")\n",
        "knnimputer = pickle.load(knnimputerFile)\n",
        "knnimputerFile.close()\n"
      ],
      "metadata": {
        "id": "-nLWYOzu5suq"
      },
      "execution_count": null,
      "outputs": []
    },
    {
      "cell_type": "code",
      "source": [
        "def dataImputation(my_data):\n",
        "  Xtrans = knnimputer.transform(my_data)\n",
        "  my_data = pd.DataFrame(Xtrans, columns=my_data.columns)\n",
        "  for col in my_data.columns:\n",
        "    my_data[col] = my_data[col].astype(int)\n",
        "  return my_data\n",
        "my_data = dataImputation(my_data)"
      ],
      "metadata": {
        "id": "KBnL1tJA7xUW"
      },
      "execution_count": null,
      "outputs": []
    },
    {
      "cell_type": "code",
      "source": [
        "x = my_data"
      ],
      "metadata": {
        "id": "cugcfkaN8Yv3"
      },
      "execution_count": null,
      "outputs": []
    },
    {
      "cell_type": "code",
      "source": [
        "droppedColsFile = open(\"droppedColsForRegg.pkl\", \"rb\")\n",
        "droppedcols = pickle.load(droppedColsFile)\n",
        "droppedColsFile.close()\n"
      ],
      "metadata": {
        "id": "WcBeuMaQ9bwa"
      },
      "execution_count": null,
      "outputs": []
    },
    {
      "cell_type": "code",
      "source": [
        "droppedcols"
      ],
      "metadata": {
        "id": "06IxbDr19rl0",
        "colab": {
          "base_uri": "https://localhost:8080/"
        },
        "outputId": "de3c30e0-d3b5-48f8-89ec-df9c99ff3240"
      },
      "execution_count": null,
      "outputs": [
        {
          "output_type": "execute_result",
          "data": {
            "text/plain": [
              "['director', 'PG', 'PG-13', 'Comedy', 'Drama']"
            ]
          },
          "metadata": {},
          "execution_count": 21
        }
      ]
    },
    {
      "cell_type": "code",
      "source": [
        "for col in droppedcols:\n",
        "  x = x.drop(col, axis = 1)"
      ],
      "metadata": {
        "id": "LevywetZ9vnA"
      },
      "execution_count": null,
      "outputs": []
    },
    {
      "cell_type": "code",
      "source": [
        "model = open(\"poly.sav\", \"rb\")\n",
        "poly = pickle.load(model)\n",
        "model.close()\n",
        "\n",
        "model = open(\"polyFeatures.sav\", \"rb\")\n",
        "poly_features =  pickle.load(model)\n",
        "model.close()\n",
        "\n",
        "ypred = poly.predict(poly_features.transform(x))\n",
        "\n",
        "print('Mean Square Error test', metrics.mean_squared_error(label, ypred))\n",
        "print(\"r2 score for the test\",metrics.r2_score(label, ypred))"
      ],
      "metadata": {
        "colab": {
          "base_uri": "https://localhost:8080/"
        },
        "id": "_TbbQkXBXENE",
        "outputId": "503ac3fb-ebfe-416b-ef0d-1b2e7e9cbc9b"
      },
      "execution_count": null,
      "outputs": [
        {
          "output_type": "stream",
          "name": "stdout",
          "text": [
            "Mean Square Error test 3.1097894924424616e+16\n",
            "r2 score for the test 0.4011131304089207\n"
          ]
        }
      ]
    },
    {
      "cell_type": "code",
      "source": [
        "model = open(\"LR.sav\", \"rb\")\n",
        "cls = pickle.load(model)\n",
        "model.close()\n",
        "prediction= cls.predict(x)\n",
        "print('Mean Square Error', metrics.mean_squared_error(label, prediction))\n",
        "print(\"r2 score for the test\",metrics.r2_score(label, prediction))"
      ],
      "metadata": {
        "colab": {
          "base_uri": "https://localhost:8080/"
        },
        "id": "8h0xWMHnmLNw",
        "outputId": "e327ea10-733c-418a-e259-3ed49c112ba3"
      },
      "execution_count": null,
      "outputs": [
        {
          "output_type": "stream",
          "name": "stdout",
          "text": [
            "Mean Square Error 4.541970562708585e+16\n",
            "r2 score for the test 0.12530203774694704\n"
          ]
        }
      ]
    }
  ]
}